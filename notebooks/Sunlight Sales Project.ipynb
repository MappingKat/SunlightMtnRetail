{
 "cells": [
  {
   "cell_type": "code",
   "execution_count": null,
   "id": "44457917",
   "metadata": {},
   "outputs": [],
   "source": [
    "import python_weather\n",
    "import asyncio\n",
    "\n",
    "from pandas.tseries.holiday import USFederalHolidayCalendar\n",
    "import holidays "
   ]
  },
  {
   "cell_type": "code",
   "execution_count": null,
   "id": "14a3fd64",
   "metadata": {},
   "outputs": [],
   "source": [
    "# categories_list = pd.read_csv('../data/raw/category-list.csv')\n",
    "# inconsistent_categories = set(products['Category']).difference(categories_list)\n",
    "# print(len(inconsistent_categories))\n",
    "\n",
    "sales_csv = \"../data/raw/Sales 1-3-2024.csv\"\n",
    "sales_category_excel = \"../data/raw/Sales_By_Category_20231226_1648.xlsx\"\n",
    "sales_history_csv = \"../data/raw/Sales/2023 - Sunlight Ski and Bike Shop.csv\"\n",
    "# sales_cat = pd.read_excel(sales_category_excel)"
   ]
  }
 ],
 "metadata": {
  "kernelspec": {
   "display_name": "Python 3 (ipykernel)",
   "language": "python",
   "name": "python3"
  },
  "language_info": {
   "codemirror_mode": {
    "name": "ipython",
    "version": 3
   },
   "file_extension": ".py",
   "mimetype": "text/x-python",
   "name": "python",
   "nbconvert_exporter": "python",
   "pygments_lexer": "ipython3",
   "version": "3.11.4"
  }
 },
 "nbformat": 4,
 "nbformat_minor": 5
}
