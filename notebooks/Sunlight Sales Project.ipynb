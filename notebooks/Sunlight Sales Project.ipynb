{
 "cells": [
  {
   "cell_type": "code",
   "execution_count": null,
   "id": "44457917",
   "metadata": {},
   "outputs": [],
   "source": [
    "import python_weather\n",
    "import asyncio\n",
    "\n",
    "from pandas.tseries.holiday import USFederalHolidayCalendar\n",
    "import holidays "
   ]
  },
  {
   "cell_type": "markdown",
   "id": "3d326fb0",
   "metadata": {},
   "source": [
    "When are sales best? Is it correlated with weather? Snow for the mountain? Holidays? COVID because everytone had to get outside"
   ]
  },
  {
   "cell_type": "code",
   "execution_count": null,
   "id": "02740516",
   "metadata": {},
   "outputs": [],
   "source": [
    "Compare sales data with placer cell phone data. Can we find trends and do some forecasting??\n"
   ]
  },
  {
   "cell_type": "code",
   "execution_count": null,
   "id": "14a3fd64",
   "metadata": {},
   "outputs": [],
   "source": [
    "# categories_list = pd.read_csv('../data/raw/category-list.csv')\n",
    "# inconsistent_categories = set(products['Category']).difference(categories_list)\n",
    "# print(len(inconsistent_categories))\n",
    "\n",
    "sales_csv = \"../data/raw/Sales 1-3-2024.csv\"\n",
    "sales_category_excel = \"../data/raw/Sales_By_Category_20231226_1648.xlsx\"\n",
    "sales_history_csv = \"../data/raw/Sales/2023 - Sunlight Ski and Bike Shop.csv\"\n",
    "# sales_cat = pd.read_excel(sales_category_excel)"
   ]
  },
  {
   "cell_type": "code",
   "execution_count": null,
   "id": "b33f35cb",
   "metadata": {},
   "outputs": [],
   "source": [
    "async def get_weather(city):\n",
    "    async with python_weather.Client(unit=python_weather.IMPERIAL) as client:\n",
    "        weather = await client.get(city)\n",
    "        return weather\n",
    "\n",
    "# Assuming you have a DataFrame 'historic_data' with a 'date' column\n",
    "sales['weather_type'] = None  # Initialize the new column\n",
    "sales['SaleDate'] = pd.to_datetime(sales['SaleDate'])\n",
    "# Loop through each row in the DataFrame\n",
    "for index, row in sales.iterrows():\n",
    "    date = row['SaleDate']\n",
    "    \n",
    "    # Convert the date to a string in the format used by the weather API\n",
    "    date_str = date.strftime('%Y-%m-%d')\n",
    "    \n",
    "    # Use the get_weather function to fetch weather data for the date\n",
    "    weather = asyncio.run(get_weather('Glenwood Springs'))  # Replace 'New York' with your city\n",
    "\n",
    "    # Extract the weather information you are interested in (e.g., description, main, etc.)\n",
    "    weather_type = weather.current.weather['description']\n",
    "    \n",
    "    # Assign the weather type to the corresponding row in the DataFrame\n",
    "    sales.at[index, 'weather_type'] = weather_type\n",
    "\n",
    "# Display the updated DataFrame\n",
    "sales.head()"
   ]
  },
  {
   "cell_type": "code",
   "execution_count": null,
   "id": "fce47a79",
   "metadata": {},
   "outputs": [],
   "source": [
    "def is_holiday(x): \n",
    "    usa_holidays = holidays.UnitedStates()  # Use 'UnitedStates' instead of 'country_holidays('USA')'\n",
    "    if x in usa_holidays:  # Check if the date is in the list of holidays\n",
    "        return 1\n",
    "    else:\n",
    "        return 0\n",
    "\n",
    "sales['holidays'] = sales['SaleDate'].apply(is_holiday) "
   ]
  }
 ],
 "metadata": {
  "kernelspec": {
   "display_name": "Python 3 (ipykernel)",
   "language": "python",
   "name": "python3"
  },
  "language_info": {
   "codemirror_mode": {
    "name": "ipython",
    "version": 3
   },
   "file_extension": ".py",
   "mimetype": "text/x-python",
   "name": "python",
   "nbconvert_exporter": "python",
   "pygments_lexer": "ipython3",
   "version": "3.11.4"
  }
 },
 "nbformat": 4,
 "nbformat_minor": 5
}
