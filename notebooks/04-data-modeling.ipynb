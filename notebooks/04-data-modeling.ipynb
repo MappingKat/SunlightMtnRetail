{
 "cells": [
  {
   "cell_type": "markdown",
   "id": "20a998a4",
   "metadata": {},
   "source": [
    "# 4. Data Modeling\n",
    "* [4 Training Data](#2_Data_training_introduction)\n",
    "  * [4.1 Dummy Variables/One Hot Encoding for Categorical](#3.1_one_hot_encoding)\n",
    "  * [4.2 Standardize Numerical Data](#3.2_standardize)\n",
    "  * [4.3 Testing Training](#3.3_testing_training)\n",
    " * [4.2 Summary](#3.7_Summary)"
   ]
  },
  {
   "cell_type": "code",
   "execution_count": null,
   "id": "ccfac30b",
   "metadata": {},
   "outputs": [],
   "source": [
    "# import pandas as pd\n",
    "# from sklearn.feature_extraction.text import CountVectorizer\n",
    "# from sklearn.preprocessing import OneHotEncoder, StandardScaler\n",
    "# from sklearn.compose import ColumnTransformer\n",
    "# from sklearn.pipeline import Pipeline\n",
    "# from sklearn.model_selection import train_test_split\n",
    "\n",
    "from sklearn.linear_model import LogisticRegression\n",
    "from sklearn.metrics import classification_report\n",
    "\n",
    "import nltk\n",
    "from nltk.corpus import stopwords\n",
    "nltk.download('stopwords')"
   ]
  },
  {
   "cell_type": "code",
   "execution_count": null,
   "id": "ba5ed069",
   "metadata": {},
   "outputs": [],
   "source": [
    "# Text preprocessing for 'Description'\n",
    "stop_words = set(stopwords.words('english'))\n",
    "vectorizer = CountVectorizer(stop_words=stop_words)\n",
    "\n",
    "# Apply vectorizer to 'Description' column\n",
    "description_bow = vectorizer.fit_transform(data['Description'])"
   ]
  },
  {
   "cell_type": "code",
   "execution_count": null,
   "id": "484c49b1",
   "metadata": {},
   "outputs": [],
   "source": [
    "from sklearn.cluster import KMeans\n",
    "from sklearn.preprocessing import OneHotEncoder\n",
    "\n",
    "# Create a OneHotEncoder object with sparse_output argument\n",
    "encoder = OneHotEncoder(sparse_output=False)\n",
    "\n",
    "# Fit the encoder on the Brand feature\n",
    "encoded_brand = encoder.fit_transform(df[['Brand']])\n",
    "\n",
    "# Combine encoded Brand with numerical features (assuming you have some)\n",
    "combined_features = pd.concat([encoded_brand, df[['NEWCategory']]], axis=1)\n",
    "\n",
    "# Use combined_features for KMeans clustering\n",
    "kmeans = KMeans(n_clusters=num_clusters, random_state=42)\n",
    "kmeans.fit(combined_features)"
   ]
  },
  {
   "cell_type": "markdown",
   "id": "58b7bceb",
   "metadata": {},
   "source": [
    "Resources: \n",
    "- [blog post](https://towardsdatascience.com/document-embedding-techniques-fed3e7a6a25d)\n",
    "- [textcategorizer](https://spacy.io/api/textcategorizer)\n",
    "- [doc2vec](https://radimrehurek.com/gensim/auto_examples/tutorials/run_doc2vec_lee.html#sphx-glr-auto-examples-tutorials-run-doc2vec-lee-py)\n",
    "- [vec regression](https://towardsdatascience.com/multi-class-text-classification-with-doc2vec-logistic-regression-9da9947b43f4)"
   ]
  },
  {
   "cell_type": "code",
   "execution_count": null,
   "id": "198403ca",
   "metadata": {},
   "outputs": [],
   "source": []
  }
 ],
 "metadata": {
  "kernelspec": {
   "display_name": "Python 3 (ipykernel)",
   "language": "python",
   "name": "python3"
  },
  "language_info": {
   "codemirror_mode": {
    "name": "ipython",
    "version": 3
   },
   "file_extension": ".py",
   "mimetype": "text/x-python",
   "name": "python",
   "nbconvert_exporter": "python",
   "pygments_lexer": "ipython3",
   "version": "3.11.4"
  }
 },
 "nbformat": 4,
 "nbformat_minor": 5
}
