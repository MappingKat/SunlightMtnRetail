{
 "cells": [
  {
   "cell_type": "markdown",
   "id": "f07e5b06",
   "metadata": {},
   "source": [
    "## 2 Data Wrangling<a id='2_Data_Wrangling'></a>\n",
    "* [2 Data wrangling](#2_Data_wrangling_introduction)\n",
    "  * [2.1 Introduction](#2.1_Introduction)\n",
    "  * [2.3 Product Data Exploration](#2.3_Product)\n",
    "  * [2.4 Sales Data Exploration](#2.4_Sales)\n",
    " * [2.7 Summary](#2.7_Summary)"
   ]
  },
  {
   "cell_type": "markdown",
   "id": "f963fe69",
   "metadata": {},
   "source": [
    "## Introduction <a href=\"#2_1_Introduction\"></a>"
   ]
  },
  {
   "cell_type": "markdown",
   "id": "2cdb1d0b",
   "metadata": {},
   "source": [
    "Next, we will embark on EDA, utilizing visualization techniques and statistical analysis to explore patterns and relationships within the data. We will examine the distribution of products across categories, identify correlations between sales and various attributes, and uncover hidden insights within customer purchase behavior. The goal is to paint a picture of the \"before\" status of the data to show how much cleaning and imporoving the data quality will help with painting a clearer pitcure of inventory and purchasing behavior.\n",
    "\n",
    "Let's start with importing the visualization and statistical libraries:"
   ]
  },
  {
   "cell_type": "code",
   "execution_count": 1,
   "id": "df2060c8",
   "metadata": {},
   "outputs": [
    {
     "name": "stderr",
     "output_type": "stream",
     "text": [
      "/opt/homebrew/anaconda3/lib/python3.11/site-packages/pandas/core/arrays/masked.py:60: UserWarning: Pandas requires version '1.3.6' or newer of 'bottleneck' (version '1.3.5' currently installed).\n",
      "  from pandas.core import (\n"
     ]
    },
    {
     "name": "stdout",
     "output_type": "stream",
     "text": [
      "Libraries Loaded\n"
     ]
    }
   ],
   "source": [
    "import pandas as pd\n",
    "\n",
    "#Visualization\n",
    "import matplotlib.pyplot as plt\n",
    "import seaborn as sns\n",
    "sns.set()\n",
    "\n",
    "# Statistics\n",
    "import sklearn\n",
    "from sklearn.datasets import make_blobs\n",
    "from sklearn.cluster import KMeans\n",
    "from sklearn.metrics import silhouette_samples, silhouette_score\n",
    "\n",
    "# Word frequency\n",
    "from collections import Counter\n",
    "from wordcloud import WordCloud\n",
    "\n",
    "# Part-of-speech tagging\n",
    "import spacy\n",
    "\n",
    "from Levenshtein import distance\n",
    "\n",
    "print(\"Libraries Loaded\")"
   ]
  },
  {
   "cell_type": "markdown",
   "id": "a77f0a8b",
   "metadata": {},
   "source": [
    "## 2.2 Product Data Exploration <a id='2.2_Product'></a>"
   ]
  },
  {
   "cell_type": "markdown",
   "id": "1acae3cc",
   "metadata": {},
   "source": [
    "First, let's get more insight into the product and category data. The description data is where all of the product information is stored. Sunlight started using a new naming convention in descriptions that have *Brand - Product Description - Color - Size\"*. And Categories have a similar new layout with parent categories starting off followed by child categories, like *Bikes - Mountain Bikes - Hardtails*.\n",
    "\n",
    "What are the lengths of the Descriptions and Categories? What are some dominant words?"
   ]
  },
  {
   "cell_type": "markdown",
   "id": "24389ac3",
   "metadata": {},
   "source": [
    "I want to load the product data and do some initial exploration on the category, brand, size, color, MSRP (the price), and cost fields. I hope to gain a further understanding of Sunlight's products and the distribution of sizes, colors, costs, etc.  \n"
   ]
  },
  {
   "cell_type": "code",
   "execution_count": 2,
   "id": "f484732c",
   "metadata": {},
   "outputs": [
    {
     "name": "stdout",
     "output_type": "stream",
     "text": [
      "Number of documents: 10000\n",
      "Number of categories: 238\n"
     ]
    }
   ],
   "source": [
    "products = pd.read_csv(\"../data/raw/Products-Mar-18.csv\", encoding='latin1')\n",
    "\n",
    "# Number of documents and categories\n",
    "print(\"Number of documents:\", len(products))\n",
    "print(\"Number of categories:\", products[\"Category\"].nunique())"
   ]
  },
  {
   "cell_type": "markdown",
   "id": "e37598dc",
   "metadata": {},
   "source": [
    "The goal of this project is to classify the product categories more accurately, so let's look at the top words per category to get a better sense of the data. "
   ]
  },
  {
   "cell_type": "code",
   "execution_count": 3,
   "id": "cf39c707",
   "metadata": {},
   "outputs": [
    {
     "name": "stdout",
     "output_type": "stream",
     "text": [
      "Top words per category: {nan: [], 'Parts - Stems': [('-', 7), ('adjustable', 6), ('stem', 6), ('black', 4), ('blendr', 4), ('Stem', 3), ('Bontrager', 3), ('|', 3), ('25.4', 2), ('clamp', 2)], 'Parts - Seatposts': [('-', 26), ('seatpost', 12), ('clamp', 12), ('Part', 8), ('black', 8), ('alloy', 7), ('Seatpost', 7), ('remote', 4), ('dropper', 4), ('silver', 4)], 'Logo Merchandise - Impulse': [('-', 107), ('sunlight', 72), ('Tgt', 68), ('sticker', 65), ('logo', 20), ('Silipint', 19), ('oz.', 16), ('mountain', 11), ('glass', 10), ('16', 9)], 'Clothing - Winter - Street Wear': [('-', 45), ('black', 10), ('hoodie', 9), ('Jones', 7), (\"m's\", 7), ('organic', 7), ('cotton', 7), ('s', 6), ('Ski', 6), ('&', 6)], 'Logo Merchandise - Clothing - Street Wear': [('-', 334), ('tee', 84), ('sunlight', 50), ('Sunlight', 42), ('hanes', 31), ('xl', 30), ('comfort', 30), ('wash', 30), ('m', 29), ('l', 28)], 'Logo Merchandise - Clothing - Performance/Tech Tee': [('-', 90), ('sunlight', 28), ('logo', 25), ('Club', 13), ('Ride', 13), ('tee', 12), ('Gear', 11), ('performance', 10), ('heather', 9), ('xl', 9)], 'Logo Merchandise - Clothing - Pullover Hoodies': [('-', 12), ('Arched', 6), ('Sunlight', 6), ('af', 6), ('pullover', 6), ('hood', 6), ('twist', 6), ('pitch', 4), ('grey', 4), ('xl', 2)], 'Logo Merchandise - Clothing - Short Sleeve T-Shirt': [('-', 16), ('sizes', 5), ('Blue', 4), ('84', 4), ('nochian', 4), ('v3', 4), ('mountain', 4), ('sst', 4), ('glacier', 4), ('Sturdybuilt', 2)], 'Logo Merchandise - Clothing - Long Sleeve Shirts': [('-', 24), ('Blue', 6), ('84', 6), ('mountain', 6), ('lst', 6), ('sizes', 4), ('Sturdybuilt', 3), ('Saltwater', 3), ('spry', 3), ('chairlift', 3)], 'Snowboard Hardgoods - Boards - Women': [('-', 62), ('snowboard', 26), (\"w's\", 12), ('Salomon', 8), ('Never', 8), ('Summer', 8), ('Jones', 8), ('black', 7), ('23/24', 6), (\"women's\", 5)], 'Snowboard Hardgoods - Boards - Men': [('-', 199), ('snowboard', 86), (\"m's\", 35), ('Never', 24), ('Summer', 24), ('Jones', 20), ('black', 17), ('Yes', 16), ('Salomon', 14), ('23/24', 13)], 'Clothing - Winter - Street Wear - Mens': [('-', 57), ('hoodie', 13), (\"m's\", 13), ('Icon', 12), ('Tee', 10), ('black', 9), ('pullover', 6), ('l', 6), ('fir', 6), ('medium', 6)], 'Accessories - Winter - Boot Accessories': [('-', 126), ('insoles', 34), ('comfort', 21), ('Wintersteiger', 20), ('bd', 20), ('arch', 20), ('Masterfit', 17), ('Full', 16), ('Tilt', 16), ('fte', 16)], 'Accessories - Winter - Helmets': [('-', 313), ('helmet', 89), ('mips', 73), ('matte', 62), ('Smith', 58), ('black', 41), ('small', 20), ('Giro', 19), ('mission', 16), ('s', 16)], 'Accessories - Summer - Helmets - Adult': [('-', 124), ('helmet', 39), ('mips', 32), ('black', 21), ('Foxhead', 20), ('Helmet', 20), ('Bontrager', 20), ('cpsc', 20), ('matte', 14), ('l', 12)], 'Clothing - Winter - Outerwear': [('-', 56), ('black', 51), ('m', 43), ('Jacket', 37), ('s', 35), ('jacket', 34), ('l', 32), ('pant', 30), ('2l', 26), ('xl', 26)], 'Accessories - Winter - Gloves & Mittens': [('-', 862), ('glove', 136), ('Dakine', 136), ('black', 132), ('mitt', 83), ('l', 79), ('gore-tex', 78), ('m', 71), ('s', 60), ('liner', 58)], 'Parts - Saddles': [('black', 11), ('Saddle', 9), ('-', 6), ('saddle', 5), ('Bontrager', 5), ('Electra', 3), ('boulevard', 3), ('Selle', 2), ('Royal', 2), ('avenue', 2)], 'Parts - Grips and Tape - Grips': [('-', 29), ('grips', 14), ('Bike', 8), ('Works', 8), ('screw-on', 8), ('130mm', 8), ('Wolf', 4), ('fat', 4), ('paw', 4), ('Tooth', 3)], 'Parts - Cranks & Chainrings': [('-', 65), ('chainring', 20), ('black', 19), ('bolt', 9), ('32t', 9), ('Truvativ', 7), ('eagle', 6), ('crank', 6), ('direct', 5), ('mount', 5)], 'Parts - Frame parts': [('-', 4), ('Derailleur', 2), ('Hanger', 2), ('dropout', 2), ('mount', 2), ('black', 2), ('Giant', 2), ('Roadlink', 1), ('10sp', 1), ('shimano', 1)], 'Parts - Hubs & Skewers': [('-', 8), ('black', 5), ('hub', 5), ('axle', 4), ('Skewer', 4), ('Hub', 4), ('Part', 4), ('Axle', 3), ('Nut', 3), ('Trek', 3)], 'Parts - Tools': [('-', 40), ('Tool', 14), ('Park', 12), ('kit', 9), ('wrench', 7), ('and', 5), ('tire', 5), ('set', 5), ('Muc-off', 5), ('for', 4)], 'Ski Hardgoods': [('-', 11), ('Wintersteiger', 3), ('bd', 3), ('insoles', 3), ('comfort', 3), ('high', 3), ('arch', 3), ('270', 1), ('260', 1), ('240', 1)], 'Accessories - Winter - Technology': [('xlp', 11), ('pr', 8), ('bt', 7), ('Heat', 5), ('1p', 4), ('Hotronic', 3), ('socks', 3), ('surround', 3), ('comfort', 3), ('-', 3)], 'Accessories - Summer - Hats & Ball Caps': [('-', 209), ('hat', 43), ('trucker', 35), ('osfa', 31), ('cap', 23), ('Tabletop', 17), ('Creations', 17), ('black', 14), ('Locale', 14), ('Dakine', 13)], 'Parts - Screws, Bolts and Fasteners': [('bolt', 5), ('kit', 4), ('axle', 3), ('1', 3), ('screw', 3), ('socket', 3), ('cap', 3), ('head', 3), ('Wmfg', 2), ('Outer', 2)], 'Parts - Derailleurs': [('-', 53), ('derailleur', 43), ('hanger', 32), ('Derailleur', 19), ('dropout', 16), ('black', 15), ('Hanger', 14), ('Shimano', 14), ('rear', 13), ('sp', 12)], 'Parts - Wheels': [('wheel', 6), ('J&b', 5), ('26x1.5', 4), ('Wheel', 4), ('bontrager', 4), ('black', 4), ('x', 3), ('700c', 3), ('Rear', 3), ('rear', 3)], 'Parts - Headsets': [('headset', 10), ('-', 7), ('black', 6), ('spacer', 5), ('Wheels', 3), ('Manufacturing', 3), ('aluminum', 3), ('1-1/8', 3), ('5-pack', 3), ('Part', 3)], 'Parts - Wheels - Front': [('Wheel', 3), ('-', 2), ('disc', 2), ('Front', 2), ('bontrager', 2), ('black', 2), ('Master', 1), ('alloy', 1), ('mountain', 1), ('double', 1)], 'Parts - Pedals': [('Pedal', 9), ('Deftrap', 9), ('Pedals', 9), ('black', 8), ('-', 7), ('pedals', 6), ('red', 3), ('pair', 3), ('spd', 3), ('cleats', 2)], 'Accessories - Winter': [('-', 20), ('Union', 3), ('rover', 2), ('Dakine', 2), ('heli', 2), ('strap', 2), ('t2', 2), ('osfm', 2), ('Sunlight', 1), ('Logo', 1)], 'Logo Merchandise - Clothing - Buffs/Facemasks': [('-', 24), ('osfa', 7), ('Screamer', 6), ('neckwarmer', 5), ('facemask', 2), ('Locale', 2), ('sunlight', 2), ('Sunlight', 1), ('Custom', 1), ('fitted', 1)], 'Winter Demo': [('-', 268), ('Demo', 114), ('black', 32), ('snowboard', 22), ('23/24', 20), ('ski', 17), ('Ski', 16), ('salomon', 16), ('summer', 16), ('skis', 15)], 'Clothing - Winter - Outerwear - Mens - Pants': [(\"Men's\", 7), ('-', 6), ('pants', 6), ('l', 4), ('m', 3), ('pant', 3), ('Reserve', 3), ('2l', 3), ('bib', 3), ('almandine', 3)], 'Clothing - Winter - Outerwear - Mens - Jackets': [('-', 27), ('jacket', 18), (\"Men's\", 13), ('2l', 10), ('Quiksilver', 8), ('l', 7), ('s', 7), ('snowjacket', 6), ('xl', 6), ('cub', 5)], 'Accessories - Summer - Nutrition': [('-', 4), ('Vibes', 2), ('fruity', 2), ('stars', 2), ('with', 2), ('Supplement', 2), (\"Kate's\", 2), ('real', 2), ('food', 2), ('bar', 2)], 'Parts - Rims': [('-', 13), ('rim', 10), ('Velox', 5), ('tape', 5), ('bontrager', 5), ('cloth', 4), ('tlr', 4), ('black', 4), ('strip', 3), ('Rim', 3)], 'Parts - Tires': [('-', 77), ('x', 45), ('Tire', 42), ('Bontrager', 37), ('tire', 33), ('folding', 21), ('black', 17), ('Maxxis', 14), ('tubeless', 13), ('team', 12)], 'Accessories - Winter - Apres & Casual Footwear': [('-', 90), ('Vans', 21), ('standard', 13), ('mte', 13), ('snow', 13), ('boots', 12), ('mid', 12), ('chelsea', 10), ('walnut/gum', 10), ('Line', 9)], 'Snowboard Hardgoods - Boots - Men': [('-', 390), ('snowboard', 125), ('boots', 111), ('boa', 63), (\"m's\", 54), ('Burton', 51), ('black', 44), ('Thirty', 31), ('Two', 31), ('black/white', 28)], 'Snowboard Hardgoods - Boots': [('-', 221), ('Thirty', 39), ('Two', 39), (\"'23\", 36), ('boa', 35), ('Vans', 28), ('snowboard', 25), ('boots', 25), (\"m's\", 23), (\"w's\", 18)], 'Snowboard Hardgoods - Boots - Women': [('-', 249), (\"w's\", 75), ('snowboard', 68), ('boa', 66), ('boots', 59), ('black', 35), ('Burton', 33), ('Thirty', 25), ('Two', 25), ('double', 19)], 'Snowboard Hardgoods - Bindings - Women': [('-', 159), ('bindings', 34), ('Union', 33), (\"w's\", 32), ('black', 30), ('m', 26), ('snowboard', 20), ('s', 20), ('Burton', 20), ('l', 15)], 'Accessories - Winter - Hats, Hoods, Collars': [('-', 659), ('beanie', 173), ('osfa', 137), ('Coal', 77), ('black', 71), ('osfm', 60), ('Beanie', 49), ('Cg', 44), ('Habitats', 43), ('o/s', 35)], 'Snowboard Hardgoods - Bindings - Men': [('-', 234), ('bindings', 56), (\"m's\", 47), ('black', 39), ('Union', 35), ('snowboard', 34), ('l', 32), ('m', 29), ('Now', 20), ('s', 17)], 'Snowboard Hardgoods - Accessories/Parts': [('-', 19), ('Saa', 8), ('snowboard', 5), ('Now', 4), ('kit', 4), ('black', 4), ('Union', 3), ('disk', 3), ('kingpin', 3), ('tool-less', 3)], 'Snowboard Hardgoods - Bindings': [('-', 127), ('bindings', 30), ('Union', 21), ('m', 15), ('s', 12), ('black', 12), ('snowboard', 11), ('l', 10), ('Salomon', 10), (\"m's\", 7)], 'Snowboard Hardgoods - Bindings - Junior': [('-', 40), ('Union', 11), ('cadet', 11), ('black', 5), ('pro', 4), ('bindings', 4), ('snowboard', 3), ('s', 3), ('ys', 3), ('ym', 3)], 'Clothing - Sweatshirts': [('-', 89), ('hood', 22), ('Under', 12), ('Armour', 12), ('logo', 12), ('tech', 12), ('heather', 10), ('Gear', 10), ('For', 10), ('sports', 10)], 'Ski Hardgoods - Bindings - Alpine': [('-', 99), ('Salomon', 19), ('binding', 19), ('black', 18), ('mnc', 17), ('bindings', 15), ('13', 14), ('n', 14), ('Marker', 13), ('11', 12)], 'Ski Hardgoods - Parts': [('-', 18), ('brake', 7), ('95', 4), ('set', 4), ('Tyrolia', 3), ('Marker', 3), ('power', 2), ('race', 2), ('pro', 2), ('[a]', 2)], 'Ski Hardgoods - Skis - System': [('-', 22), ('gw', 6), ('jrs', 5), ('junior', 5), ('system', 5), ('Armada', 5), ('84', 5), ('r', 5), ('+', 5), ('(short)', 4)], 'Ski Hardgoods - Bindings': [('-', 30), ('brake', 9), ('Salomon', 7), ('gw', 6), ('set', 6), ('black', 5), ('1x2', 5), ('ski', 5), ('bindings', 5), ('12', 4)], 'Parts - Bottom Brackets': [('-', 13), ('Bb', 5), ('bottom', 5), ('bracket', 5), ('english', 4), ('Shimano', 4), ('Truvativ', 2), ('spline', 2), ('bb', 2), ('black', 2)], 'Logo Merchandise - Clothing - Jerseys': [('-', 2), ('Sram', 1), ('xx1', 1), ('gxp', 1), ('direct', 1), ('mount', 1), ('crank', 1), ('set', 1), ('175mm,', 1), ('32t', 1)], 'Parts - Fenders': [('Fender', 3), ('Part', 1), ('trek-diamant', 1), ('sks', 1), ('stay', 1), ('53x310mm', 1), ('silver', 1), ('Sks', 1), ('shockblade', 1), ('dark', 1)], 'Bikes - Kids': [('24', 4), ('12', 3), ('viper', 2), ('black', 2), ('-', 2), ('Precaliber', 2), ('20', 2), ('Wahoo', 1), ('redtrek', 1), ('Trek', 1)], 'Bikes - Hybrid': [('disc', 22), ('Verve', 18), ('low', 11), ('step', 11), ('2', 11), ('3', 10), ('m', 8), ('blue', 7), ('l', 6), ('rage', 6)], 'Bikes - Electric - Cruiser': [('Verve', 2), ('2', 2), ('lowstep', 2), ('us', 2), ('s', 2), ('-', 2), ('matte', 1), ('metallic', 1), ('gunmetal', 1), ('magenta', 1)], 'Accessories - Summer - Waterbottles & Cages': [('-', 18), ('black', 7), ('cage', 6), ('Bottle', 6), ('Cage', 6), ('Salomon', 5), ('pulse', 5), ('belt', 5), ('elite', 4), ('Bontrager', 4)], 'Bikes - Mountain - Full Suspension': [('Fuel', 8), ('29', 8), ('8', 7), ('xt', 6), ('5', 6), ('deore', 6), ('ml', 6), ('Ex', 6), ('l', 5), ('lithium', 4)], 'Bikes - Mountain - Full Suspension - Mens': [('Fuel', 3), ('8', 3), ('matte', 3), ('Top', 2), ('xt', 2), ('29', 2), ('l', 1), ('crimson', 1), ('7', 1), ('deorext', 1)], 'Parts - Suspension': [('-', 23), ('kit', 20), ('Suspension', 17), ('Part', 17), ('trek', 14), ('x', 13), ('black', 13), ('dust', 12), ('wiper', 10), ('bolt', 8)], 'Parts - Bearings': [('bearing', 19), ('Cartridge', 10), ('x', 7), ('Abec-3', 7), ('Bearing', 6), ('cartridge', 6), ('6801v', 3), ('-', 3), ('kit', 3), (\"'17\", 3)], 'Bikes - Mountain - Hardtail': [('Marlin', 38), ('29', 23), ('5', 20), ('27.5', 13), ('gloss', 12), ('8', 11), ('fade', 11), ('green', 11), ('black', 10), ('radioactive', 10)], 'Parts - Shifters': [('-', 40), ('shifter', 16), ('Sram', 14), ('rear', 7), ('comp', 7), ('Shimano', 7), ('black', 6), ('trigger', 6), ('sp', 5), ('mrx', 5)], 'Bikes - Kids - Girls': [('16', 2), ('Precaliber', 1), ('girls', 1), ('cb', 1), ('ultraviolet', 1), ('Sprocket', 1), ('1', 1), ('20in', 1), (\"girls'\", 1), ('20', 1)], 'Bikes - Electric - Mountain': [('4', 2), ('Powerfly', 1), ('us', 1), ('s', 1), ('27.5', 1), ('matte', 1), ('black/gloss', 1), ('red', 1), ('gen', 1)], 'Summer Demo': [('-', 23), ('Demo', 19), ('black', 14), ('dnister', 10), ('m', 9), ('matte', 9), ('29', 8), ('us', 7), ('Bike', 7), ('deore', 6)], 'Accessories - Summer - Lights': [('-', 35), ('light', 20), ('black', 14), ('Blackburn', 14), ('front', 11), ('rear', 9), ('dayblazer', 7), ('Light', 6), ('usb', 5), ('tail', 4)], 'Parts - Brakes': [('-', 30), ('brake', 17), ('disc', 13), ('Shimano', 11), ('black', 10), (\"'20\", 7), ('lever', 6), ('caliper', 6), ('Sram', 5), ('bolt', 5)], 'Parts - Grips and Tape': [('black', 4), ('-', 3), ('Grip', 2), ('Trek', 1), (\"kids'\", 1), ('92125mm', 1), ('trek', 1), ('Grips', 1), ('Sunlt', 1), ('ts', 1)], 'Bikes - Electric - Mens': [('Fx+', 3), ('2', 3), ('us', 3), ('satin', 3), ('trek', 3), ('black', 3), ('s', 1), ('m', 1), ('l', 1)], 'Bikes - Hybrid - Mens': [('blue', 2), ('Fx', 1), ('3', 1), ('disc', 1), ('xs', 1), ('alpine', 1), ('to', 1), ('deep', 1), ('dark', 1), ('fade', 1)], 'Parts - Cables & Housing': [('cable', 28), ('black', 15), ('-', 14), ('Jagwire', 14), ('Ft', 14), ('brake', 9), ('stainless', 7), ('Cable', 6), ('derailleur', 6), ('box', 6)], 'Parts': [('-', 23), ('black', 7), ('cleats', 5), ('kit', 5), ('mount', 4), ('disc', 4), ('Blackburn', 4), ('degree', 3), ('rear', 3), ('front', 3)], 'Parts - EBIKE': [('Part', 4), ('battery', 3), ('Bosch', 3), ('E-bike', 2), ('bosch', 2), ('powertube', 2), ('bracket', 2), ('e-bike', 2), ('charge', 2), ('frame', 2)], 'Bikes - Dual Sport - Womens': [('Dual', 1), ('Sport', 1), ('wsd', 1), ('us', 1), ('s', 1), ('metallic', 1), ('gunmetal', 1)], 'Bikes - Kids - Boys': [('20', 2), ('Demo', 1), ('-', 1), ('precaliber', 1), ('7sp', 1), ('boys', 1), ('trek', 1), ('black', 1)], 'Bikes - Road - Mens': [('Checkpoint', 3), ('red', 3), ('Sl', 2), ('6', 2), ('etap', 2), ('crimsoncarbon', 2), ('smoke', 2), ('58', 1), ('56', 1), ('Alr', 1)], 'Bikes - Gravel and Road': [('Checkpoint', 2), ('Alr', 2), ('satin', 2), ('fs', 1), ('58', 1), ('cobra', 1), ('blood', 1), ('5', 1), ('56', 1), ('nautical', 1)], 'Accessories - Summer - Trailers': [('-', 3), ('trailer', 3), ('Burley', 3), ('Demo', 2), ('Toppeak', 1), ('baby', 1), ('seat', 1), ('ii', 1), ('rear', 1), ('rack', 1)], 'Accessories - Summer - Sunglasses/Goggles': [('-', 353), ('sunglasses', 84), ('the', 75), ('Pit', 46), ('Viper', 44), ('Goodr', 41), ('Tifosi', 30), ('Dragon', 29), ('matte', 28), ('black', 28)], 'Car Racks - Roof': [('Thule', 3), ('-', 2), ('Wingbarr', 1), ('127', 1), ('50', 1), ('silver', 1), ('Snowpack', 1), ('extender', 1), ('blacksilver', 1), ('restyled', 1)], 'Car Racks - Small Parts': [('Thule', 7), ('|', 6), ('-', 4), ('7530073', 1), (\"'06\", 1), ('lock', 1), ('knob', 1), ('plus', 1), ('plug', 1), ('thru-axle', 1)], 'Car Racks - Trunk': [('-', 3), ('Thule', 2), ('bike', 2), ('rack', 2), ('outway', 1), ('hanging', 1), ('3', 1), ('silver/black', 1), ('gateway', 1), ('pro', 1)], 'Snowboard Hardgoods - Boots - Junior': [('-', 9), ('Thirty', 3), ('Two', 3), ('youth', 3), ('lashed', 3), ('boa', 3), ('boots', 3), ('crab', 2), ('grab', 2), ('board', 2)], 'Logo Merchandise - Houseware': [('-', 4), ('Tgt', 2), ('sunlight', 2), ('logo', 2), ('pint', 1), ('glass', 1), ('clear', 1), ('campfire', 1), ('mug', 1), ('black', 1)], 'Accessories - Winter - Baselayers': [('Terramar', 10), ('-', 10), ('w', 7), ('artic', 7), ('dream', 7), ('l', 5), ('m', 5), ('melange', 4), ('s', 4), ('scoop', 4)], 'Clothing - Winter - Baselayer - Womens': [('-', 118), (\"w's\", 43), ('Airblaster', 27), ('freedom', 23), ('black', 20), ('l', 14), ('s', 14), ('Terramar', 13), ('pullover', 13), ('suit', 12)], 'Accessories - Winter - Baselayers - Kids': [('Terramar', 12), ('-', 12), ('k', 11), ('frosted', 8), ('mountain', 8), ('2pc', 4), ('set', 4), ('winter', 4), ('woods', 4), ('pant', 4)], 'Clothing - Winter - Baselayer - Kids': [('-', 126), ('Terramar', 40), ('2.0', 39), ('black', 22), (\"kid's\", 19), ('set', 17), ('crew', 16), ('free', 16), ('ride', 16), ('thermolator', 15)], 'Clothing - Winter - Baselayer - Mens': [('-', 180), ('Airblaster', 58), (\"m's\", 54), ('m', 23), ('black', 22), ('jacket', 18), ('pant', 16), ('leon', 16), ('s', 15), ('l', 15)], 'Parts - Tubes': [('-', 51), ('valve', 47), ('Bontrager', 36), ('Tube', 35), ('x', 34), ('schrader', 29), ('standard', 26), ('tube', 23), ('presta', 22), ('48mm', 14)], 'Parts - Brakes - Disc': [('-', 45), ('disc', 23), ('brake', 19), ('rotor', 15), ('Shimano', 10), ('6-bolt', 9), ('160mm', 6), ('silver', 5), ('Sram', 5), ('Rotor', 4)], 'Parts - Brakes - Pads': [('-', 73), ('brake', 51), ('pads', 40), ('disc', 38), ('Jagwire', 15), ('pad', 12), ('Shimano', 10), ('sport', 10), ('hydraulic', 9), ('semi-metallic', 8)], 'Parts - Brakes - BrakeSet': [('-', 16), ('brake', 8), ('caliper', 4), ('black', 4), ('disc', 4), ('Shimano', 4), ('front', 3), ('Sram', 3), ('Tektro', 2), ('front/rear', 2)], 'Parts - Brakes - Levers': [('-', 13), ('lever', 8), ('brake', 6), ('black', 4), ('and', 4), ('disc', 3), ('hydraulic', 3), ('post', 3), ('mount', 3), ('Shimano', 3)], 'Ski Hardgoods - Boots - Women': [('-', 139), ('w', 44), ('ski', 43), ('boots', 36), (\"w's\", 36), ('Dalbello', 26), ('mx', 23), ('black', 22), ('ds', 21), ('24.5', 13)], 'Ski Hardgoods - Boots - Men': [('-', 201), ('ski', 68), ('boots', 57), (\"m's\", 44), ('Dalbello', 27), ('black', 25), ('Nordica', 22), ('100', 20), ('3', 20), ('mx', 19)], 'Ski Hardgoods - Boots': [('-', 142), ('boots', 33), ('Salomon', 32), ('ski', 28), ('gw', 24), ('s/pro', 17), ('100', 16), ('w', 14), ('black', 14), ('alpha', 12)], 'Logo Merchandise - Clothing - Socks': [('-', 15), ('socks', 5), ('Tabletop', 4), ('Creations', 4), ('sunlight', 4), ('custom', 4), ('shop', 4), ('black', 4), ('s', 2), ('xl', 1)], 'Clothing - Socks': [('-', 225), ('m', 45), ('socks', 35), ('Stance', 35), ('black', 28), ('l', 26), ('crew', 26), ('sock', 25), ('Tabletop', 23), ('Creations', 23)], 'Accessories - Summer': [('-', 61), ('Chums', 19), ('Dakine', 7), ('black', 4), ('pad', 3), ('s', 3), ('universal', 3), ('rope', 3), ('3mm', 3), ('retainer', 3)], 'X-Country Hardgoods - Poles': [('-', 53), ('poles', 23), ('Salomon', 20), ('escape', 16), ('skating/classic', 8), ('nordic', 8), ('alu', 5), ('jr', 5), ('Fischer', 5), ('xc', 5)], 'Accessories - Winter - Tuning Supplies': [('-', 42), ('wax', 15), ('Mountain', 9), ('Flow', 9), ('oz', 8), ('eco', 5), ('Mountainflow', 4), ('hot', 4), ('brush', 3), ('2', 3)], 'Accessories - Summer - Nutrition - Drink': [('-', 25), ('oz.', 7), ('drink', 7), ('20', 5), ('Coke', 3), ('sport', 3), ('hydration', 3), ('coke', 2), ('Body', 2), ('Armor', 2)], 'Parts - Cassettes & Freewheels': [('-', 8), ('cassette', 4), ('Fh', 3), ('Cass', 3), ('sram', 2), ('xg1299', 2), ('10-52', 2), ('12s', 2), ('xd', 2), ('eagle', 2)], 'Accessories - Summer - Mirrors': [('Mirror', 2), ('Sunlt', 1), ('deluxe', 1), ('11.5in', 1), ('bk', 1), ('Sprintech', 1), ('replacement', 1), ('end', 1), ('plugs', 1), ('2', 1)], 'Parts - Handlebars': [('-', 6), ('black', 4), ('bar', 3), ('Profile', 2), ('Design', 2), ('handlebar', 2), ('rise', 2), ('wide', 2), ('Hbar', 1), ('Sunlt', 1)], 'Labor': [('-', 9), ('Labor', 7), ('Winter', 5), ('punch', 2), ('card', 2), ('ski', 2), ('mount', 2), ('forest', 1), ('hollow', 1), ('tune', 1)], 'Parts - Tubeless Accessories': [('valve', 13), ('-', 12), ('tubeless', 12), ('bontrager', 10), ('Rim', 9), ('Tape', 9), ('tire', 5), ('black', 5), ('with', 4), ('Tire', 4)], 'Parts - Grips and Tape - Tape': [('black', 4), ('Bar', 3), ('Tape', 3), ('bontrager', 3), ('gel', 3), ('cork', 3), ('-', 2), ('Yellow', 1), ('Rim', 1), ('21mm', 1)], 'Accessories - Winter - Socks': [('-', 465), ('sock', 117), ('Fox', 81), ('River', 79), ('mills', 72), ('m', 67), ('otc', 62), ('l', 57), ('Stance', 55), ('socks', 54)], 'Clothing - Socks - Mens': [('-', 33), ('sock', 13), ('black', 7), ('Dakine', 5), ('bike', 5), ('s/m', 4), ('Stance', 3), ('crew', 3), (\"m's\", 3), ('l', 3)], 'Clothing - Socks - Womens': [('-', 3), ('Stance', 1), ('cheatz', 1), ('crew', 1), ('sock', 1), ('mint', 1), (\"w's\", 1), ('m', 1)], 'Snowboard Hardgoods - Boards': [('-', 106), ('snowboard', 42), ('Jones', 29), ('misc', 12), ('Capita', 12), ('Salomon', 9), ('(c3)', 9), ('Never', 6), ('Summer', 6), ('23/24', 6)], 'Parts - Chains': [('-', 14), ('chain', 11), ('Sram', 8), ('Cn', 6), ('Chain', 6), ('links', 5), ('silver', 5), ('eagle', 5), ('pwr.lck', 5), ('w', 5)], 'Accessories - Summer - Computers': [('-', 4), ('display', 3), ('black', 2), ('integrated', 2), ('Computer', 2), ('Part', 2), ('bontrager', 2), ('sensor', 2), ('Sram', 1), ('groupo', 1)], 'Parts - Forks - Suspension': [('-', 5), ('kit', 4), ('6mm', 2), ('Rockshox', 2), ('Dust', 2), ('wiper', 2), ('35mm', 2), ('flangeless', 2), ('friction', 2), ('foam', 2)], 'Parts - Winter': [('-', 11), ('1x2', 6), ('Salomon', 5), ('Ft', 5), ('kit', 4), ('5355', 4), ('soles', 4), ('brake', 3), ('black', 3), ('1sz', 3)], 'Parts - Forks': [('black', 3), ('xcm', 2), ('suspension', 2), ('fork', 2), ('Sr', 1), ('Suntour', 1), ('26', 1), ('1-18', 1), ('threaded', 1), ('steerer', 1)], 'Ski Hardgoods - Accessories': [('-', 7), ('Saa', 4), ('ski', 3), ('strap', 3), ('(2', 2), ('pack)', 2), ('the', 1), ('big', 1), ('stock', 1), ('alpine', 1)], 'Accessories - Winter - Impulse': [('-', 23), ('(2', 5), ('Boost', 5), ('Oxygen', 5), ('size', 5), ('l)', 5), ('Saa', 4), ('Fantasia', 4), ('mini', 3), ('Mountain', 3)], 'Accessories - Winter - Kid Gear': [('-', 6), ('Saa', 4), ('harness', 2), ('child', 2), ('blue', 2), ('kids', 1), ('ski', 1), ('with', 1), ('toe', 1), ('piece', 1)], 'Accessories - Winter - Medicine, Health Supplys': [('-', 2), ('Saa', 1), ('general', 1), ('store', 1), ('bayer', 1), ('aspirin', 1)], 'Accessories - Summer - Skin Care': [('-', 15), ('sport', 6), ('spf', 6), ('tube', 5), ('Aloe', 5), ('Up', 5), ('oz', 5), ('30', 4), ('lotion', 2), ('1', 2)], 'Accessories - Winter - AT/Splitboard Accessories': [('-', 41), ('skins', 11), ('Ortovox', 5), ('Jones', 5), ('nomad', 5), ('splitboard', 5), ('w/', 5), ('quick', 5), ('clip', 5), ('pro', 4)], 'Accessories - Winter - Goggles': [('-', 249), ('goggles', 91), ('Smith', 77), ('mirror', 47), ('chromapop', 44), ('mag', 40), ('goggle', 28), ('lens', 24), ('squad', 22), ('sun', 22)], 'Clothing - Shirts - Mens': [('-', 51), ('tee', 17), ('Champion', 14), (\"men's\", 14), ('athletic', 14), ('ride', 14), ('glenwood', 14), ('Snowb', 10), ('ss', 10), ('l', 6)], 'Accessories - Summer - Helmets': [('-', 69), ('helmet', 32), ('mips', 31), ('matte', 29), ('cm', 22), ('bike', 21), ('Giro', 20), ('size', 20), ('s', 15), ('black', 14)], 'Clothing - Winter - Outerwear - Womens': [('-', 102), ('pant', 28), (\"w's\", 24), ('black', 23), ('true', 17), ('Burton', 12), ('Obermeyer', 10), ('Roxy', 9), ('s', 9), ('gloria', 9)], 'Clothing - Shirts': [('-', 291), ('logo', 80), ('Gear', 46), ('wash', 46), ('For', 40), ('sports', 40), ('Champion', 37), ('comfort', 35), ('crew', 34), ('tee', 30)], 'Clothing - Winter - Outerwear - Kids': [('-', 110), ('black', 22), ('youth', 22), ('Quiksilver', 18), ('true', 14), ('pant', 9), ('snow', 9), ('Quicksilver', 9), ('s/10', 7), ('suit', 7)], 'Clothing - Jerseys - Mens': [('-', 29), ('jersey', 9), (\"m's\", 8), ('Foxhead', 6), ('s', 4), ('ranger', 4), ('m', 3), ('dr', 3), ('short-sleeve', 3), ('teal', 3)], 'Car Racks - Tailgate Cover': [('-', 8), ('Foxhead', 2), ('tailgate', 2), ('cover', 2), ('black', 2), ('Saris', 1), ('Traps', 1), ('single', 1), ('track', 1), ('truck', 1)], 'Car Racks - Hitch': [('2', 4), ('black', 4), ('Car', 3), ('Rack', 3), ('2-bike', 3), ('hitch', 3), ('-', 3), ('saris', 2), ('rack', 2), ('Kuat', 2)], 'Ski Hardgoods - Skis - Men': [('-', 62), ('skis', 18), (\"m's\", 13), ('ski', 9), ('Head', 9), ('kore', 9), ('Nordica', 8), ('enforcer', 8), ('90', 5), ('Salomon', 5)], 'Accessories - Summer - Hydration Packs/Bladders/filters': [('-', 112), ('Dakine', 24), ('os', 23), ('hydration', 11), ('pack', 11), ('bag', 11), ('Salomon', 10), ('2l', 8), ('blue', 8), ('deep', 8)], 'X-Country Hardgoods': [('-', 28), ('Salomon', 11), ('xc', 11), ('ski', 11), ('set', 11), ('pm', 11), ('escape', 8), ('posi', 8), ('plk', 8), ('snow59', 5)], 'X-Country Hardgoods - Boots': [('-', 108), ('xc', 40), ('Salomon', 29), ('shoes', 25), ('escape', 14), ('black', 13), ('prolink', 11), ('rc', 10), ('nocturne', 10), ('jr', 10)], 'Clothing - Shoes - Street and Casual': [('-', 221), ('Salomon', 75), (\"m's\", 41), (\"w's\", 30), ('4', 29), ('sense', 26), ('ride', 26), ('gtx', 25), ('ultra', 25), ('shoe', 22)], 'Clothing - Shoes': [('-', 27), ('Salomon', 9), ('gtx', 9), ('thundercross', 8), ('flintstone/carbonorange', 8), ('11', 2), ('Shoe', 2), ('Bontrager', 2), ('velocis', 2), ('men', 2)], 'Accessories - Summer - Bags': [('-', 95), ('bag', 24), ('Oveja', 19), ('Negra', 19), ('pack', 16), ('black', 16), ('Dakine', 10), ('frame', 9), ('seat', 8), ('os', 8)], 'X-Country Hardgoods - Skis': [('-', 12), ('ski', 4), ('Salomon', 3), ('set', 3), ('pm', 3), ('plk', 3), ('Fischer', 3), ('ifp', 3), ('rs', 2), ('7', 2)], 'Ski Hardgoods - Skis - Women': [('-', 26), (\"w's\", 12), ('w', 7), ('Head', 7), ('kore', 7), ('ski', 6), ('Salomon', 4), ('163', 4), ('91', 4), ('n', 3)], 'Ski Hardgoods - Bindings - AT': [('-', 39), ('bindings', 8), ('Salomon', 7), ('n', 7), ('s/lab', 7), ('shift', 7), ('black', 7), ('binding', 6), ('at', 5), ('13', 4)], 'Ski Hardgoods - Poles': [('-', 72), ('poles', 20), ('ski', 9), ('Faction', 8), ('Pole', 8), ('Salomon', 6), ('black', 6), ('Kerma', 6), ('vector', 5), ('4', 5)], 'Ski Hardgoods - Skis': [('-', 81), ('Line', 16), ('skis', 16), ('94', 11), ('Armada', 9), ('Faction', 8), ('Skis', 8), (\"'23/24\", 8), ('pandora', 7), ('arv', 6)], 'Snowboard Hardgoods - Boards - Junior': [('-', 6), ('Salomon', 2), ('dancehaul', 2), ('grom', 2), ('135', 1), ('125', 1), ('Capita', 1), ('(c3)', 1), ('scott', 1), ('stevens', 1)], 'Accessories - Summer - Protective Wear': [('-', 93), ('black', 27), ('Foxhead', 22), ('knee', 16), ('guard', 15), ('enduro', 11), ('sleeve', 10), ('elbow', 10), ('xl', 8), ('pro', 8)], 'X-Country Hardgoods - Bindings': [('-', 10), ('xc', 4), ('Rottefella', 2), ('auto', 2), ('bindings', 2), ('black/white', 2), ('Fischer', 2), ('binding', 2), ('step-in', 2), ('ifp', 2)], 'Logo Merchandise': [('-', 67), ('Rock', 22), ('Canyon', 22), ('shred', 15), ('zeppelin', 15), ('black', 12), ('skier', 7), ('lst-', 6), ('s', 5), ('snb', 5)], 'Logo Merchandise - Clothing - Hats - Beanies': [('-', 4), ('Rock', 1), ('Canyon', 1), ('shred', 1), ('zeppelin', 1), ('snb', 1), ('grey', 1), ('beanie', 1), ('os', 1)], 'Clothing - Sweatshirts - Mens': [('-', 24), ('Champion', 4), ('triumph', 4), ('fleece', 4), ('raglan', 4), ('crew', 4), ('marine', 4), (\"m's\", 4), ('Rock', 2), ('Canyon', 2)], 'Clothing - Jackets & Vests': [('-', 22), ('pullover', 6), ('Rock', 4), ('Canyon', 4), ('heavyweight', 4), ('unisex', 4), ('teal', 2), ('xl', 2), ('lavender', 2), ('Ranger', 2)], 'Accessories - Summer - Bike Protection ': [('Ridewrap', 7), ('trek', 7), ('covered', 7), ('kit', 7), ('clear', 7), ('Armor', 4), ('fuel', 4), ('gloss', 4), ('frame', 3), ('protection', 3)], 'Clothing - Shoes - Mountain': [('-', 139), ('Fox', 39), ('Racing', 39), ('union', 39), ('mtb', 39), ('shoes', 39), ('Shoe', 27), ('Bontrager', 27), ('red', 23), ('foray', 20)], 'Clothing - Winter - Outerwear - Mens - Bibs': [('-', 9), ('bib', 3), ('Quiksilver', 2), (\"men's\", 2), ('utility', 2), ('break', 2), ('off', 2), ('laurel', 2), ('wreath', 2), ('xl', 1)], 'Clothing - Winter - Outerwear - Mens': [('-', 103), ('black', 17), ('pant', 16), (\"m's\", 12), ('Obermeyer', 10), ('jacket', 9), ('s', 8), ('true', 7), ('m', 7), ('porter', 6)], 'Parts - Wheels - Rear': [('rear', 2), ('wheel', 2), ('10', 2), ('x', 2), ('black', 2), ('Quality', 1), ('Wheels', 1), ('value', 1), ('double', 1), ('wall', 1)], 'Accessories - Summer - Rear Racks': [('-', 6), ('rack', 5), ('hardware', 2), ('Electra', 2), ('alloy', 2), ('silver', 2), ('rear', 2), ('Pdw', 1), ('bike', 1), ('Eco', 1)], 'Accessories - Summer - Bells & Horns': [('Bell', 9), ('Electra', 8), ('ringer', 7), ('domed', 7), ('bell', 3), ('black', 2), ('Portland', 1), ('design', 1), ('works', 1), ('alexander', 1)], 'Clothing - Shorts & Bibs - Womens': [('-', 49), (\"w's\", 16), ('short', 12), ('black', 8), ('Pearl', 7), ('Izumi', 7), ('liner', 6), ('Foxhead', 6), ('s', 4), ('Petalos', 3)], 'Clothing - Jerseys - Womens': [('-', 54), ('jersey', 18), (\"w's\", 18), ('Foxhead', 10), ('l', 7), ('s', 6), ('ranger', 5), ('defend', 5), ('eucalyptus', 5), ('dr', 4)], 'Clothing - Kids': [('-', 39), ('Foxhead', 13), ('youth', 13), ('defend', 8), ('black', 8), ('short', 5), ('dark', 5), ('ss', 4), ('jersey', 4), ('race', 4)], 'Clothing - Gloves': [('-', 7), ('gloves', 4), ('Park', 2), ('Tool', 2), ('nitrile', 2), ('mechanics', 2), ('Giro', 2), ('dure', 2), ('sg', 2), ('road', 2)], 'Clothing - Winter - Street Wear - Womens': [('-', 12), ('Flylow', 3), ('life', 3), ('bib', 3), ('mercury', 3), ('Obermeyer', 1), ('rebecca', 1), ('1/2', 1), ('zip', 1), ('sweater', 1)], 'Clothing - Jerseys': [('-', 74), ('jersey', 36), ('Oakley', 25), ('ls', 16), ('factory', 14), ('pilot', 14), ('mtb', 14), ('ii', 14), ('ss', 11), ('uniform', 10)], 'Clothing - Pants': [('-', 33), ('Oakley', 11), ('factory', 7), ('pilot', 7), ('short', 7), ('lite', 7), ('blackout', 6), ('rc', 4), ('34', 4), ('30', 4)], 'Clothing - Shorts & Bibs - Mens': [('-', 46), ('short', 15), (\"m's\", 10), ('Foxhead', 9), ('lite', 5), ('30', 5), ('black', 4), ('olive', 4), ('green', 4), ('flexair', 4)], 'Accessories - Summer - Clothing - Gloves ': [('-', 284), ('gloves', 64), ('Giro', 46), ('glove', 40), ('s', 33), ('youth', 33), ('m', 27), (\"w's\", 23), ('black', 22), ('road', 21)], 'Ski Hardgoods - Boots - Junior': [('-', 24), ('speedmachine', 11), ('j', 11), ('Nordica', 8), ('ski', 8), ('boots', 8), ('black/anthracite/red', 8), ('jr', 8), ('4', 5), ('2', 3)], 'Accessories - Summer - Lubricants & Solvents': [('-', 31), ('Muc-off', 10), ('bike', 8), ('cleaner', 5), ('4oz', 5), ('kit', 4), ('lube', 4), ('nano', 3), ('tech', 3), ('spray', 3)], 'Clothing - Shorts & Bibs': [('-', 39), ('shorts', 13), ('fit', 12), ('board', 12), ('Cg', 11), ('Habitats', 11), ('athletic', 8), ('black', 7), ('walker', 4), ('heather', 4)], 'Logo Merchandise - Clothing - Hats': [('-', 38), ('Locale', 9), ('beanie', 6), ('osfa', 6), ('cap', 6), ('osfm', 5), ('twill', 4), ('grey', 3), ('Gear', 3), ('sunlight', 3)], 'Accessories - Winter - Beanies': [('beanie', 10), ('-', 9), ('multi', 3), ('Northwoods', 2), ('8797', 1), ('alpenglow', 1), ('colorado', 1), ('recyc', 1), ('nv', 1), ('8767', 1)], 'Ski Hardgoods - Skis - Junior': [('-', 12), ('+', 5), ('ski/binding', 5), ('l6', 4), ('jr', 4), ('Faction', 3), ('gw', 3), ('system', 3), ('Sir', 2), ('Francis', 2)], 'Clothing - Summer': [('-', 157), ('Gear', 25), ('sunlight', 25), ('local', 25), ('bike', 25), ('trails', 25), ('ss', 18), ('Flylow', 17), ('t-shirt', 15), ('m', 12)], 'Clothing - Pants - Womens': [('-', 5), ('pant', 4), (\"w's\", 2), ('W', 2), ('Ranger', 2), ('blk', 2), ('Roxy', 1), ('nadia', 1), ('golden', 1), ('rod', 1)], 'Car Racks': [('Car', 1), ('Rack', 1), ('part', 1), ('kuat', 1), ('nv', 1), ('2.0', 1), ('family', 1), ('access', 1), ('bike', 1), ('ramp', 1)], 'Accessories - Summer - Nutrition - Bars': [('choc', 3), ('bar', 2), ('Supplement', 1), (\"Kate's\", 1), ('real', 1), ('food', 1), ('grizzly', 1), ('pb', 1), ('dark', 1), ('12', 1)], 'Snowboard Hardgoods - Poles': [('-', 6), ('Jones', 2), ('talon', 2), ('poles', 2), ('105-135', 2), ('pro', 1), ('black', 1), ('flip', 1), ('lock', 1), ('grey', 1)], 'Accessories - Winter - Bags': [('-', 65), ('os', 21), ('Dakine', 19), ('pro', 11), ('heli', 9), ('black', 8), ('bag', 8), (\"Women's\", 7), ('Heli', 7), ('20l', 7)], 'Accessories - Summer - Pumps & CO2': [('-', 17), ('Blackburn', 7), ('Bontrager', 5), ('black', 5), ('pump', 4), ('floor', 3), ('pressure', 2), ('shock', 2), ('Pump', 2), ('air', 2)], 'Ski Hardgoods - Boot Parts/Insoles': [('-', 3), ('boot', 3), ('sole', 3), ('Head', 2), ('heel', 2), ('toe', 2), ('Battery', 1), ('Pack', 1), ('xlp', 1), ('1c', 1)], 'Accessories - Summer - Kickstands': [('Greenfield', 1), ('Ksretro285mmk', 1), ('blackwretro', 1), ('kitks2sb', 1), ('black', 1), ('Kickstand', 1), ('Bontrager', 1), ('integrated', 1), ('alloy', 1), ('rear', 1)], 'Accessories - Winter - Goggle Covers': [('soc', 5), ('Gogglesoc', 2), ('Sunny', 2), ('string', 2), ('-', 2), ('Tie', 1), ('Dye', 1), ('swirl', 1), ('a245', 1), ('Pizza', 1)], 'Accessories - Summer - Helmets - Kids': [('-', 35), ('youth', 17), ('helmet', 11), ('Helmet', 11), ('Bontrager', 11), ('cpsc', 11), ('mips', 9), ('tyro', 7), ('Foxhead', 5), ('Giro', 4)], 'Clothing - Sweatshirts - Womens': [('-', 39), (\"w's\", 13), ('Under', 12), ('Armour', 12), ('logo', 12), ('breezy', 12), ('hood', 12), ('navy', 6), ('novelty', 6), ('aluminum', 6)], 'Clothing - Winter - Street Wear - Unisex': [('Sunlight', 6), ('Over', 6), ('logo', 6), ('emb-dunga', 2), ('emb-white-xl', 1), ('emb-white-sm', 1), ('emb-white-md', 1), ('emb-white-lg', 1), ('blu-xl', 1), ('blu-lg', 1)], 'Logo Merchandise - Clothing - Outer Wear': [('-', 22), ('Sunlight', 20), ('Mtn', 17), ('lc', 17), ('Gear', 5), ('zip', 5), ('fleece', 5), ('sunlight', 4), ('ua', 4), ('half', 4)], 'Logo Merchandise - Clothing - Hats - Caps': [('Structured', 3), ('Adj', 3), ('twill', 3), ('Relax', 3), ('Twill', 3), ('cap-navy', 1), ('cap-field', 1), ('green', 1), ('cap-camo', 1), ('cap-sepia', 1)], 'Clothing - Booties & Shoe Covers': [('Garneau', 2), ('2', 2), ('black', 2), ('Zip', 1), ('leg', 1), ('warmer', 1), ('pair', 1), ('sm', 1), ('1083112', 1), (\"'15\", 1)], 'Clothing - Shoes - Road - Womens': [(\"women's\", 2), ('Garneau', 1), ('Ruby', 1), ('ii', 1), ('cycling', 1), ('shoe', 1), ('black', 1), ('37', 1), ('Shoe', 1), ('Bontrager', 1)], 'Clothing - Pants - Mens': [('-', 36), ('pant', 12), ('Champion', 10), ('ride', 10), ('glenwood', 10), ('powerblend', 10), ('heather', 6), ('grey', 6), ('marine', 4), ('navy', 4)], 'Clothing - Winter - Outerwear - Womens - Jackets': [('-', 12), ('jacket', 7), ('Flylow', 4), ('m', 4), (\"Women's\", 4), ('kenzie', 3), ('night', 3), ('s', 2), ('l', 2), ('2l', 2)], 'Clothing - Shoes - Mountain - Mens': [('-', 44), ('Five', 15), ('Ten', 15), ('pro', 15), ('shoe', 15), (\"m's\", 14), ('clipless', 13), ('Shoe', 11), ('Bontrager', 11), ('hellcat', 9)], 'Clothing - Shoes - Mountain - Womens': [('-', 30), ('Five', 12), ('Ten', 12), ('shoe', 12), (\"w's\", 10), ('hellcat', 8), ('clipless', 8), ('black', 8), ('pro', 7), ('crystal/white', 4)], 'Bikes - Cruiser': [('Townie', 4), ('7d', 4), ('step', 4), ('over', 4), ('26', 4), ('eq', 3), ('matte', 2), ('black', 2), ('oxford', 1), ('blue', 1)], 'Bikes - Comfort - Womens': [('Loft', 2), ('7d', 2), (\"ladies'\", 2), ('s', 2), ('sangria', 1), ('cream', 1)], 'Accessories - Summer - Baskets': [('basket', 2), ('bracket', 2), ('black', 2), ('Handlebar', 1), ('Part', 1), ('electra', 1), ('quick', 1), ('release', 1), ('Basket', 1), ('Electra', 1)], 'Parts - Wheels - Accessories': [('45/45', 2), ('Prolock', 1), ('Brass', 1), ('nipple', 1), ('14g12mm', 1), ('-', 1), ('black', 1), ('box100', 1), ('J&b', 1), ('35586', 1)], 'Parts - Spokes': [('Dt', 3), ('Swiss', 3), ('black', 3), ('spoke', 3), ('pro', 2), ('box', 2), ('of', 2), ('20', 2), ('-', 2), ('256', 2)], 'Clothing - Gloves - Kids': [('-', 9), ('youth', 6), ('Dakine', 3), ('prodigy', 3), ('glove', 3), ('wildside', 3), ('xl', 1), ('m', 1), ('l', 1)], 'Clothing - Gloves - Womens': [('-', 15), ('Dakine', 5), ('glove', 5), (\"women's\", 3), ('sycline', 3), ('bike', 3), ('s', 2), ('black', 2), ('syncline', 2), ('port', 2)], 'Snowshoe': [('-', 14), ('snowshoe', 7), ('Crescent', 5), ('Moon', 5), ('foam', 3), ('blue', 3), ('adult', 2), ('luna', 2), ('s', 2), ('Garneau', 2)], 'Face Mask': [('-', 3), ('Coal', 1), ('pleated', 1), ('face', 1), ('mask', 1), ('black/charcoal/navy', 1), ('m', 1)], 'Logo Merchandise - Clothing': [('-', 11), ('sunlight', 4), ('Club', 3), ('Ride', 3), ('logo', 3), ('detour', 3), ('jersey', 3), ('midnight', 3), ('blue', 3), ('xl', 1)], 'Accessories - Summer - Nutrition - Supplements': [('-', 6), ('Boost', 3), ('Oxygen', 3), ('natural', 2), ('large', 2), ('10', 2), ('l', 2), ('small', 1), ('3l', 1), ('menthol', 1)], 'Clothing - Shoes - Parts': [('Shoe', 1), ('Part', 1), ('bontrager', 1), ('boa', 1), ('ip1', 1), ('kit', 1), ('black', 1), ('left', 1)], 'Clothing - Shoes - Road': [('Shoe', 6), ('Bontrager', 6), ('men', 3), ('black', 3), ('velocis', 2), ('gr2', 2), ('old', 2), ('style', 2), ('gold', 2), ('45', 1)], 'Accessories - Summer - Locks': [('Lock', 3), ('Bontrager', 2), ('kid', 2), ('chain', 2), ('combo', 2), ('Abus', 2), ('770a', 2), ('smartx', 2), ('u-lock', 2), ('x', 2)], 'Accessories - Summer - Batteries': [('Computer', 1), ('Part', 1), ('bontrager', 1), ('battery', 1), ('cr2032', 1), ('5', 1), ('pack', 1)], 'Logo Merchandise - Clothing - Crewneck Sweatshirts': [('-', 20), ('Blue', 5), ('84', 5), ('mountain', 5), ('crewneck', 5), ('nochian', 3), ('v3', 3), ('baltic', 3), ('spry', 2), ('chairlift', 2)], 'Clothing - Summer - Belts': [('-', 81), ('Arcade', 27), ('Belts', 20), ('osfa', 16), ('os', 12), ('belt', 10), ('slim', 4), ('heather', 3), ('ranger', 3), ('black', 3)], 'Clothing - Winter - Belts': [('-', 21), ('Arcade', 7), ('Belts', 7), ('osfa', 7), ('ranger', 3), ('black', 3), ('santa', 1), ('cruz', 1), ('repeat', 1), ('navy', 1)], 'Clothing - Winter - Outerwear - Womens - Pants': [('-', 25), ('pant', 8), ('Airblaster', 6), ('high', 6), ('waisted', 6), ('trouser', 6), (\"w's\", 6), ('black', 6), ('pants', 5), ('m', 4)], 'Accessories - Summer - Nutrition - Chews': [('-', 2), ('Honey', 1), ('Stinger', 1), ('caffinated', 1), ('chews', 1), ('stingerita', 1), ('lime', 1)], 'Clothing - Winter - Shoes': [('-', 60), ('Thirty', 20), ('Two', 20), ('the', 13), ('lounger', 13), ('slippies', 13), ('black', 13), ('moonwalker', 7), ('boots', 7), ('black/orange', 7)], 'Event Tickets': [('Teton', 1), ('On', 1), ('12/4/14', 1), ('jr', 1), ('ablaze', 1), ('ticket', 1), ('44170', 1)], 'Season Pass': [('pass', 7), ('(m-f)', 2), ('Family', 2), ('Carefree', 2), ('bus', 2), ('Sunny', 1), ('Soaker', 1), ('student', 1), ('13-17', 1), ('Midweek', 1)], 'Lift Tickets': [('Sunlight', 3), ('Daily', 3), ('tickets', 3), ('ticket', 3), ('adult', 3), ('with', 2), ('rental', 2), ('child', 1), ('childrnt', 1), ('ad/rent', 1)], 'Ski School': [('Ski', 1), ('School', 1), ('package', 1)], 'Rental - Winter Season - Skis': [('rental', 3), ('Ski', 2), ('/', 1), ('snowboard', 1), ('punch', 1), ('card', 1), ('Child', 1), ('boot', 1), ('season', 1), ('Adult', 1)], 'Rental - Winter Daily - Poles': [('Rental', 1), ('Poles', 1), ('only', 1), ('-', 1), ('daily', 1)], 'Rental - Winter Daily - Skis': [('Rental', 2), ('boot', 2), ('Adult', 1), ('performance', 1), ('-', 1), ('daily', 1), ('1st', 1), ('day', 1), ('only', 1), ('rental', 1)], 'Clothing - Winter - Street Wear - Kids': [('I', 1), ('Am', 1), ('a', 1), ('skier', 1), ('onesie', 1), ('green', 1), ('12m', 1)], 'Rental - Bike - Electric': [('Electric', 1), ('Bike', 1), ('rental', 1), ('e-bike', 1)], 'Rental - Winter Season - Snowboard': [('Snowboard', 3), ('season', 3), ('rental', 3), ('boot', 2), ('Adult', 2), ('Child', 1)], 'Clothing - Winter': [('-', 6), ('Cg', 2), ('Habitats', 2), ('standard', 2), ('knitted', 2), ('neck', 2), ('gaiter', 2), ('osfa', 2), ('navy', 1), ('burgundy', 1)], 'Clothing - Warmers': [('black', 2), (\"'11\", 2), (\"Accu_me_931'17\", 1), ('Pierna', 1), ('legwarmer', 1), (\"w's\", 1), ('sml', 1), ('Sugoi', 1), ('99948u', 1), ('mid', 1)], 'Accessories - Summer - Nutrition - Gels': [('Organic', 1), ('Energy', 1), ('gels', 1), ('1', 1), ('oz', 1), ('packet', 1), ('strawberry', 1), ('kiwi', 1), ('-', 1), ('caffeinated', 1)], 'Clothing': [('Life', 1), ('Bib', 1), ('chai', 1), ('xl', 1)], 'Clothing - Winter - Baselayer': [('Endura', 2), ('E6032', 2), ('baabaa', 2), ('l/s', 2), ('baselayer', 2), (\"w's\", 2), ('xl', 2), (\"'16\", 1), ('blue', 1), (\"'15\", 1)], 'Accessories - Summer - Fenders': [('Electra', 1), ('544251', 1), (\"'19\", 1), ('townie', 1), ('o-7d', 1), ('eq', 1), ('fender', 1), ('teal', 1), ('grn', 1), ('26\"', 1)]}\n"
     ]
    }
   ],
   "source": [
    "top_words_per_category = {}\n",
    "for category in products[\"Category\"].unique():\n",
    "    category_text = \" \".join(products[products[\"Category\"] == category][\"Description\"])\n",
    "    word_counts = Counter(category_text.split()).most_common(10)\n",
    "    top_words_per_category[category] = word_counts\n",
    "\n",
    "print(\"Top words per category:\", top_words_per_category)"
   ]
  },
  {
   "cell_type": "code",
   "execution_count": 4,
   "id": "3fef0000",
   "metadata": {},
   "outputs": [
    {
     "ename": "ValueError",
     "evalue": "We need at least 1 word to plot a word cloud, got 0.",
     "output_type": "error",
     "traceback": [
      "\u001b[0;31m---------------------------------------------------------------------------\u001b[0m",
      "\u001b[0;31mValueError\u001b[0m                                Traceback (most recent call last)",
      "Cell \u001b[0;32mIn[4], line 8\u001b[0m\n\u001b[1;32m      6\u001b[0m df[\u001b[38;5;124m'\u001b[39m\u001b[38;5;124mCount\u001b[39m\u001b[38;5;124m'\u001b[39m] \u001b[38;5;241m=\u001b[39m df\u001b[38;5;241m.\u001b[39mgroupby(\u001b[38;5;124m'\u001b[39m\u001b[38;5;124mCategory\u001b[39m\u001b[38;5;124m'\u001b[39m)[\u001b[38;5;124m'\u001b[39m\u001b[38;5;124mDescription\u001b[39m\u001b[38;5;124m'\u001b[39m]\u001b[38;5;241m.\u001b[39mtransform(\u001b[38;5;124m'\u001b[39m\u001b[38;5;124msize\u001b[39m\u001b[38;5;124m'\u001b[39m)  \u001b[38;5;66;03m# Count occurrences within each category\u001b[39;00m\n\u001b[1;32m      7\u001b[0m \u001b[38;5;28;01mfor\u001b[39;00m category, words \u001b[38;5;129;01min\u001b[39;00m top_words_per_category\u001b[38;5;241m.\u001b[39mitems():\n\u001b[0;32m----> 8\u001b[0m     wordcloud \u001b[38;5;241m=\u001b[39m WordCloud(background_color\u001b[38;5;241m=\u001b[39m\u001b[38;5;124m'\u001b[39m\u001b[38;5;124mwhite\u001b[39m\u001b[38;5;124m'\u001b[39m, max_font_size\u001b[38;5;241m=\u001b[39m\u001b[38;5;241m50\u001b[39m, width\u001b[38;5;241m=\u001b[39m\u001b[38;5;241m800\u001b[39m, relative_scaling\u001b[38;5;241m=\u001b[39m\u001b[38;5;241m0.5\u001b[39m)\u001b[38;5;241m.\u001b[39mgenerate(\u001b[38;5;124m\"\u001b[39m\u001b[38;5;124m \u001b[39m\u001b[38;5;124m\"\u001b[39m\u001b[38;5;241m.\u001b[39mjoin([word[\u001b[38;5;241m0\u001b[39m] \u001b[38;5;28;01mfor\u001b[39;00m word \u001b[38;5;129;01min\u001b[39;00m words]))\n\u001b[1;32m      9\u001b[0m     plt\u001b[38;5;241m.\u001b[39mfigure(figsize\u001b[38;5;241m=\u001b[39m(\u001b[38;5;241m8\u001b[39m, \u001b[38;5;241m5\u001b[39m))\n\u001b[1;32m     10\u001b[0m     plt\u001b[38;5;241m.\u001b[39mimshow(wordcloud)\n",
      "File \u001b[0;32m/opt/homebrew/anaconda3/lib/python3.11/site-packages/wordcloud/wordcloud.py:642\u001b[0m, in \u001b[0;36mWordCloud.generate\u001b[0;34m(self, text)\u001b[0m\n\u001b[1;32m    627\u001b[0m \u001b[38;5;28;01mdef\u001b[39;00m \u001b[38;5;21mgenerate\u001b[39m(\u001b[38;5;28mself\u001b[39m, text):\n\u001b[1;32m    628\u001b[0m \u001b[38;5;250m    \u001b[39m\u001b[38;5;124;03m\"\"\"Generate wordcloud from text.\u001b[39;00m\n\u001b[1;32m    629\u001b[0m \n\u001b[1;32m    630\u001b[0m \u001b[38;5;124;03m    The input \"text\" is expected to be a natural text. If you pass a sorted\u001b[39;00m\n\u001b[0;32m   (...)\u001b[0m\n\u001b[1;32m    640\u001b[0m \u001b[38;5;124;03m    self\u001b[39;00m\n\u001b[1;32m    641\u001b[0m \u001b[38;5;124;03m    \"\"\"\u001b[39;00m\n\u001b[0;32m--> 642\u001b[0m     \u001b[38;5;28;01mreturn\u001b[39;00m \u001b[38;5;28mself\u001b[39m\u001b[38;5;241m.\u001b[39mgenerate_from_text(text)\n",
      "File \u001b[0;32m/opt/homebrew/anaconda3/lib/python3.11/site-packages/wordcloud/wordcloud.py:624\u001b[0m, in \u001b[0;36mWordCloud.generate_from_text\u001b[0;34m(self, text)\u001b[0m\n\u001b[1;32m    607\u001b[0m \u001b[38;5;250m\u001b[39m\u001b[38;5;124;03m\"\"\"Generate wordcloud from text.\u001b[39;00m\n\u001b[1;32m    608\u001b[0m \n\u001b[1;32m    609\u001b[0m \u001b[38;5;124;03mThe input \"text\" is expected to be a natural text. If you pass a sorted\u001b[39;00m\n\u001b[0;32m   (...)\u001b[0m\n\u001b[1;32m    621\u001b[0m \u001b[38;5;124;03mself\u001b[39;00m\n\u001b[1;32m    622\u001b[0m \u001b[38;5;124;03m\"\"\"\u001b[39;00m\n\u001b[1;32m    623\u001b[0m words \u001b[38;5;241m=\u001b[39m \u001b[38;5;28mself\u001b[39m\u001b[38;5;241m.\u001b[39mprocess_text(text)\n\u001b[0;32m--> 624\u001b[0m \u001b[38;5;28mself\u001b[39m\u001b[38;5;241m.\u001b[39mgenerate_from_frequencies(words)\n\u001b[1;32m    625\u001b[0m \u001b[38;5;28;01mreturn\u001b[39;00m \u001b[38;5;28mself\u001b[39m\n",
      "File \u001b[0;32m/opt/homebrew/anaconda3/lib/python3.11/site-packages/wordcloud/wordcloud.py:410\u001b[0m, in \u001b[0;36mWordCloud.generate_from_frequencies\u001b[0;34m(self, frequencies, max_font_size)\u001b[0m\n\u001b[1;32m    408\u001b[0m frequencies \u001b[38;5;241m=\u001b[39m \u001b[38;5;28msorted\u001b[39m(frequencies\u001b[38;5;241m.\u001b[39mitems(), key\u001b[38;5;241m=\u001b[39mitemgetter(\u001b[38;5;241m1\u001b[39m), reverse\u001b[38;5;241m=\u001b[39m\u001b[38;5;28;01mTrue\u001b[39;00m)\n\u001b[1;32m    409\u001b[0m \u001b[38;5;28;01mif\u001b[39;00m \u001b[38;5;28mlen\u001b[39m(frequencies) \u001b[38;5;241m<\u001b[39m\u001b[38;5;241m=\u001b[39m \u001b[38;5;241m0\u001b[39m:\n\u001b[0;32m--> 410\u001b[0m     \u001b[38;5;28;01mraise\u001b[39;00m \u001b[38;5;167;01mValueError\u001b[39;00m(\u001b[38;5;124m\"\u001b[39m\u001b[38;5;124mWe need at least 1 word to plot a word cloud, \u001b[39m\u001b[38;5;124m\"\u001b[39m\n\u001b[1;32m    411\u001b[0m                      \u001b[38;5;124m\"\u001b[39m\u001b[38;5;124mgot \u001b[39m\u001b[38;5;132;01m%d\u001b[39;00m\u001b[38;5;124m.\u001b[39m\u001b[38;5;124m\"\u001b[39m \u001b[38;5;241m%\u001b[39m \u001b[38;5;28mlen\u001b[39m(frequencies))\n\u001b[1;32m    412\u001b[0m frequencies \u001b[38;5;241m=\u001b[39m frequencies[:\u001b[38;5;28mself\u001b[39m\u001b[38;5;241m.\u001b[39mmax_words]\n\u001b[1;32m    414\u001b[0m \u001b[38;5;66;03m# largest entry will be 1\u001b[39;00m\n",
      "\u001b[0;31mValueError\u001b[0m: We need at least 1 word to plot a word cloud, got 0."
     ]
    }
   ],
   "source": [
    "# Filter to include only relevant columns\n",
    "filtered_data = {category: [word[0] for word in words] for category, words in top_words_per_category.items()}\n",
    "\n",
    "# Create DataFrame with just Word and Count\n",
    "df = pd.DataFrame(filtered_data.items(), columns=[\"Category\", \"Description\"])\n",
    "df['Count'] = df.groupby('Category')['Description'].transform('size')  # Count occurrences within each category\n",
    "for category, words in top_words_per_category.items():\n",
    "    wordcloud = WordCloud(background_color='white', max_font_size=50, width=800, relative_scaling=0.5).generate(\" \".join([word[0] for word in words]))\n",
    "    plt.figure(figsize=(8, 5))\n",
    "    plt.imshow(wordcloud)\n",
    "    plt.axis('off')\n",
    "    plt.title(f\"Word Cloud for Category: {category}\")\n",
    "    plt.show()\n"
   ]
  },
  {
   "cell_type": "markdown",
   "id": "3b98dbd6",
   "metadata": {},
   "source": [
    "In looking at the categories in detail, there are some brands and sizes that appear as the top words. Previously when looking at those fields, they needed some love as there were misspellings and extra spaces, etc. Let's do a quick clean up to see if we can gather some patterns with the sizes and brands that Sunlight sells. "
   ]
  },
  {
   "cell_type": "code",
   "execution_count": null,
   "id": "a82f0b7d",
   "metadata": {},
   "outputs": [],
   "source": [
    "brand_list = products['Brand'].value_counts().index.tolist()\n",
    "print(sorted(brand_list))"
   ]
  },
  {
   "cell_type": "code",
   "execution_count": null,
   "id": "9aeec116",
   "metadata": {},
   "outputs": [],
   "source": [
    "products['Size'] = products['Size'].str.upper().replace(r\"\\s+\", \"\").astype('category')\n",
    "products['Brand'] = products['Brand'].str.lower().replace(r\"\\s+\", \"\")"
   ]
  },
  {
   "cell_type": "markdown",
   "id": "3683e89e",
   "metadata": {},
   "source": [
    "I created another notebook that is focused on cleaning up the brands as it ended up being a bigger job than anticipated. You can view that [here](../notebooks/02a-brand-clean-up.ipynb)."
   ]
  },
  {
   "cell_type": "code",
   "execution_count": null,
   "id": "536f9008",
   "metadata": {},
   "outputs": [],
   "source": [
    "# should I move this to stage 1? data cleaning\n",
    "def clean_brands(df):\n",
    "    condition = (products['Brand'].isna()) | (products['Brand'].str.strip() == 'NaN') | (products['Brand'].str.strip() == 'nan')\n",
    "    # Apply the condition to filter rows with empty or NaN brands\n",
    "    products_filtered = products[condition]\n",
    "    # Check for at least 3 hyphens in the description\n",
    "    has_3_hyphens = products_filtered['Description'].str.count('-') >= 3\n",
    "    # Extract the first word from the description and add it to the brand column\n",
    "    products_filtered['brand'] = products_filtered[has_3_hyphens]['Description'].str.split().str[0]\n",
    "    # Combine cleaned rows with original DataFrame\n",
    "    products.update(products_filtered)\n",
    "    return products\n",
    "\n",
    "# Apply the function to your DataFrame\n",
    "products = clean_brands(products)  # Make a copy to avoid modifying the original\n",
    "\n",
    "# Now your brand column should be cleaned\n",
    "print(products)\n"
   ]
  },
  {
   "cell_type": "code",
   "execution_count": null,
   "id": "be497d78",
   "metadata": {},
   "outputs": [],
   "source": [
    "brand_list = products['Brand'].value_counts().index.tolist()"
   ]
  },
  {
   "cell_type": "markdown",
   "id": "24eef767",
   "metadata": {},
   "source": [
    "Next, let's dive into the patterns of the MSRPs, or prices, of the products to get a sense of what the store sells. "
   ]
  },
  {
   "cell_type": "code",
   "execution_count": null,
   "id": "c6f38ae3",
   "metadata": {
    "scrolled": true
   },
   "outputs": [],
   "source": [
    "# Find the mean and standard dev\n",
    "std = products['MSRP'].std()\n",
    "mean = products['MSRP'].mean()\n",
    "\n",
    "# Calculate the cutoff\n",
    "cut_off = std * 3\n",
    "lower, upper = mean - cut_off,  mean + cut_off\n",
    "\n",
    "# Trim the outliers\n",
    "trimmed_df = products[(products['MSRP'] < upper)  & (products['MSRP'] > lower)]\n",
    "\n",
    "fig, ax = plt.subplots(figsize=(5, 3))  # Adjust overall size\n",
    "trimmed_df[['MSRP']].boxplot(ax=ax)\n",
    "plt.tight_layout()\n",
    "plt.show()"
   ]
  },
  {
   "cell_type": "code",
   "execution_count": null,
   "id": "48684481",
   "metadata": {},
   "outputs": [],
   "source": [
    "median_price = products['MSRP'].quantile(0.5)  # Quantile at 0.5 is the median\n",
    "print(f\"The median MSRP is ${median_price:.2f}\")"
   ]
  },
  {
   "cell_type": "markdown",
   "id": "f42e6e64",
   "metadata": {},
   "source": [
    "Sunlight's Product Prices (Box Plot Analysis):\n",
    "- **Median Price:** $79.95 (typical product falls near here)\n",
    "\n",
    "- **Price Range:** $2.50 - $500+ (most products between $50 & $200)\n",
    "\n",
    "- **Outliers:** A few very affordable or high-end bikes exist.\n",
    "\n",
    "- **Focus:** Likely a wider selection of moderately priced items (< $200) with some high-end options.\n"
   ]
  },
  {
   "cell_type": "code",
   "execution_count": null,
   "id": "b322d9fc",
   "metadata": {},
   "outputs": [],
   "source": [
    "plt.figure(figsize=(30, 10))  # Example with more manageable size\n",
    "\n",
    "# Create the box plot with Seaborn\n",
    "sns.boxplot(\n",
    "    x=\"Brand\",\n",
    "    y=\"MSRP\",\n",
    "    showmeans=True,  # Show mean as a diamond\n",
    "    data=trimmed_df\n",
    ")\n",
    "\n",
    "# Customize the plot for better aesthetics\n",
    "plt.title(\"Distribution of MSRP (Outliers Trimmed)\")\n",
    "plt.xlabel(\"Brand\")\n",
    "plt.ylabel(\"MSRP\")\n",
    "plt.xticks(rotation=45, ha=\"right\")  # Rotate x-axis labels for better readability\n",
    "plt.grid(axis='y', linestyle='--', alpha=0.7)  # Add subtle gridlines\n",
    "\n",
    "plt.show()\n"
   ]
  },
  {
   "cell_type": "markdown",
   "id": "77f9de1b",
   "metadata": {},
   "source": [
    "The brands will continue to be cleaned.. this visual will give us a sense of which products are priced the highest and lowest. "
   ]
  },
  {
   "cell_type": "code",
   "execution_count": null,
   "id": "c0744ea6",
   "metadata": {},
   "outputs": [],
   "source": [
    "# Set a large figure size (adjust units and values as needed)\n",
    "plt.figure(figsize=(30, 10))  # Example with more manageable size\n",
    "\n",
    "# Create the box plot with Seaborn\n",
    "sns.boxplot(\n",
    "    x=\"ParentCategory\",\n",
    "    y=\"MSRP\",\n",
    "    showmeans=True,  # Show mean as a diamond\n",
    "    data=trimmed_df\n",
    ")\n",
    "\n",
    "# Customize the plot for better aesthetics\n",
    "plt.title(\"Distribution of MSRP (Outliers Trimmed)\")\n",
    "plt.xlabel(\"ParentCategory\")\n",
    "plt.ylabel(\"MSRP\")\n",
    "plt.xticks(rotation=45, ha=\"right\")  # Rotate x-axis labels for better readability\n",
    "plt.grid(axis='y', linestyle='--', alpha=0.7)  # Add subtle gridlines\n",
    "\n",
    "plt.show()\n"
   ]
  },
  {
   "cell_type": "markdown",
   "id": "3fb2243f",
   "metadata": {},
   "source": [
    "As we see above, there are some categories that have large price spreads, like ski hardgoods (skis, boots, bindings), while some are priced quite consistenctly, like face masks, accessories, clothing, etc. \n",
    "\n",
    "\n",
    "Next, let's look at what the store quantities look like. This will help us get a sense of what is in inventory."
   ]
  },
  {
   "cell_type": "code",
   "execution_count": null,
   "id": "877d392a",
   "metadata": {},
   "outputs": [],
   "source": [
    "# Find the mean and standard dev\n",
    "std = products['Quantity'].std()\n",
    "mean = products['Quantity'].mean()\n",
    "\n",
    "# Calculate the cutoff\n",
    "cut_off = std * 3\n",
    "lower, upper = mean - cut_off,  mean + cut_off\n",
    "\n",
    "# Trim the outliers\n",
    "trimmed_df = products[(products['Quantity'] < upper)  & (products['Quantity'] > lower)]\n",
    "\n",
    "fig, ax = plt.subplots(figsize=(3, 5))  # Adjust overall size\n",
    "trimmed_df[['Quantity']].boxplot(ax=ax)\n",
    "plt.tight_layout()\n",
    "plt.show()"
   ]
  },
  {
   "cell_type": "code",
   "execution_count": null,
   "id": "7843a3b7",
   "metadata": {},
   "outputs": [],
   "source": [
    "negative_quantity_products = products[products['Quantity'] < 0]\n",
    "negative_quantity_list = negative_quantity_products['Quantity'].sort_values().head(10)\n",
    "\n",
    "print(negative_quantity_list)  # List of product quantities less than 0"
   ]
  },
  {
   "cell_type": "code",
   "execution_count": null,
   "id": "4686bae3",
   "metadata": {},
   "outputs": [],
   "source": [
    "try:\n",
    "    product_at_index = products.loc[13473]\n",
    "    print(product_at_index)  # Show the entire product information\n",
    "except KeyError:\n",
    "    print(\"Product at index 13473 not found\")"
   ]
  },
  {
   "cell_type": "markdown",
   "id": "cb2e5a6c",
   "metadata": {},
   "source": [
    "Maybe someone recieved the box instead of the individual product?"
   ]
  },
  {
   "cell_type": "code",
   "execution_count": null,
   "id": "02c9c46e",
   "metadata": {},
   "outputs": [],
   "source": [
    "try:\n",
    "    product_at_index = products.loc[17160]\n",
    "    print(product_at_index)  # Show the entire product information\n",
    "except KeyError:\n",
    "    print(\"Product at index 17160 not found\")"
   ]
  },
  {
   "cell_type": "markdown",
   "id": "3ee8d9f1",
   "metadata": {},
   "source": [
    "Another instance where the box could have been recieved instead of the individual packs."
   ]
  },
  {
   "cell_type": "code",
   "execution_count": null,
   "id": "b9d4a393",
   "metadata": {},
   "outputs": [],
   "source": [
    "try:\n",
    "    product_at_index = products.loc[14840]\n",
    "    print(product_at_index)  # Show the entire product information\n",
    "except KeyError:\n",
    "    print(\"Product at index 14840 not found\")"
   ]
  },
  {
   "cell_type": "markdown",
   "id": "629cd444",
   "metadata": {},
   "source": [
    "This one looks like it did not get transferred up to the mountain properly. "
   ]
  },
  {
   "cell_type": "code",
   "execution_count": null,
   "id": "a83ce0c3",
   "metadata": {},
   "outputs": [],
   "source": [
    "# Set a large figure size (adjust units and values as needed)\n",
    "plt.figure(figsize=(30, 10))  # Example with more manageable size\n",
    "\n",
    "# Create the box plot with Seaborn\n",
    "sns.boxplot(\n",
    "    x=\"ParentCategory\",\n",
    "    y=\"Quantity\",\n",
    "    showmeans=True,  # Show mean as a diamond\n",
    "    data=trimmed_df\n",
    ")\n",
    "\n",
    "# Customize the plot for better aesthetics\n",
    "plt.title(\"Distribution of Inventory (Outliers Trimmed)\")\n",
    "plt.xlabel(\"ParentCategory\")\n",
    "plt.ylabel(\"Quantity\")\n",
    "plt.xticks(rotation=45, ha=\"right\")  # Rotate x-axis labels for better readability\n",
    "plt.grid(axis='y', linestyle='--', alpha=0.7)  # Add subtle gridlines\n",
    "\n",
    "plt.show()\n"
   ]
  },
  {
   "cell_type": "markdown",
   "id": "e439840a",
   "metadata": {},
   "source": [
    "This exploration is giving me insight into what I need to fix in the database. I hope to do that before I train the data. I will make all of the adjustments in the point of sales system and then re-run the data for the trainings and maching learning."
   ]
  },
  {
   "cell_type": "markdown",
   "id": "84c28d84",
   "metadata": {},
   "source": [
    "## Products Sizes"
   ]
  },
  {
   "cell_type": "markdown",
   "id": "91523e8d",
   "metadata": {},
   "source": [
    "Now, let's look at the sizing of these products. "
   ]
  },
  {
   "cell_type": "code",
   "execution_count": null,
   "id": "85313b21",
   "metadata": {},
   "outputs": [],
   "source": [
    "products['Size'].value_counts().index.tolist()"
   ]
  },
  {
   "cell_type": "code",
   "execution_count": null,
   "id": "83bdf6cc",
   "metadata": {},
   "outputs": [],
   "source": [
    "def standardize_size(size):\n",
    "  \"\"\"\n",
    "  Standardizes a clothing size label.\n",
    "\n",
    "  Args:\n",
    "      size: The size label to be standardized (string).\n",
    "\n",
    "  Returns:\n",
    "      The standardized size label (string).\n",
    "  \"\"\"\n",
    "  size_map = {\n",
    "      \"XSMALL\": \"XS\",\n",
    "      \"X-SMALL\": \"XS\",\n",
    "      \"X-LARGE\": \"XXL\",\n",
    "      \"2XL\": \"XXL\",\n",
    "      \"2X\": \"XXL\",\n",
    "      \"SMALL \": \"S\",\n",
    "      \"S\\\\M\": \"S/M\",\n",
    "      \"MED\": \"M\",\n",
    "      \"MEDIUM\": \"M\",\n",
    "      \"M\\\\L\": \"M/L\",\n",
    "      \"LRG\": \"L\",\n",
    "      \"LARGE\": \"L\",\n",
    "      \"XTRA\": \"XL\",\n",
    "      \"OS\": \"OS\",\n",
    "      \"UA\": \"OS\",\n",
    "      \"ONE SIZE\": \"OS\",\n",
    "      \"UNIV\": \"OS\",\n",
    "      \"OSFM\": \"OS\",\n",
    "      \"1SZ FITALL\": \"OS\",\n",
    "      \"ADULT\": \"\",  # Replace with desired value (e.g., \"NA\")\n",
    "      \"\": \"\",  # Replace with desired value (e.g., \"NA\")\n",
    "      \"JR OSFA\": \"YOUTH OS\",\n",
    "      \"YOUTH X-SMALL\": \"YOUTH XS\",\n",
    "      \"YXL\": \"YOUTH XL\",\n",
    "      \"YL\": \"YOUTH L\",\n",
    "      \"YM\": \"YOUTH M\",\n",
    "      \"YS\": \"YOUTH S\",\n",
    "      \"YOUTH SMALL\": \"YOUTH S\"\n",
    "  }\n",
    "  return size_map.get(size.upper(), size.upper())  # Use upper case for case-insensitive matching\n",
    "\n",
    "products['Size'] = products['Size'].apply(standardize_size)\n",
    "\n",
    "# Optional: Filter unwanted sizes\n",
    "products = products[~products['Size'].isin([\"SKI\", \"SHOE\", \"OZ\"])]  # Exclude unwanted sizes\n",
    "\n",
    "unique_counts = products['Size'].value_counts()\n",
    "print(unique_counts)\n"
   ]
  },
  {
   "cell_type": "markdown",
   "id": "1c826e9b",
   "metadata": {},
   "source": [
    "In looking at the size field, I did not realize how many different measurements and sizes we had in the store. We have T-Shirt and clothing sizes for women, men and kids. And then we have shoe and boot sizes for women, men, and kids. We also have ski, pole and snowboard lengths, oz of containers like gels and lubes. The list goes on for all the different sizes we have in the store! I will focus on the clothing and bike sizes for this exploration (S, M, L). "
   ]
  },
  {
   "cell_type": "code",
   "execution_count": null,
   "id": "5e4a4af1",
   "metadata": {},
   "outputs": [],
   "source": [
    "import matplotlib.pyplot as plt\n",
    "from collections import Counter\n",
    "\n",
    "sorted_size_counts = []\n",
    "\n",
    "def extract_sizes(data):\n",
    "    sizes = []\n",
    "    for item in data:\n",
    "        for size in [\"YOUTH L\", \"YOUTH S\", \"YOUTH M\", \"OS\", \"XXL\", \"XL\", \"L\", \"M\", \"S\", \"XS\"]:\n",
    "            # Check if \"size\" is a substring, ignoring case\n",
    "            if size in item:\n",
    "                sizes.append(size)\n",
    "                break  # Only extract one size per item\n",
    "\n",
    "    # Count occurrences of each size\n",
    "    size_counts = Counter(sizes)\n",
    "    \n",
    "    # Sort the sizes by predefined order\n",
    "    sorted_sizes = [\"XS\", \"S\", \"M\", \"L\", \"XL\", \"XXL\", \"YOUTH S\", \"YOUTH M\", \"YOUTH L\", \"OS\"]\n",
    "    sorted_size_counts = {size: size_counts[size] for size in sorted_sizes if size in size_counts}\n",
    "\n",
    "    # Create histogram\n",
    "    plt.figure(figsize=(10, 6))  # Increase figure size\n",
    "    plt.bar(sorted_size_counts.keys(), sorted_size_counts.values(), color='skyblue')\n",
    "    plt.xlabel(\"Sizes\")\n",
    "    plt.ylabel(\"Count\")\n",
    "    plt.title(\"Distribution of Extracted Sizes\")\n",
    "    plt.xticks(rotation=45, ha='right')  # Rotate x-axis labels for better readability\n",
    "    plt.tight_layout()  # Adjust layout to prevent label cutoff\n",
    "    plt.show()\n",
    "\n",
    "# Extract sizes from non-numeric data\n",
    "extracted_sizes = extract_sizes(sorted_size_counts.tolist())\n",
    "\n",
    "# Further analysis can be done here using the extracted_sizes list\n"
   ]
  },
  {
   "cell_type": "markdown",
   "id": "159047cb",
   "metadata": {},
   "source": [
    "Well the initial exploration of product data showed the distibution of prices, sizes, and categories of producst that the Sunlight store offers. It looks like there is lots of oppurtunity for cleaning up the size, brand, and color fields further to gain more insights into which colors and sizes are the most popular. Stay tuned!"
   ]
  },
  {
   "cell_type": "markdown",
   "id": "80b658ad",
   "metadata": {},
   "source": [
    "## 2.2 Sales Data Integration <a id='2.2_Sales'></a>\n",
    "\n",
    "We have gotten a glimpse at the product descriptions and categories. Let's look at how products interact with sales data. The goal of this data exploration is to create a \"before\" scene of the data -- like how well each category sells, and how quickly its sell. Sunlight hopes to see if cleaning up the data and making sure the products are in the correct categories affects the numbers and reporting for how well and quickly products sell. "
   ]
  },
  {
   "cell_type": "code",
   "execution_count": null,
   "id": "673e20b5",
   "metadata": {},
   "outputs": [],
   "source": [
    "# Load the data\n",
    "sales_csv = \"../data/raw/Sales 1-3-2024.csv\"\n",
    "sales_category_excel = \"../data/raw/Sales_By_Category_20231226_1648.xlsx\"\n",
    "sales_history_csv = \"../data/raw/Sales/2023 - Sunlight Ski and Bike Shop.csv\"\n",
    "\n",
    "sales = pd.read_csv(sales_history_csv,  encoding='latin-1')  # Replace with your actual CSV file path\n",
    "sales.head()"
   ]
  },
  {
   "cell_type": "code",
   "execution_count": null,
   "id": "a9090cda",
   "metadata": {},
   "outputs": [],
   "source": [
    "# Merge product and sales data (assuming a common identifier)\n",
    "df = products.merge(sales, on=\"Description\", how=\"left\", suffixes=('_sales', '_product'))\n",
    "df.isnull().sum()"
   ]
  },
  {
   "cell_type": "code",
   "execution_count": null,
   "id": "b0dc6ef7",
   "metadata": {},
   "outputs": [],
   "source": [
    "def z_score_outliers(df, column):\n",
    "  \"\"\"\n",
    "  Identifies outliers in a DataFrame column using the z-score method.\n",
    "\n",
    "  Args:\n",
    "      df: The pandas DataFrame.\n",
    "      column: The name of the column containing numerical data.\n",
    "\n",
    "  Returns:\n",
    "      A DataFrame containing only the outlier rows.\n",
    "  \"\"\"\n",
    "  mean = df[column].mean()\n",
    "  std = df[column].std()\n",
    "  threshold = 3\n",
    "  # Filter outliers using logical AND (&) instead of OR\n",
    "  outliers = df[(df[column] - mean) / std > threshold & (df[column] - mean) / std < -threshold]\n",
    "  return outliers\n",
    "\n",
    "def iqr_outliers(df, column):\n",
    "  \"\"\"\n",
    "  Identifies outliers in a DataFrame column using the Interquartile Range (IQR) method.\n",
    "\n",
    "  Args:\n",
    "      df: The pandas DataFrame.\n",
    "      column: The name of the column containing numerical data.\n",
    "\n",
    "  Returns:\n",
    "      A DataFrame containing only the outlier rows.\n",
    "  \"\"\"\n",
    "  Q1 = df[column].quantile(0.25)\n",
    "  Q3 = df[column].quantile(0.75)\n",
    "  IQR = Q3 - Q1\n",
    "  lower_bound = Q1 - 1.5 * IQR\n",
    "  upper_bound = Q3 + 1.5 * IQR\n",
    "  # Filter outliers using logical AND (&)\n",
    "  outliers = df[(df[column] < lower_bound) & (df[column] > upper_bound)]\n",
    "  return outliers\n"
   ]
  },
  {
   "cell_type": "code",
   "execution_count": null,
   "id": "4117065f",
   "metadata": {},
   "outputs": [],
   "source": [
    "# view profit/margin per category... (eventually, churn or speed recieved and then sold)\n",
    "\n",
    "for col in list(df.columns):\n",
    "    df[col].plot(kind = 'hist', title = col)\n",
    "    plt.show()"
   ]
  },
  {
   "cell_type": "code",
   "execution_count": null,
   "id": "e1910cf5",
   "metadata": {},
   "outputs": [],
   "source": [
    "# Example: Analyze sales trends by month\n",
    "df[\"Month\"] = pd.to_datetime(df[\"SaleDate\"]).dt.month_name()\n",
    "calendar = [\"January\",\"February\",\"March\",\"April\",\"May\",\"June\",\"July\",\n",
    "            \"August\",\"September\",\"October\",\"November\",\"December\"]\n",
    "sns.barplot(x=\"Month\", y=\"Sales\", data=df, order=calendar)\n",
    "plt.tight_layout()\n",
    "plt.xticks(rotation=90)\n",
    "plt.show()"
   ]
  },
  {
   "cell_type": "code",
   "execution_count": null,
   "id": "1b6f9c9a",
   "metadata": {},
   "outputs": [],
   "source": [
    "# Analyze profit by month per category\n",
    "df[\"Month\"] = pd.to_datetime(df[\"SaleDate\"]).dt.month_name()\n",
    "calendar = [\"January\",\"February\",\"March\",\"April\",\"May\",\"June\",\"July\",\n",
    "            \"August\",\"September\",\"October\",\"November\",\"December\"]\n",
    "sns.barplot(x=\"Month\", y=\"Profit\", data=df, order=calendar, palette='Set2')\n",
    "plt.tight_layout()\n",
    "plt.xticks(rotation=90)\n",
    "plt.show()"
   ]
  },
  {
   "cell_type": "code",
   "execution_count": null,
   "id": "c4708686",
   "metadata": {},
   "outputs": [],
   "source": [
    "null_values_df = df[df.isnull().any(axis=1)]\n",
    "print(null_values_df.head())"
   ]
  },
  {
   "cell_type": "markdown",
   "id": "04612820",
   "metadata": {},
   "source": [
    "These are products that we have not sold yet, so they are returning \"NaN\". Because they are null, I probably should have done a left join to sales-- instead of on products. I will go back and join the tables the better way. "
   ]
  },
  {
   "cell_type": "code",
   "execution_count": null,
   "id": "663085ca",
   "metadata": {},
   "outputs": [],
   "source": [
    "# df = sales.merge(products, on=\"Description\", how=\"left\", suffixes=('_sales', '_product'))"
   ]
  },
  {
   "cell_type": "code",
   "execution_count": null,
   "id": "4c30699a",
   "metadata": {},
   "outputs": [],
   "source": [
    "df.groupby('Month').sum()"
   ]
  },
  {
   "cell_type": "code",
   "execution_count": null,
   "id": "e1b40ebe",
   "metadata": {},
   "outputs": [],
   "source": [
    "# Create the stacked bar chart with legend outside\n",
    "ax = sns.catplot(\n",
    "    x=\"Month\",\n",
    "    y=\"Profit\",\n",
    "    hue=\"ParentCategory\",\n",
    "    kind=\"bar\",\n",
    "    data=df,\n",
    "    order=calendar,  # Assuming months ordered correctly\n",
    "    height=6,\n",
    "    aspect=2,\n",
    "    palette=\"Set3\",\n",
    "    legend=False,  # Initially hide legend\n",
    "    zorder=10,  # Ensure bars are drawn on top of grid and edges\n",
    "    edgecolor=\"none\",  # Remove bar outlines\n",
    ")\n",
    "\n",
    "# Move legend outside the plot with clear placement\n",
    "plt.legend(title=\"Parent Category\", loc='upper left', bbox_to_anchor=(1.05, 1))\n",
    "\n",
    "# Other formatting and clarity enhancements\n",
    "plt.xticks(rotation=45)\n",
    "plt.xlabel(\"Month\")\n",
    "plt.ylabel(\"Quantity Sold\")\n",
    "plt.title(\"Quantity Sold by Month, Segmented by Parent Category\")\n",
    "plt.tight_layout()\n",
    "plt.show()\n",
    "\n",
    "#grid for bar charts. Total Overall: Line graph per month by year (Avg) OR most recent by year; totals by year; OVERALL SALES TRENDS; by parent category\n",
    "#percent versus absolute values; less than 1 percent not worth looking at"
   ]
  },
  {
   "cell_type": "markdown",
   "id": "a59ef4ee",
   "metadata": {},
   "source": [
    "Oh no. There are two \"Logo Merchandise\" and \"Bike\" categories."
   ]
  },
  {
   "cell_type": "code",
   "execution_count": null,
   "id": "d5220785",
   "metadata": {},
   "outputs": [],
   "source": [
    "sns.histplot(x=\"Profit\", hue=\"ParentCategory\", data=df, multiple=\"stack\", bins=100)"
   ]
  },
  {
   "cell_type": "code",
   "execution_count": null,
   "id": "da8fad11",
   "metadata": {},
   "outputs": [],
   "source": [
    "# Create a subplot grid\n",
    "fig, axes = plt.subplots(len(df['ParentCategory'].unique()), figsize=(12, 6))\n",
    "\n",
    "# Iterate through each category and create a bar plot\n",
    "for i, category in enumerate(df['ParentCategory'].unique()):\n",
    "    subset = df[df['ParentCategory'] == category]  # Subset data for the category\n",
    "    sns.barplot(x=\"Month\", y=\"Profit\", data=subset, order=calendar, palette='Set2', ax=axes[i])\n",
    "    axes[i].set_title(f\"Profit by Month for {category}\")\n",
    "    \n",
    "# Rotate x-axis labels for readability\n",
    "plt.xticks(rotation=45, ha='right')  # Adjust rotation and alignment as needed\n",
    "\n",
    "# Reduce label font size\n",
    "plt.tick_params(axis='x', labelsize=8)  # Adjust font size as needed\n",
    "\n",
    "# Adjust spacing and show the plot\n",
    "# plt.tight_layout()\n",
    "plt.show()"
   ]
  },
  {
   "cell_type": "code",
   "execution_count": null,
   "id": "6b7f0af8",
   "metadata": {},
   "outputs": [],
   "source": [
    "# Example: Analyze sales trends by month\n",
    "df[\"Month\"] = pd.to_datetime(df[\"SaleDate\"]).dt.month_name()\n",
    "calendar = [\"January\",\"February\",\"March\",\"April\",\"May\",\"June\",\"July\",\n",
    "            \"August\",\"September\",\"October\",\"November\",\"December\"]\n",
    "\n",
    "palette = [\"red\", \"orange\", \"yellow\", \"green\", \"blue\"]\n",
    "\n",
    "# Set the palette for future plots\n",
    "sns.set_palette('RdBu')\n",
    "\n",
    "sns.barplot(x=\"Month\", y=\"Profit\", data=df, order=calendar)\n",
    "\n",
    "plt.tight_layout()\n",
    "plt.xticks(rotation=90)\n",
    "plt.show()"
   ]
  },
  {
   "cell_type": "code",
   "execution_count": null,
   "id": "8e20c660",
   "metadata": {},
   "outputs": [],
   "source": [
    "# Explore relationships using scatter plots\n",
    "sns.relplot(x=\"MSRP_sales\", y=\"Quantity_sales\", data=df)\n",
    "plt.show()"
   ]
  },
  {
   "cell_type": "code",
   "execution_count": null,
   "id": "ef2c6bbf",
   "metadata": {},
   "outputs": [],
   "source": [
    "# Compare distributions with boxplots\n",
    "sns.boxplot(x=\"Brand\", y=\"Quantity_sales\", data=df)\n",
    "plt.tight_layout()\n",
    "plt.xticks(rotation=90)\n",
    "plt.tick_params(labelsize=3)\n",
    "plt.show()"
   ]
  },
  {
   "cell_type": "code",
   "execution_count": null,
   "id": "3151473a",
   "metadata": {},
   "outputs": [],
   "source": [
    "# Handle missing values (replace with your preferred method)\n",
    "df.fillna(method=\"ffill\", inplace=True)  # Forward fill missing values"
   ]
  },
  {
   "cell_type": "code",
   "execution_count": null,
   "id": "afad116b",
   "metadata": {},
   "outputs": [],
   "source": [
    "# Get descriptive statistics for numerical features\n",
    "numerical_features = df.select_dtypes(include=[\"int64\", \"float64\"])\n",
    "print(numerical_features.describe())\n",
    "\n",
    "# Create frequency tables for categorical features\n",
    "categorical_features = df.select_dtypes(include=[\"object\"])\n",
    "for col in categorical_features:\n",
    "    print(df[col].value_counts())\n",
    "\n",
    "# Visualize numerical feature distribution with histograms\n",
    "numerical_features.hist(figsize=(10, 10))\n",
    "plt.subplots_adjust(bottom=0.1)  # Adjust spacing for better readability\n",
    "plt.show()"
   ]
  },
  {
   "cell_type": "code",
   "execution_count": null,
   "id": "726ea54d",
   "metadata": {},
   "outputs": [],
   "source": [
    "# Example: Analyze sales trends by month\n",
    "df[\"Month\"] = pd.to_datetime(df[\"SaleDate\"]).dt.month_name()\n",
    "sns.barplot(x=\"Month\", y=\"Quantity_sales\", data=df)\n",
    "plt.show()"
   ]
  },
  {
   "cell_type": "code",
   "execution_count": null,
   "id": "415d2d61",
   "metadata": {},
   "outputs": [],
   "source": [
    "# Example: Identify top-selling products\n",
    "top_selling = df.nlargest(10, \"Quantity_sales\")\n",
    "\n",
    "# Create the bar plot\n",
    "sns.barplot(x=\"Description\", y=\"Quantity_sales\", data=top_selling)\n",
    "\n",
    "# Rotate and format y labels for better readability\n",
    "plt.xticks(rotation=45, ha='right')  # Rotate x-axis labels for longer descriptions\n",
    "plt.ylabel(\"Quantity Sold\")  # Set clear y-axis label\n",
    "plt.tight_layout()  # Adjust spacing for readability\n",
    "\n",
    "# Additional enhancements (optional)\n",
    "plt.subplots_adjust(left=0.2)  # Adjust left margin for more label space\n",
    "plt.yscale('log')  # Use log scale for large quantity differences\n",
    "\n",
    "plt.show()"
   ]
  },
  {
   "cell_type": "code",
   "execution_count": null,
   "id": "43604518",
   "metadata": {},
   "outputs": [],
   "source": [
    "# Example: Identify top-selling products\n",
    "top_selling = df.nlargest(10, \"Profit\")\n",
    "\n",
    "# Create the bar plot\n",
    "sns.barplot(x=\"Description\", y=\"Profit\", data=top_selling)\n",
    "\n",
    "# Rotate and format y labels for better readability\n",
    "plt.xticks(rotation=45, ha='right')  # Rotate x-axis labels for longer descriptions\n",
    "plt.ylabel(\"Profit\")  # Set clear y-axis label\n",
    "plt.tight_layout()  # Adjust spacing for readability\n",
    "\n",
    "# Additional enhancements (optional)\n",
    "plt.subplots_adjust(left=0.2)  # Adjust left margin for more label space\n",
    "plt.yscale('log')  # Use log scale for large quantity differences\n",
    "\n",
    "plt.show()"
   ]
  },
  {
   "cell_type": "code",
   "execution_count": null,
   "id": "f7d00fd6",
   "metadata": {},
   "outputs": [],
   "source": [
    "# Example: Identify top-selling products\n",
    "top_selling = df.nlargest(10, \"Margin\")\n",
    "\n",
    "# Create the bar plot\n",
    "sns.barplot(x=\"Description\", y=\"Margin\", data=top_selling)\n",
    "\n",
    "# Rotate and format y labels for better readability\n",
    "plt.xticks(rotation=45, ha='right')  # Rotate x-axis labels for longer descriptions\n",
    "plt.ylabel(\"Margin\")  # Set clear y-axis label\n",
    "plt.tight_layout()  # Adjust spacing for readability\n",
    "\n",
    "# Additional enhancements (optional)\n",
    "plt.subplots_adjust(left=0.2)  # Adjust left margin for more label space\n",
    "plt.yscale('log')  # Use log scale for large quantity differences\n",
    "\n",
    "plt.show()"
   ]
  },
  {
   "cell_type": "code",
   "execution_count": null,
   "id": "148e3db9",
   "metadata": {},
   "outputs": [],
   "source": [
    "# Remember to replace placeholders with your specific data and analysis goals\n",
    "sns.histplot(data=df, x=\"Discount\")\n",
    "plt.xlabel(\"Discount (%)\")\n",
    "plt.ylabel(\"Frequency\")\n",
    "plt.title(\"Distribution of Discounts in Sales Data\")\n",
    "plt.show()"
   ]
  },
  {
   "cell_type": "code",
   "execution_count": null,
   "id": "d5eeeeb9",
   "metadata": {},
   "outputs": [],
   "source": [
    "# Calculate correlations with a heatmap\n",
    "corrmat = sales.corr()\n",
    "f, ax = plt.subplots(figsize=(12, 9))\n",
    "hm = sns.heatmap(round(corrmat,2), annot=True, ax=ax,fmt='.2f',\n",
    "                 linewidths=.05)\n",
    "f.subplots_adjust(top=0.93)\n",
    "t= f.suptitle('Match Data Feature Correlation for Sales', fontsize=14)"
   ]
  },
  {
   "cell_type": "code",
   "execution_count": null,
   "id": "2c376269",
   "metadata": {},
   "outputs": [],
   "source": [
    "sns.pairplot(df, hue='Category', palette='Set1',\n",
    "            diag_kind='kde',  # Add kernel density estimates\n",
    "            grid=False, xticks_rotation=45,\n",
    "            fig_size=(12, 8))  # Adjust figure size\n",
    "\n",
    "plt.subplots_adjust(top=0.92)  # Adjust top margin for legend outside\n",
    "\n",
    "plt.legend(title=\"Category\", loc='upper left', bbox_to_anchor=(1.1, 1))\n",
    "\n",
    "plt.tight_layout()\n",
    "plt.show()"
   ]
  },
  {
   "cell_type": "code",
   "execution_count": null,
   "id": "38c07182",
   "metadata": {},
   "outputs": [],
   "source": [
    "# Add a date column if not present\n",
    "df[\"SaleDate\"] = pd.to_datetime(df[\"SaleDate\"])\n",
    "\n",
    "# Group data by date and calculate discounted sales count\n",
    "discounted_per_date = df[df[\"Discount\"] > 0].groupby(\"SaleDate\")[\"Discount\"].count().reset_index()\n",
    "\n",
    "# Create a line plot\n",
    "sns.lineplot(x=\"SaleDate\", y=\"Discount\", data=df)\n",
    "plt.xlabel(\"Sale Date\")\n",
    "plt.ylabel(\"Discounted Sales Count\")\n",
    "plt.title(\"Discounted Sales Frequency Over Time\")\n",
    "plt.show()"
   ]
  },
  {
   "cell_type": "code",
   "execution_count": null,
   "id": "43093b58",
   "metadata": {},
   "outputs": [],
   "source": [
    "sns.stripplot(data=sales,\n",
    "            x='Category',\n",
    "            y='Month', s=5)\n",
    "plt.xlabel('Category')\n",
    "plt.ylabel('Month')\n",
    "sns.despine()\n",
    "# # plt.savefig('casualty breakdown')\n",
    "plt.show()"
   ]
  },
  {
   "cell_type": "code",
   "execution_count": null,
   "id": "2f52a56e",
   "metadata": {},
   "outputs": [],
   "source": []
  },
  {
   "cell_type": "markdown",
   "id": "e96b8581",
   "metadata": {},
   "source": [
    "## Summary<a id=\"2.3_Summary\"></a>\n",
    "\n",
    "Well, it looks like these data sets needed a lot of cleanup. We were able to get some insights into the products and sales of sunlight. In creating a \"before\" look at the sales data by category, we can see how useful adjusting the product categories are to getting more accurate reports on costs and sales. "
   ]
  }
 ],
 "metadata": {
  "kernelspec": {
   "display_name": "Python 3 (ipykernel)",
   "language": "python",
   "name": "python3"
  },
  "language_info": {
   "codemirror_mode": {
    "name": "ipython",
    "version": 3
   },
   "file_extension": ".py",
   "mimetype": "text/x-python",
   "name": "python",
   "nbconvert_exporter": "python",
   "pygments_lexer": "ipython3",
   "version": "3.11.4"
  }
 },
 "nbformat": 4,
 "nbformat_minor": 5
}
