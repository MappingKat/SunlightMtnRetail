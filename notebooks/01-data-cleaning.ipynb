{
 "cells": [
  {
   "cell_type": "markdown",
   "id": "c550f76f",
   "metadata": {},
   "source": [
    "## 1.1 Contents<a id='1.1_Contents'></a>\n",
    "* [1 Data Introduction](#1_Data_intorduction)\n",
    "  * [1.1 Objectives](#1.4_Objectives)\n",
    "    * [1.1.1 Key Questions](#1.3_Imports)\n",
    "  * [1.2 Product Dataset](#1.1_Product_Information)\n",
    " * [1.7 Summary](#1.7_Summary)"
   ]
  },
  {
   "cell_type": "markdown",
   "id": "a3e3dda9",
   "metadata": {},
   "source": [
    "# 1. Data Introduction<a id='1_Data_Introduction'></a>"
   ]
  },
  {
   "cell_type": "markdown",
   "id": "129d2214",
   "metadata": {},
   "source": [
    "Sunlight Ski and Bike, a small store in Glenwood Springs, relies on sales representatives' suggestions for seasonal orders, leading to inefficient inventory management and buying due to:\n",
    "* Lack of understanding of product inventory and demand.\n",
    "* Unclear product categories: prioritizing or eliminating categories.\n",
    "* Difficulty identifying high-demand, high-value items.\n",
    "* Missed opportunities for cross-selling.\n",
    "\n",
    "This results in:\n",
    "* Stockouts for in-demand products.\n",
    "* Overstocking on slow-moving items.\n",
    "* Lost revenue and customer satisfaction.\n",
    "\n",
    "## Objectives<a id='1.1_Objectives'></a>\n",
    "\n",
    "After exploring the historic sales and product data, it was decided that the \"category\" of the products needed some cleaning up in order to get better reporting on which items, colors, sizes sell the best, by which prices, discounts etc. Therefore in order to gain an understanding of how to <b>optimize product inventory and sales to maximize profitability and customer satisfaction</b>, the categories (like skis, bikes, bike parts, etc) need to be reclassified, reviewed, and fixed. Once, the categories and parent categories are correctly classified then we can look at questions like:\n",
    "Specific questions:\n",
    "* Which products sell the best and the quickest? Which brands?  \n",
    "* Which products, sizes, colors sells the most with no discounts, or full MSRP price?\n",
    "\n",
    "And further doesn the road, we can look at:\n",
    "* Which factors influence sales patterns (e.g., seasonality, promotions, external events)?\n",
    "* How can we accurately predict future demand for specific products or categories?\n",
    "* How can we personalize product recommendations to individual customers?"
   ]
  },
  {
   "cell_type": "code",
   "execution_count": 5,
   "id": "c05223ee",
   "metadata": {},
   "outputs": [],
   "source": [
    "#import libraries\n",
    "import os\n",
    "import warnings\n",
    "warnings.filterwarnings(\"ignore\")\n",
    "\n",
    "import pandas as pd\n",
    "import matplotlib.pyplot as plt\n",
    "import seaborn as sns\n",
    "sns.set()  "
   ]
  },
  {
   "cell_type": "markdown",
   "id": "688d8b7b",
   "metadata": {},
   "source": [
    "## 1. 1 Product Datasets<a id='#1.1_Product_Information'></a>"
   ]
  },
  {
   "cell_type": "markdown",
   "id": "103ebd45",
   "metadata": {},
   "source": [
    "Let's look at the products dataset and explore/clean up the category information to get a better understanding of the types of products."
   ]
  },
  {
   "cell_type": "markdown",
   "id": "de7d4141",
   "metadata": {},
   "source": [
    "A little information about this dataset--\n",
    "\n",
    "**Identifiers and Codes:**\n",
    "ID (object): A unique identifier for each product, usually a numerical or alphanumeric code.\n",
    "SKU (Stock Keeping Unit, object): A unique code used for inventory tracking and identification.\n",
    "UPC (Universal Product Code, object): A barcode used for scanning and tracking products globally.\n",
    "MPN (Manufacturer Part Number, object): A unique code assigned by the manufacturer to identify a specific product.\n",
    "VPN (Vendor Part Number, object): A code assigned by the vendor to identify a product within their catalog.\n",
    "\n",
    "**Product Information:**\n",
    "Category (object): The category or subcategory where the product belongs.\n",
    "Description (object): A detailed description of the product's features and specifications.\n",
    "Keyword (object): Keywords or tags associated with the product, used for search and filtering.\n",
    "EstimatedCost (float64): The estimated cost of the product to the retailer.\n",
    "MSRP (Manufacturer's Suggested Retail Price, float64): The suggested retail price set by the manufacturer.\n",
    "\n",
    "**Inventory Management:**\n",
    "Quantity (int64): The current quantity of the product in stock.\n",
    "Min (int64): The minimum quantity to keep in stock.\n",
    "Min2 (int64): A secondary minimum quantity threshold.\n",
    "Max (int64): The maximum quantity to hold in stock.\n",
    "Max2 (int64): A secondary maximum quantity threshold.\n",
    "IsNonInventory (bool): Indicates whether the product is a non-inventory item (not physically stocked).\n",
    "\n",
    "**Product Attributes:**\n",
    "Brand (object): The brand or manufacturer of the product.\n",
    "Color (object): The color of the product.\n",
    "Size (object): The size of the product, if applicable.\n",
    "Location (object): The physical location where the product is stored (likely has limited use with only 2 non-null values).\n",
    "Other (object): Any other relevant product attributes.\n",
    "StyleNumber (object): A style number assigned by the manufacturer or vendor.\n",
    "StyleName (object): A descriptive name for the product's style.\n",
    "Year (object): The year the product was released or manufactured.\n",
    "Gender (object): The target gender for the product.\n",
    "Season (object): The season for which the product is intended (e.g., spring, summer).\n",
    "\n",
    "**Sales and Pricing:**\n",
    "Commission (float64): The commission rate earned on the sale of the product.\n",
    "IsDollarCommission (bool): Indicates whether the commission is a fixed dollar amount or a percentage.\n",
    "NoLabel (bool): Indicates whether the product is sold without a label.\n",
    "EstimatedTime (int64): The estimated time it takes to process and ship the product.\n",
    "eCommerce (bool): Indicates whether the product is available for sale online."
   ]
  },
  {
   "cell_type": "code",
   "execution_count": null,
   "id": "f13ba4cb",
   "metadata": {},
   "outputs": [],
   "source": [
    "# Load datasets\n",
    "product_excel = \"../data/raw/In-Store_Products_202401021512.xlsx\" \n",
    "\n",
    "# Read the Excel file into a DataFrame\n",
    "products = pd.read_excel(product_excel)\n",
    "\n",
    "# Optionally, view the first few rows of the DataFrame\n",
    "products.info()"
   ]
  },
  {
   "cell_type": "markdown",
   "id": "6a063684",
   "metadata": {},
   "source": [
    "Here are all of the columns mentioned above and which type of datatype they are. It looks like we will need to convert some columns, like category, size, and color to categories. \n",
    "\n",
    "But first I will create a new column, called \"ParentCategory\", which will be an aggreagate of the category type of product the item is. This column is important for reporting and classifying products. "
   ]
  },
  {
   "cell_type": "code",
   "execution_count": null,
   "id": "74e75a1c",
   "metadata": {},
   "outputs": [],
   "source": [
    "# products.dropna(subset=['Category'])\n",
    "products['Category'] = products['Category'].astype(str)\n",
    "\n",
    "# Create an empty list to store the parent categories\n",
    "parent_categories = []\n",
    "for category in products['Category']:\n",
    "    parts = category.split(\"-\", 1)\n",
    "    parent_category = parts[0] if len(parts) > 1 else category  # Use original if no \"-\"\n",
    "    if parent_category == 'X':\n",
    "        parent_category = 'Cross Country'\n",
    "    parent_categories.append(parent_category)\n",
    "    \n",
    "\n",
    "# Add the new parent category to the DataFrame\n",
    "products['ParentCategory'] = parent_categories\n",
    "\n",
    "print(products['ParentCategory'].nunique, products['Category'].nunique)"
   ]
  },
  {
   "cell_type": "code",
   "execution_count": null,
   "id": "bbca9c5f",
   "metadata": {},
   "outputs": [],
   "source": [
    "products['Category'] = products['Category'].astype('category')\n",
    "products['Color'] = products['Color'].astype('category')\n",
    "products['Size'] = products['Size'].astype('category')\n",
    "products['Description'] = products['Description'].astype('string')\n",
    "products['Keyword'] = products['Keyword'].astype('string')\n",
    "products['UPC'] = products['UPC'].astype('string')\n",
    "products['ParentCategory'] = products['ParentCategory'].astype('category')\n",
    "products['StyleName'] = products['StyleName'].astype('string')\n",
    "products['Brand'] = products['Brand'].astype('category')\n",
    "products['Keyword'] = products['Brand'].astype('string')\n",
    "print(products['Category'].dtype)"
   ]
  },
  {
   "cell_type": "markdown",
   "id": "46bdcecd",
   "metadata": {},
   "source": [
    "Now that I have created an aggregated category column and converted the columns I want to categories and strings, I will grab only the columns that I think are important to keep in a new dataframe. I will use this dataframe to clean up the rows a bit more. "
   ]
  },
  {
   "cell_type": "code",
   "execution_count": null,
   "id": "5e711752",
   "metadata": {},
   "outputs": [],
   "source": [
    "clean_products = products[[\"Category\", \"Brand\",\"Description\",\"Keyword\",\"UPC\",\"MSRP\",\"Quantity\",\"SKU\",\"Color\",\"Size\",\n",
    "\"StyleNumber\", \"StyleName\", \"ParentCategory\"]]"
   ]
  },
  {
   "cell_type": "code",
   "execution_count": null,
   "id": "7cc2951e",
   "metadata": {},
   "outputs": [],
   "source": [
    "categories = clean_products[\"Category\"].unique\n",
    "clean_products.head()"
   ]
  },
  {
   "cell_type": "code",
   "execution_count": null,
   "id": "4f8fb33e",
   "metadata": {},
   "outputs": [],
   "source": [
    "clean_products.tail()"
   ]
  },
  {
   "cell_type": "markdown",
   "id": "03a95a9c",
   "metadata": {},
   "source": [
    "It appears that there are a roughly 121,355 entries of the vendor products. This does not show what we have in inventory. This is a complete list of all of the product that we stock. \n",
    "\n",
    "\n",
    "And it looks like there are no duplicated products: "
   ]
  },
  {
   "cell_type": "code",
   "execution_count": null,
   "id": "2b99a136",
   "metadata": {},
   "outputs": [],
   "source": [
    "clean_products.duplicated().sum()"
   ]
  },
  {
   "cell_type": "code",
   "execution_count": null,
   "id": "09f1685c",
   "metadata": {},
   "outputs": [],
   "source": [
    "clean_products.isnull().sum()"
   ]
  },
  {
   "cell_type": "markdown",
   "id": "282e06aa",
   "metadata": {},
   "source": [
    "There are a significant amount of StyleNumbers, Size and Colors that are missing. That is okay because some of the products may not have an important color, size, or necessary styleNumber. "
   ]
  },
  {
   "cell_type": "code",
   "execution_count": null,
   "id": "8ee30569",
   "metadata": {},
   "outputs": [],
   "source": [
    "clean_products.nunique()"
   ]
  },
  {
   "cell_type": "code",
   "execution_count": null,
   "id": "210a2bbe",
   "metadata": {},
   "outputs": [],
   "source": [
    "clean_products.info()"
   ]
  },
  {
   "cell_type": "code",
   "execution_count": null,
   "id": "2a7a1db2",
   "metadata": {},
   "outputs": [],
   "source": [
    "#lets look at the category column as a way to get insight on the products\n",
    "unique_counts = clean_products['Category'].unique()\n",
    "print(unique_counts)\n",
    "# clean_products['Category'].nunique()\n",
    "\n",
    "print(clean_products['Description'].nunique())"
   ]
  },
  {
   "cell_type": "code",
   "execution_count": null,
   "id": "5f3a6b8a",
   "metadata": {},
   "outputs": [],
   "source": [
    "# Create the countplot, sorting bars by count\n",
    "bar_plot = sns.countplot(\n",
    "    x='ParentCategory', data=clean_products, palette='tab10', order=clean_products['ParentCategory'].value_counts().index\n",
    ")\n",
    "\n",
    "# Rotate x-axis labels for readability\n",
    "plt.xticks(rotation=45, ha='right')  # Adjust rotation and alignment as needed\n",
    "\n",
    "# Reduce label font size\n",
    "plt.tick_params(axis='x', labelsize=8)  # Adjust font size as needed\n",
    "\n",
    "# Improve spacing and visual clarity\n",
    "plt.tight_layout()\n",
    "\n",
    "plt.show()"
   ]
  },
  {
   "cell_type": "markdown",
   "id": "b530ef47",
   "metadata": {},
   "source": [
    "There are so many 'nan' categorized products that I am unable to understand the distribution of products. Because most of the \"nan\" categorized products are old or were not purchased (sometimes we put products in the system that we never buy), I have decided to remove them. "
   ]
  },
  {
   "cell_type": "code",
   "execution_count": null,
   "id": "0094c592",
   "metadata": {},
   "outputs": [],
   "source": [
    "clean_products[\"ParentCategory\"] = clean_products[\"ParentCategory\"].astype(\"str\")\n",
    "clean_products[\"ParentCategory\"] = clean_products[\"ParentCategory\"].replace([\"nan\", \"\", \"N/A\", \"<NA>\"], pd.NA)\n",
    "\n",
    "dropped_products = clean_products.loc[~clean_products.index.isin(clean_products.dropna(subset=[\"ParentCategory\"]).index)]\n",
    "print(dropped_products.head())"
   ]
  },
  {
   "cell_type": "code",
   "execution_count": null,
   "id": "db2b6c44",
   "metadata": {},
   "outputs": [],
   "source": [
    "df_products = clean_products.dropna(subset=[\"ParentCategory\"])\n",
    "\n",
    "# Create the countplot, sorting bars by count\n",
    "bar_plot = sns.countplot(\n",
    "    x='ParentCategory', data=df_products, palette='tab10', order=df_products['ParentCategory'].value_counts().index\n",
    ")\n",
    "\n",
    "# Rotate x-axis labels for readability\n",
    "plt.xticks(rotation=45, ha='right')  # Adjust rotation and alignment as needed\n",
    "\n",
    "# Reduce label font size\n",
    "plt.tick_params(axis='x', labelsize=8)  # Adjust font size as needed\n",
    "\n",
    "# Improve spacing and visual clarity\n",
    "plt.tight_layout()\n",
    "\n",
    "plt.show()"
   ]
  },
  {
   "cell_type": "code",
   "execution_count": null,
   "id": "1e855282",
   "metadata": {},
   "outputs": [],
   "source": [
    "sns.pairplot(df_products, hue = 'ParentCategory')"
   ]
  },
  {
   "cell_type": "code",
   "execution_count": null,
   "id": "951eec0b",
   "metadata": {},
   "outputs": [],
   "source": [
    "df_products.to_csv('../data/processed/products.csv', index=False, encoding='utf-8')\n",
    "dropped_products.to_csv('../data/processed/no-categories-products.csv', index=False, encoding='utf-8')"
   ]
  },
  {
   "cell_type": "markdown",
   "id": "cbea0791",
   "metadata": {},
   "source": [
    "# 1.7 Summary<a id='1.7_Summary'></a>"
   ]
  },
  {
   "cell_type": "markdown",
   "id": "414494d8",
   "metadata": {},
   "source": [
    "In reviewing the data, there were 11 columns and 121,355 rows that I decided would be useful. For the time being, I dropped rows that had \"nan\" as a category as I believe that data is either old or messy. I will be focusing on the 121,355 product that have categories for this project and later I can look at the uncatetgorized products once I have a category classification scheme up and running. \n",
    "\n",
    "There are a number of missing category values for the products, which makes it hard to run reports and see which categories and types of products sell the best at the store. In order to update the categories to a new schema that will make reporting much more straightforward, it is necessary to view the pattern in the missing category data, as well as the accuracy in the category calssification. Are the products in the correct category? And can we fix it with automatic classification. Let's find out!"
   ]
  }
 ],
 "metadata": {
  "kernelspec": {
   "display_name": "Python 3 (ipykernel)",
   "language": "python",
   "name": "python3"
  },
  "language_info": {
   "codemirror_mode": {
    "name": "ipython",
    "version": 3
   },
   "file_extension": ".py",
   "mimetype": "text/x-python",
   "name": "python",
   "nbconvert_exporter": "python",
   "pygments_lexer": "ipython3",
   "version": "3.11.4"
  }
 },
 "nbformat": 4,
 "nbformat_minor": 5
}
