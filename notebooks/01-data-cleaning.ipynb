{
 "cells": [
  {
   "cell_type": "markdown",
   "id": "c550f76f",
   "metadata": {},
   "source": [
    "## 1.1 Contents<a id='1.1_Contents'></a>\n",
    "* [1 Data Introduction](#1_Data_intorduction)\n",
    "  * [1.1 Objectives](#1.4_Objectives)\n",
    "    * [1.1.1 Key Questions](#1.3_Imports)\n",
    "  * [1.2 Product Dataset](#1.1_Product_Information)\n",
    "  * [1.3 Sales History Dataset](#1.2_Sales_History)\n",
    "  * [1.4 Load The Ski Resort Data](#1.5_Load_The_Ski_Resort_Data)\n",
    "  * [1.5 Explore The Data](#1.6_Explore_The_Data)\n",
    "    * [1.5.1 Find Your Resort Of Interest](#1.6.1_Find_Your_Resort_Of_Interest)\n",
    "    * [1.5.2 Number Of Missing Values By Column](#1.6.2_Number_Of_Missing_Values_By_Column)\n",
    "    * [1.5.3 Categorical Features](#1.6.3_Categorical_Features)\n",
    "      * [1.5.3.1 Unique Resort Names](#1.6.3.1_Unique_Resort_Names)\n",
    "      * [1.6.3.2 Region And State](#1.6.3.2_Region_And_State)\n",
    "      * [1.6.3.3 Number of distinct regions and states](#1.6.3.3_Number_of_distinct_regions_and_states)\n",
    "      * [1.6.3.4 Distribution Of Resorts By Region And State](#1.6.3.4_Distribution_Of_Resorts_By_Region_And_State)\n",
    "      * [1.6.3.5 Distribution Of Ticket Price By State](#1.6.3.5_Distribution_Of_Ticket_Price_By_State)\n",
    " * [1.7 Summary](#1.7_Summary)"
   ]
  },
  {
   "cell_type": "markdown",
   "id": "a3e3dda9",
   "metadata": {},
   "source": [
    "# 1. Data Introduction<a id='1_Data_Introduction'></a>"
   ]
  },
  {
   "cell_type": "markdown",
   "id": "129d2214",
   "metadata": {},
   "source": [
    "Sunlight Ski and Bike, a small store in Glenwood Springs, relies on sales representatives' suggestions for seasonal orders, leading to inefficient inventory management and buying due to:\n",
    "* Lack of understanding of product inventory and demand.\n",
    "* Unclear product categories: prioritizing or eliminating categories.\n",
    "* Difficulty identifying high-demand, high-value items.\n",
    "* Missed opportunities for cross-selling.\n",
    "\n",
    "This results in:\n",
    "* Stockouts for in-demand products.\n",
    "* Overstocking on slow-moving items.\n",
    "* Lost revenue and customer satisfaction.\n",
    "\n",
    "## Objectives<a id='1.1_Objectives'></a>\n",
    "\n",
    "This project will focus on examining two data sources: \n",
    "(1) Historical sales data (product ID, SKU, name, price, quantity sold, date, time, payment method)\n",
    "(2) Product inventory data (current stock levels, product descriptions, features, specifications)\n",
    "\n",
    "in order to gain an understanding of how to <b>optimize product inventory and sales to maximize profitability and customer satisfaction</b>.\n",
    "\n",
    "Specific questions:\n",
    "* Which products sell the best and the quickest?\n",
    "* What factors influence sales patterns (e.g., seasonality, promotions, external events)?\n",
    "* Can we accurately predict future demand for specific products or categories?\n",
    "* How can we personalize product recommendations to individual customers?"
   ]
  },
  {
   "cell_type": "code",
   "execution_count": 1,
   "id": "c05223ee",
   "metadata": {},
   "outputs": [],
   "source": [
    "#import libraries\n",
    "import os\n",
    "import warnings\n",
    "warnings.filterwarnings(\"ignore\")\n",
    "import numpy as np \n",
    "import pandas as pd\n",
    "import glob\n",
    "import matplotlib.pyplot as plt\n",
    "import seaborn as sns\n",
    "sns.set()\n",
    "\n",
    "# sales_csv = glob.glob('c:/Users/{username}/Documents/Data Science Projects/sunlight-retail-analysis/data/raw/sales/*.csv')\n",
    "\n",
    "# sales_frame = []\n",
    "# for file in sales_csv:\n",
    "#     sales_frame.append(pd.read_csv(sales_csv))\n",
    "                 \n",
    "# sales = pd.concat(sales_frame)                 \n",
    "\n",
    "sales_csv = \"../data/raw/Sales 1-3-2024.csv\"\n",
    "sales_category_excel = \"Sales_By_Category_20231226_1648.xlsx\"\n",
    "sales_history_csv = \"../data/raw/2023 - Sunlight Ski and Bike Shop.csv\""
   ]
  },
  {
   "cell_type": "markdown",
   "id": "688d8b7b",
   "metadata": {},
   "source": [
    "## 1. 1 Product Datasets<a id='#1.1_Product_Information'></a>"
   ]
  },
  {
   "cell_type": "markdown",
   "id": "103ebd45",
   "metadata": {},
   "source": [
    "Let's look at the products dataset and clean up the category information to get a better understanding of the types of products."
   ]
  },
  {
   "cell_type": "code",
   "execution_count": 2,
   "id": "f13ba4cb",
   "metadata": {},
   "outputs": [
    {
     "name": "stdout",
     "output_type": "stream",
     "text": [
      "<class 'pandas.core.frame.DataFrame'>\n",
      "RangeIndex: 121355 entries, 0 to 121354\n",
      "Data columns (total 31 columns):\n",
      " #   Column              Non-Null Count   Dtype  \n",
      "---  ------              --------------   -----  \n",
      " 0   ID                  121355 non-null  object \n",
      " 1   SKU                 121355 non-null  object \n",
      " 2   UPC                 118752 non-null  object \n",
      " 3   MPN                 19424 non-null   object \n",
      " 4   VPN                 116916 non-null  object \n",
      " 5   Category            21396 non-null   object \n",
      " 6   Description         121355 non-null  object \n",
      " 7   Keyword             120677 non-null  object \n",
      " 8   EstimatedCost       121355 non-null  float64\n",
      " 9   MSRP                121355 non-null  float64\n",
      " 10  Quantity            121355 non-null  int64  \n",
      " 11  Min                 121355 non-null  int64  \n",
      " 12  Min2                121355 non-null  int64  \n",
      " 13  Max                 121355 non-null  int64  \n",
      " 14  Max2                121355 non-null  int64  \n",
      " 15  IsNonInventory      121355 non-null  bool   \n",
      " 16  Brand               102635 non-null  object \n",
      " 17  Color               79048 non-null   object \n",
      " 18  Size                108466 non-null  object \n",
      " 19  Location            2 non-null       object \n",
      " 20  Other               3 non-null       object \n",
      " 21  StyleNumber         57123 non-null   object \n",
      " 22  StyleName           72772 non-null   object \n",
      " 23  Year                40747 non-null   object \n",
      " 24  Gender              60639 non-null   object \n",
      " 25  Season              56369 non-null   object \n",
      " 26  Commission          121344 non-null  float64\n",
      " 27  IsDollarCommission  121355 non-null  bool   \n",
      " 28  NoLabel             121355 non-null  bool   \n",
      " 29  EstimatedTime       121355 non-null  int64  \n",
      " 30  eCommerce           121355 non-null  bool   \n",
      "dtypes: bool(4), float64(3), int64(6), object(18)\n",
      "memory usage: 25.5+ MB\n"
     ]
    }
   ],
   "source": [
    "# Load datasets\n",
    "product_excel = \"../data/raw/In-Store_Products_202401021512.xlsx\" \n",
    "\n",
    "# Read the Excel file into a DataFrame\n",
    "products = pd.read_excel(product_excel)\n",
    "\n",
    "# Optionally, view the first few rows of the DataFrame\n",
    "products.info()"
   ]
  },
  {
   "cell_type": "code",
   "execution_count": 3,
   "id": "74e75a1c",
   "metadata": {},
   "outputs": [],
   "source": [
    "# products.dropna(subset=['Category'])\n",
    "products['Category'] = products['Category'].astype(str)\n",
    "products['ParentCategory'] = products['Category'].apply(lambda x: x.split('-')[0])"
   ]
  },
  {
   "cell_type": "code",
   "execution_count": 24,
   "id": "beb9a449",
   "metadata": {},
   "outputs": [
    {
     "name": "stdout",
     "output_type": "stream",
     "text": [
      "121355\n"
     ]
    }
   ],
   "source": [
    "# products = products.set_axis(['Category', *products.columns[1:]], axis=1, inplace=False)\n",
    "products = products.reset_index(drop=True)\n",
    "parent_categories = products.iloc[:, 31].tolist()\n",
    "print(len(parent_categories))\n"
   ]
  },
  {
   "cell_type": "code",
   "execution_count": null,
   "id": "5e711752",
   "metadata": {},
   "outputs": [],
   "source": [
    "clean_products = products[[\"Category\", \"Description\",\"Keyword\",\"UPC\",\"MSRP\",\"Quantity\",\"SKU\",\"Color\",\"Size\",\n",
    "\"StyleNumber\", \"ParentCategory\"]]"
   ]
  },
  {
   "cell_type": "code",
   "execution_count": null,
   "id": "7cc2951e",
   "metadata": {},
   "outputs": [],
   "source": [
    "categories = clean_products[\"Category\"].unique\n",
    "clean_products.head()\n"
   ]
  },
  {
   "cell_type": "markdown",
   "id": "03a95a9c",
   "metadata": {},
   "source": [
    "It appears that there are a roughly 121,355 entries of the vendor products. This does not show what we have in inventory. This is a complete list of all of the product that we stock. And it looks like there are no duplicated products: "
   ]
  },
  {
   "cell_type": "code",
   "execution_count": null,
   "id": "2b99a136",
   "metadata": {},
   "outputs": [],
   "source": [
    "clean_products['Category'] = clean_products['ParentCategory'].astype(str)\n",
    "clean_products.info(verbose = False)\n",
    "clean_products.duplicated().sum()"
   ]
  },
  {
   "cell_type": "code",
   "execution_count": null,
   "id": "09f1685c",
   "metadata": {},
   "outputs": [],
   "source": [
    "clean_products.groupby('Category').sum()\n"
   ]
  },
  {
   "cell_type": "raw",
   "id": "93d52008",
   "metadata": {},
   "source": [
    "clean_products.nunique()"
   ]
  },
  {
   "cell_type": "code",
   "execution_count": null,
   "id": "f79a0e7d",
   "metadata": {},
   "outputs": [],
   "source": [
    "clean_products['Category'] = clean_products['Category'].astype('category')\n",
    "print(clean_products['Category'].dtype)"
   ]
  },
  {
   "cell_type": "code",
   "execution_count": null,
   "id": "210a2bbe",
   "metadata": {},
   "outputs": [],
   "source": [
    "clean_products.info()\n",
    "clean_products['Description'] = clean_products['Description'].astype('string')\n",
    "clean_products['Keyword'] = clean_products['Keyword'].astype('string')\n",
    "clean_products['UPC'] = clean_products['UPC'].astype('string')\n",
    "clean_products['Color'] = clean_products['Color'].astype('string')\n",
    "clean_products['Size'] = clean_products['Size'].astype('category')"
   ]
  },
  {
   "cell_type": "code",
   "execution_count": null,
   "id": "2a7a1db2",
   "metadata": {},
   "outputs": [],
   "source": [
    "#lets look at the category column as a way to get insight on the products\n",
    "unique_counts = clean_products['Category'].unique()\n",
    "print(unique_counts)\n",
    "# clean_products['Category'].nunique()\n",
    "\n",
    "print(clean_products['Description'].nunique())"
   ]
  },
  {
   "cell_type": "code",
   "execution_count": null,
   "id": "5f3a6b8a",
   "metadata": {},
   "outputs": [],
   "source": [
    "sns.countplot(x='ParentCategory',data=clean_products,palette='tab10')\n",
    "plt.xticks(rotation=45)"
   ]
  },
  {
   "cell_type": "code",
   "execution_count": null,
   "id": "5167bf59",
   "metadata": {},
   "outputs": [],
   "source": [
    "nan_rows = clean_products[pd.isna(clean_products['ParentCategory'])]\n",
    "print(nan_rows)"
   ]
  },
  {
   "cell_type": "markdown",
   "id": "9221a920",
   "metadata": {},
   "source": [
    "## 1. 2 Sales History Dataset<a id='#1.2_Sales_History'></a>"
   ]
  },
  {
   "cell_type": "raw",
   "id": "91528919",
   "metadata": {},
   "source": [
    "SELECT\n",
    "    /* General Sales Information*/\n",
    "    Products.[Store UPC] AS [SKU],\n",
    "    SalesItems.Description AS Description,\n",
    "    Categories.Topic AS Category,\n",
    "    Vendors.Name AS [Vendor],\n",
    "    Sales.FinishDate AS 'SaleDate',\n",
    "    Customers.State AS CustomerLocation,\n",
    "    SalesItems.Quantity AS Quantity,\n",
    "    SalesItems.Quantity * SalesItems.Price AS Total,\n",
    "\n",
    "    /* Specific Dates and Pricing */\n",
    "    MONTH(Sales.FinishDate) AS Month,\n",
    "    DAY(Sales.FinishDate) AS Day,\n",
    "    YEAR(Sales.FinishDate) AS Year,\n",
    "    SUM(SalesItems.MSRP * SalesItems.Quantity) AS MSRP,\n",
    "    SUM((SalesItems.MSRP - SalesItems.Price) * SalesItems.Quantity) AS Discount,\n",
    "    SUM(SalesItems.Price * SalesItems.Quantity) AS Sales,\n",
    "    SUM(SalesItems.COGS * SalesItems.Quantity) AS Cost,\n",
    "    SUM((SalesItems.Price - SalesItems.COGS) * SalesItems.Quantity) AS Profit,\n",
    "    Margin = CASE WHEN SUM(SalesItems.price * SalesItems.Quantity) = 0 THEN 0\n",
    "                  ELSE SUM((SalesItems.Price - SalesItems.COGS) * SalesItems.Quantity) / SUM(SalesItems.price * SalesItems.Quantity) * 100 END\n",
    "\n",
    "FROM SalesItems\n",
    "INNER JOIN Sales ON Sales.ID = SalesItems.SalesID\n",
    "INNER JOIN Products ON SalesItems.ProductID = Products.ID\n",
    "LEFT OUTER JOIN Categories ON Products.TopicID = Categories.ID\n",
    "LEFT OUTER JOIN Customers ON Sales.CustomerID = Customers.ID\n",
    "LEFT OUTER JOIN VendorProducts ON Products.ID = VendorProducts.ProductID\n",
    "LEFT OUTER JOIN Vendors ON VendorProducts.VendorID = Vendors.ID\n",
    "\n",
    "WHERE SalesItems.Hide = 0\n",
    "  AND Sales.Hide = 0\n",
    "  AND VendorProducts.Hide = 0\n",
    "  AND Sales.FinishDate BETWEEN <<StartDate>> AND <<EndDate>>\n",
    "\n",
    "GROUP BY YEAR(Sales.FinishDate), MONTH(Sales.FinishDate), DAY(Sales.FinishDate),\n",
    "         Products.[Store UPC], SalesItems.ID, Customers.State, Sales.FinishDate,\n",
    "         SalesItems.Description, Vendors.Name, Categories.Topic, SalesItems.Quantity, SalesItems.Price\n",
    "\n",
    "ORDER BY YEAR(Sales.FinishDate), MONTH(Sales.FinishDate), DAY(Sales.FinishDate);\n"
   ]
  },
  {
   "cell_type": "code",
   "execution_count": null,
   "id": "951eec0b",
   "metadata": {},
   "outputs": [],
   "source": [
    "# sales = pd.read_csv(sales_csv, encoding='latin-1')\n",
    "sales = pd.read_csv(sales_history_csv, encoding='latin-1')\n",
    "print(sales.head())\n",
    "print(sales.info())"
   ]
  },
  {
   "cell_type": "code",
   "execution_count": null,
   "id": "d9d5220e",
   "metadata": {},
   "outputs": [],
   "source": [
    "sales.describe()"
   ]
  },
  {
   "cell_type": "code",
   "execution_count": null,
   "id": "d0aaf000",
   "metadata": {},
   "outputs": [],
   "source": [
    "sales_category = pd.read_excel(sales_category_excel)\n",
    "print(sales_category.head())"
   ]
  },
  {
   "cell_type": "code",
   "execution_count": null,
   "id": "fa919c40",
   "metadata": {},
   "outputs": [],
   "source": [
    "sorted_categories = unique_counts.sort()"
   ]
  },
  {
   "cell_type": "markdown",
   "id": "cbea0791",
   "metadata": {},
   "source": [
    "# 1.7 Summary<a id='1.7_Summary'></a>"
   ]
  },
  {
   "cell_type": "markdown",
   "id": "414494d8",
   "metadata": {},
   "source": [
    "There are a number of missing category values for the products, which makes it hard to run reports. For now, I have dropped the ;nan' values. "
   ]
  },
  {
   "cell_type": "code",
   "execution_count": null,
   "id": "497464f6",
   "metadata": {},
   "outputs": [],
   "source": []
  }
 ],
 "metadata": {
  "kernelspec": {
   "display_name": "Python 3 (ipykernel)",
   "language": "python",
   "name": "python3"
  },
  "language_info": {
   "codemirror_mode": {
    "name": "ipython",
    "version": 3
   },
   "file_extension": ".py",
   "mimetype": "text/x-python",
   "name": "python",
   "nbconvert_exporter": "python",
   "pygments_lexer": "ipython3",
   "version": "3.11.4"
  }
 },
 "nbformat": 4,
 "nbformat_minor": 5
}
