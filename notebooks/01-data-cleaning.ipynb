{
 "cells": [
  {
   "cell_type": "markdown",
   "id": "c550f76f",
   "metadata": {},
   "source": [
    "## 1.1 Contents<a id='1.1_Contents'></a>\n",
    "* [1 Data Introduction](#1_Data_intorduction)\n",
    "  * [1.1 Objectives](#1.4_Objectives)\n",
    "    * [1.1.1 Key Questions](#1.3_Imports)\n",
    "  * [1.2 Product Dataset](#1.1_Product_Information)\n",
    " * [1.7 Summary](#1.7_Summary)"
   ]
  },
  {
   "cell_type": "markdown",
   "id": "a3e3dda9",
   "metadata": {},
   "source": [
    "# 1. Data Introduction<a id='1_Data_Introduction'></a>"
   ]
  },
  {
   "cell_type": "markdown",
   "id": "129d2214",
   "metadata": {},
   "source": [
    "Sunlight Ski and Bike, a small store in Glenwood Springs, relies on sales representatives' suggestions for seasonal orders, leading to inefficient inventory management and buying due to:\n",
    "* Lack of understanding of product inventory and demand.\n",
    "* Unclear product categories: prioritizing or eliminating categories.\n",
    "* Difficulty identifying high-demand, high-value items.\n",
    "* Missed opportunities for cross-selling.\n",
    "\n",
    "This results in:\n",
    "* Stockouts for in-demand products.\n",
    "* Overstocking on slow-moving items.\n",
    "* Lost revenue and customer satisfaction.\n",
    "\n",
    "## Objectives<a id='1.1_Objectives'></a>\n",
    "\n",
    "After exploring the historic sales and product data, it was decided that the \"category\" of the products needed some cleaning up in order to get better reporting on which items, colors, sizes sell the best, by which prices, discounts etc. Therefore in order to gain an understanding of how to <b>optimize product inventory and sales to maximize profitability and customer satisfaction</b>, the categories (like skis, bikes, bike parts, etc) need to be reclassified, reviewed, and fixed. Once, the categories and parent categories are correctly classified then we can look at questions like:\n",
    "Specific questions:\n",
    "* Which products sell the best and the quickest? Which brands?  \n",
    "* Which products, sizes, colors sells the most with no discounts, or full MSRP price?\n",
    "\n",
    "And further doesn the road, we can look at:\n",
    "* Which factors influence sales patterns (e.g., seasonality, promotions, external events)?\n",
    "* How can we accurately predict future demand for specific products or categories?\n",
    "* How can we personalize product recommendations to individual customers?"
   ]
  },
  {
   "cell_type": "code",
   "execution_count": 1,
   "id": "c05223ee",
   "metadata": {},
   "outputs": [],
   "source": [
    "#import libraries\n",
    "import os\n",
    "import warnings\n",
    "warnings.filterwarnings(\"ignore\")\n",
    "\n",
    "import pandas as pd\n",
    "import matplotlib.pyplot as plt\n",
    "import seaborn as sns\n",
    "sns.set()  "
   ]
  },
  {
   "cell_type": "markdown",
   "id": "688d8b7b",
   "metadata": {},
   "source": [
    "## 1. 1 Product Datasets<a id='#1.1_Product_Information'></a>"
   ]
  },
  {
   "cell_type": "markdown",
   "id": "103ebd45",
   "metadata": {},
   "source": [
    "Let's look at the products dataset and explore/clean up the category information to get a better understanding of the types of products."
   ]
  },
  {
   "cell_type": "markdown",
   "id": "de7d4141",
   "metadata": {},
   "source": [
    "A little information about this dataset--\n",
    "\n",
    "**Identifiers and Codes:**\n",
    "ID (object): A unique identifier for each product, usually a numerical or alphanumeric code.\n",
    "SKU (Stock Keeping Unit, object): A unique code used for inventory tracking and identification.\n",
    "UPC (Universal Product Code, object): A barcode used for scanning and tracking products globally.\n",
    "MPN (Manufacturer Part Number, object): A unique code assigned by the manufacturer to identify a specific product.\n",
    "VPN (Vendor Part Number, object): A code assigned by the vendor to identify a product within their catalog.\n",
    "\n",
    "**Product Information:**\n",
    "Category (object): The category or subcategory where the product belongs.\n",
    "Description (object): A detailed description of the product's features and specifications.\n",
    "Keyword (object): Keywords or tags associated with the product, used for search and filtering.\n",
    "EstimatedCost (float64): The estimated cost of the product to the retailer.\n",
    "MSRP (Manufacturer's Suggested Retail Price, float64): The suggested retail price set by the manufacturer.\n",
    "\n",
    "**Inventory Management:**\n",
    "Quantity (int64): The current quantity of the product in stock.\n",
    "Min (int64): The minimum quantity to keep in stock.\n",
    "Min2 (int64): A secondary minimum quantity threshold.\n",
    "Max (int64): The maximum quantity to hold in stock.\n",
    "Max2 (int64): A secondary maximum quantity threshold.\n",
    "IsNonInventory (bool): Indicates whether the product is a non-inventory item (not physically stocked).\n",
    "\n",
    "**Product Attributes:**\n",
    "Brand (object): The brand or manufacturer of the product.\n",
    "Color (object): The color of the product.\n",
    "Size (object): The size of the product, if applicable.\n",
    "Location (object): The physical location where the product is stored (likely has limited use with only 2 non-null values).\n",
    "Other (object): Any other relevant product attributes.\n",
    "StyleNumber (object): A style number assigned by the manufacturer or vendor.\n",
    "StyleName (object): A descriptive name for the product's style.\n",
    "Year (object): The year the product was released or manufactured.\n",
    "Gender (object): The target gender for the product.\n",
    "Season (object): The season for which the product is intended (e.g., spring, summer).\n",
    "\n",
    "**Sales and Pricing:**\n",
    "Commission (float64): The commission rate earned on the sale of the product.\n",
    "IsDollarCommission (bool): Indicates whether the commission is a fixed dollar amount or a percentage.\n",
    "NoLabel (bool): Indicates whether the product is sold without a label.\n",
    "EstimatedTime (int64): The estimated time it takes to process and ship the product.\n",
    "eCommerce (bool): Indicates whether the product is available for sale online."
   ]
  },
  {
   "cell_type": "code",
   "execution_count": 2,
   "id": "f13ba4cb",
   "metadata": {},
   "outputs": [
    {
     "name": "stdout",
     "output_type": "stream",
     "text": [
      "<class 'pandas.core.frame.DataFrame'>\n",
      "RangeIndex: 121355 entries, 0 to 121354\n",
      "Data columns (total 31 columns):\n",
      " #   Column              Non-Null Count   Dtype  \n",
      "---  ------              --------------   -----  \n",
      " 0   ID                  121355 non-null  object \n",
      " 1   SKU                 121355 non-null  object \n",
      " 2   UPC                 118752 non-null  object \n",
      " 3   MPN                 19424 non-null   object \n",
      " 4   VPN                 116916 non-null  object \n",
      " 5   Category            21396 non-null   object \n",
      " 6   Description         121355 non-null  object \n",
      " 7   Keyword             120677 non-null  object \n",
      " 8   EstimatedCost       121355 non-null  float64\n",
      " 9   MSRP                121355 non-null  float64\n",
      " 10  Quantity            121355 non-null  int64  \n",
      " 11  Min                 121355 non-null  int64  \n",
      " 12  Min2                121355 non-null  int64  \n",
      " 13  Max                 121355 non-null  int64  \n",
      " 14  Max2                121355 non-null  int64  \n",
      " 15  IsNonInventory      121355 non-null  bool   \n",
      " 16  Brand               102635 non-null  object \n",
      " 17  Color               79048 non-null   object \n",
      " 18  Size                108466 non-null  object \n",
      " 19  Location            2 non-null       object \n",
      " 20  Other               3 non-null       object \n",
      " 21  StyleNumber         57123 non-null   object \n",
      " 22  StyleName           72772 non-null   object \n",
      " 23  Year                40747 non-null   object \n",
      " 24  Gender              60639 non-null   object \n",
      " 25  Season              56369 non-null   object \n",
      " 26  Commission          121344 non-null  float64\n",
      " 27  IsDollarCommission  121355 non-null  bool   \n",
      " 28  NoLabel             121355 non-null  bool   \n",
      " 29  EstimatedTime       121355 non-null  int64  \n",
      " 30  eCommerce           121355 non-null  bool   \n",
      "dtypes: bool(4), float64(3), int64(6), object(18)\n",
      "memory usage: 25.5+ MB\n"
     ]
    }
   ],
   "source": [
    "# Load datasets\n",
    "product_excel = \"../data/raw/In-Store_Products_202401021512.xlsx\" \n",
    "\n",
    "# Read the Excel file into a DataFrame\n",
    "products = pd.read_excel(product_excel)\n",
    "\n",
    "# Optionally, view the first few rows of the DataFrame\n",
    "products.info()"
   ]
  },
  {
   "cell_type": "markdown",
   "id": "20fe4109",
   "metadata": {},
   "source": [
    "Here are all of the columns mentioned above and which type of datatype they are. It looks like we will need to convert some columns, like category, size, and color to categories. \n",
    "\n",
    "But first I will create a new column, called \"ParentCategory\", which will be an aggreagate of the category type of product the item is. This column is important for reporting and classifying products. "
   ]
  },
  {
   "cell_type": "code",
   "execution_count": 3,
   "id": "74e75a1c",
   "metadata": {},
   "outputs": [
    {
     "name": "stdout",
     "output_type": "stream",
     "text": [
      "<bound method IndexOpsMixin.nunique of 0                    nan\n",
      "1                    nan\n",
      "2              Clothing \n",
      "3                    nan\n",
      "4         Ski Hardgoods \n",
      "               ...      \n",
      "121350               nan\n",
      "121351               nan\n",
      "121352               nan\n",
      "121353               nan\n",
      "121354               nan\n",
      "Name: ParentCategory, Length: 121355, dtype: object> <bound method IndexOpsMixin.nunique of 0                          nan\n",
      "1                          nan\n",
      "2             Clothing - Socks\n",
      "3                          nan\n",
      "4         Ski Hardgoods - Skis\n",
      "                  ...         \n",
      "121350                     nan\n",
      "121351                     nan\n",
      "121352                     nan\n",
      "121353                     nan\n",
      "121354                     nan\n",
      "Name: Category, Length: 121355, dtype: object>\n"
     ]
    }
   ],
   "source": [
    "# products.dropna(subset=['Category'])\n",
    "products['Category'] = products['Category'].astype(str)\n",
    "\n",
    "# Create an empty list to store the parent categories\n",
    "parent_categories = []\n",
    "for category in products['Category']:\n",
    "    parts = category.split(\"-\", 1)\n",
    "    parent_category = parts[0] if len(parts) > 1 else category  # Use original if no \"-\"\n",
    "    parent_categories.append(parent_category)\n",
    "\n",
    "# Add the new parent category to the DataFrame\n",
    "products['ParentCategory'] = parent_categories\n",
    "\n",
    "print(products['ParentCategory'].nunique, products['Category'].nunique)"
   ]
  },
  {
   "cell_type": "code",
   "execution_count": 4,
   "id": "5d248aad",
   "metadata": {},
   "outputs": [
    {
     "name": "stdout",
     "output_type": "stream",
     "text": [
      "category\n"
     ]
    }
   ],
   "source": [
    "products['Category'] = products['Category'].astype('category')\n",
    "products['Color'] = products['Color'].astype('category')\n",
    "products['Size'] = products['Size'].astype('category')\n",
    "products['Description'] = products['Description'].astype('string')\n",
    "products['Keyword'] = products['Keyword'].astype('string')\n",
    "products['UPC'] = products['UPC'].astype('string')\n",
    "products['ParentCategory'] = products['ParentCategory'].astype('category')\n",
    "products['StyleName'] = products['StyleName'].astype('string')\n",
    "print(products['Category'].dtype)"
   ]
  },
  {
   "cell_type": "markdown",
   "id": "ee429362",
   "metadata": {},
   "source": [
    "Now that I have created an aggregated category column and converted the columns I want to categories and strings, I will grab only the columns that I think are important to keep in a new dataframe. I will use this dataframe to clean up the rows a bit more. "
   ]
  },
  {
   "cell_type": "code",
   "execution_count": 5,
   "id": "5e711752",
   "metadata": {},
   "outputs": [],
   "source": [
    "clean_products = products[[\"Category\", \"Description\",\"Keyword\",\"UPC\",\"MSRP\",\"Quantity\",\"SKU\",\"Color\",\"Size\",\n",
    "\"StyleNumber\", \"StyleName\", \"ParentCategory\"]]"
   ]
  },
  {
   "cell_type": "code",
   "execution_count": 6,
   "id": "7cc2951e",
   "metadata": {},
   "outputs": [
    {
     "data": {
      "text/html": [
       "<div>\n",
       "<style scoped>\n",
       "    .dataframe tbody tr th:only-of-type {\n",
       "        vertical-align: middle;\n",
       "    }\n",
       "\n",
       "    .dataframe tbody tr th {\n",
       "        vertical-align: top;\n",
       "    }\n",
       "\n",
       "    .dataframe thead th {\n",
       "        text-align: right;\n",
       "    }\n",
       "</style>\n",
       "<table border=\"1\" class=\"dataframe\">\n",
       "  <thead>\n",
       "    <tr style=\"text-align: right;\">\n",
       "      <th></th>\n",
       "      <th>Category</th>\n",
       "      <th>Description</th>\n",
       "      <th>Keyword</th>\n",
       "      <th>UPC</th>\n",
       "      <th>MSRP</th>\n",
       "      <th>Quantity</th>\n",
       "      <th>SKU</th>\n",
       "      <th>Color</th>\n",
       "      <th>Size</th>\n",
       "      <th>StyleNumber</th>\n",
       "      <th>StyleName</th>\n",
       "      <th>ParentCategory</th>\n",
       "    </tr>\n",
       "  </thead>\n",
       "  <tbody>\n",
       "    <tr>\n",
       "      <th>0</th>\n",
       "      <td>nan</td>\n",
       "      <td>2024 SP - YTH V3 SOLID HELMET MT WHT</td>\n",
       "      <td>2024 SP - YTH V3 SOLID HE</td>\n",
       "      <td>191972848216</td>\n",
       "      <td>349.95</td>\n",
       "      <td>0</td>\n",
       "      <td>20227727906T</td>\n",
       "      <td>NaN</td>\n",
       "      <td>YL</td>\n",
       "      <td>NaN</td>\n",
       "      <td>&lt;NA&gt;</td>\n",
       "      <td>nan</td>\n",
       "    </tr>\n",
       "    <tr>\n",
       "      <th>1</th>\n",
       "      <td>nan</td>\n",
       "      <td>MENS UNLEASHED 114 ICE RED BLACK BLUE 174</td>\n",
       "      <td>MENS UNLEASHED 114 ICE RE</td>\n",
       "      <td>888341994123</td>\n",
       "      <td>899.99</td>\n",
       "      <td>0</td>\n",
       "      <td>MEN344653574</td>\n",
       "      <td>RED - BLACK - BLUE</td>\n",
       "      <td>174</td>\n",
       "      <td>0A359500001</td>\n",
       "      <td>UNLEASHED 114 - ICE</td>\n",
       "      <td>nan</td>\n",
       "    </tr>\n",
       "    <tr>\n",
       "      <th>2</th>\n",
       "      <td>Clothing - Socks</td>\n",
       "      <td>SOCK BONTRAGER RACE NO SHOW MEDIUM 40-42 WHITE...</td>\n",
       "      <td>&lt;NA&gt;</td>\n",
       "      <td>768682264942</td>\n",
       "      <td>24.99</td>\n",
       "      <td>0</td>\n",
       "      <td>430769</td>\n",
       "      <td>NaN</td>\n",
       "      <td>NaN</td>\n",
       "      <td>NaN</td>\n",
       "      <td>&lt;NA&gt;</td>\n",
       "      <td>Clothing</td>\n",
       "    </tr>\n",
       "    <tr>\n",
       "      <th>3</th>\n",
       "      <td>nan</td>\n",
       "      <td>2024 SP - RANGER SS JERSEY SG BLK</td>\n",
       "      <td>2024 SP - RANGER SS JERSE</td>\n",
       "      <td>191972877322</td>\n",
       "      <td>54.95</td>\n",
       "      <td>0</td>\n",
       "      <td>20225630587K</td>\n",
       "      <td>NaN</td>\n",
       "      <td>XL</td>\n",
       "      <td>NaN</td>\n",
       "      <td>&lt;NA&gt;</td>\n",
       "      <td>nan</td>\n",
       "    </tr>\n",
       "    <tr>\n",
       "      <th>4</th>\n",
       "      <td>Ski Hardgoods - Skis</td>\n",
       "      <td>Armada - ARV 88 Ski - 161cm</td>\n",
       "      <td>Armada - ARV 88</td>\n",
       "      <td>842339221875</td>\n",
       "      <td>549.95</td>\n",
       "      <td>1</td>\n",
       "      <td>ARM113048288</td>\n",
       "      <td>NaN</td>\n",
       "      <td>NaN</td>\n",
       "      <td>NaN</td>\n",
       "      <td>&lt;NA&gt;</td>\n",
       "      <td>Ski Hardgoods</td>\n",
       "    </tr>\n",
       "  </tbody>\n",
       "</table>\n",
       "</div>"
      ],
      "text/plain": [
       "               Category                                        Description  \\\n",
       "0                   nan               2024 SP - YTH V3 SOLID HELMET MT WHT   \n",
       "1                   nan          MENS UNLEASHED 114 ICE RED BLACK BLUE 174   \n",
       "2      Clothing - Socks  SOCK BONTRAGER RACE NO SHOW MEDIUM 40-42 WHITE...   \n",
       "3                   nan                  2024 SP - RANGER SS JERSEY SG BLK   \n",
       "4  Ski Hardgoods - Skis                        Armada - ARV 88 Ski - 161cm   \n",
       "\n",
       "                     Keyword           UPC    MSRP  Quantity           SKU  \\\n",
       "0  2024 SP - YTH V3 SOLID HE  191972848216  349.95         0  20227727906T   \n",
       "1  MENS UNLEASHED 114 ICE RE  888341994123  899.99         0  MEN344653574   \n",
       "2                       <NA>  768682264942   24.99         0        430769   \n",
       "3  2024 SP - RANGER SS JERSE  191972877322   54.95         0  20225630587K   \n",
       "4           Armada - ARV 88   842339221875  549.95         1  ARM113048288   \n",
       "\n",
       "                Color Size  StyleNumber            StyleName  ParentCategory  \n",
       "0                 NaN   YL          NaN                 <NA>             nan  \n",
       "1  RED - BLACK - BLUE  174  0A359500001  UNLEASHED 114 - ICE             nan  \n",
       "2                 NaN  NaN          NaN                 <NA>       Clothing   \n",
       "3                 NaN   XL          NaN                 <NA>             nan  \n",
       "4                 NaN  NaN          NaN                 <NA>  Ski Hardgoods   "
      ]
     },
     "execution_count": 6,
     "metadata": {},
     "output_type": "execute_result"
    }
   ],
   "source": [
    "categories = clean_products[\"Category\"].unique\n",
    "clean_products.head()"
   ]
  },
  {
   "cell_type": "code",
   "execution_count": 7,
   "id": "8bc1d3d5",
   "metadata": {},
   "outputs": [
    {
     "data": {
      "text/html": [
       "<div>\n",
       "<style scoped>\n",
       "    .dataframe tbody tr th:only-of-type {\n",
       "        vertical-align: middle;\n",
       "    }\n",
       "\n",
       "    .dataframe tbody tr th {\n",
       "        vertical-align: top;\n",
       "    }\n",
       "\n",
       "    .dataframe thead th {\n",
       "        text-align: right;\n",
       "    }\n",
       "</style>\n",
       "<table border=\"1\" class=\"dataframe\">\n",
       "  <thead>\n",
       "    <tr style=\"text-align: right;\">\n",
       "      <th></th>\n",
       "      <th>Category</th>\n",
       "      <th>Description</th>\n",
       "      <th>Keyword</th>\n",
       "      <th>UPC</th>\n",
       "      <th>MSRP</th>\n",
       "      <th>Quantity</th>\n",
       "      <th>SKU</th>\n",
       "      <th>Color</th>\n",
       "      <th>Size</th>\n",
       "      <th>StyleNumber</th>\n",
       "      <th>StyleName</th>\n",
       "      <th>ParentCategory</th>\n",
       "    </tr>\n",
       "  </thead>\n",
       "  <tbody>\n",
       "    <tr>\n",
       "      <th>121350</th>\n",
       "      <td>nan</td>\n",
       "      <td>ANTHEM 85 MV  25.5</td>\n",
       "      <td>ANTHEM 85 MV  25.5</td>\n",
       "      <td>196222133913</td>\n",
       "      <td>600.00</td>\n",
       "      <td>0</td>\n",
       "      <td>ANT139902685</td>\n",
       "      <td>NaN</td>\n",
       "      <td>25.5</td>\n",
       "      <td>NaN</td>\n",
       "      <td>ANTHEM 85 MV</td>\n",
       "      <td>nan</td>\n",
       "    </tr>\n",
       "    <tr>\n",
       "      <th>121351</th>\n",
       "      <td>nan</td>\n",
       "      <td>2024 SP - 180 NITRO PANT - EXTD SIZES BLK/GRY</td>\n",
       "      <td>2024 SP - 180 NITRO PANT</td>\n",
       "      <td>191972820519</td>\n",
       "      <td>129.95</td>\n",
       "      <td>0</td>\n",
       "      <td>20233843019Y</td>\n",
       "      <td>NaN</td>\n",
       "      <td>34</td>\n",
       "      <td>NaN</td>\n",
       "      <td>&lt;NA&gt;</td>\n",
       "      <td>nan</td>\n",
       "    </tr>\n",
       "    <tr>\n",
       "      <th>121352</th>\n",
       "      <td>nan</td>\n",
       "      <td>Celestia Jacket Carbon 16</td>\n",
       "      <td>Celestia Jacket Carbon 16</td>\n",
       "      <td>888555766325</td>\n",
       "      <td>299.00</td>\n",
       "      <td>0</td>\n",
       "      <td>CEL223639096</td>\n",
       "      <td>Carbon</td>\n",
       "      <td>16</td>\n",
       "      <td>11208</td>\n",
       "      <td>Celestia Jacket</td>\n",
       "      <td>nan</td>\n",
       "    </tr>\n",
       "    <tr>\n",
       "      <th>121353</th>\n",
       "      <td>nan</td>\n",
       "      <td>2016 SP - DEMO LS COMMENCAL LE JERSEY GRY CHAR</td>\n",
       "      <td>2016 SP - DEMO LS COMMENC</td>\n",
       "      <td>884065409998</td>\n",
       "      <td>64.95</td>\n",
       "      <td>0</td>\n",
       "      <td>20136236187R</td>\n",
       "      <td>NaN</td>\n",
       "      <td>M</td>\n",
       "      <td>NaN</td>\n",
       "      <td>&lt;NA&gt;</td>\n",
       "      <td>nan</td>\n",
       "    </tr>\n",
       "    <tr>\n",
       "      <th>121354</th>\n",
       "      <td>nan</td>\n",
       "      <td>2018 SP - FLEXAIR PREEST LE PANT FOR GRN</td>\n",
       "      <td>2018 SP - FLEXAIR PREEST</td>\n",
       "      <td>884065926914</td>\n",
       "      <td>229.95</td>\n",
       "      <td>0</td>\n",
       "      <td>20131174105N</td>\n",
       "      <td>NaN</td>\n",
       "      <td>38</td>\n",
       "      <td>NaN</td>\n",
       "      <td>&lt;NA&gt;</td>\n",
       "      <td>nan</td>\n",
       "    </tr>\n",
       "  </tbody>\n",
       "</table>\n",
       "</div>"
      ],
      "text/plain": [
       "       Category                                     Description  \\\n",
       "121350      nan                              ANTHEM 85 MV  25.5   \n",
       "121351      nan   2024 SP - 180 NITRO PANT - EXTD SIZES BLK/GRY   \n",
       "121352      nan                       Celestia Jacket Carbon 16   \n",
       "121353      nan  2016 SP - DEMO LS COMMENCAL LE JERSEY GRY CHAR   \n",
       "121354      nan        2018 SP - FLEXAIR PREEST LE PANT FOR GRN   \n",
       "\n",
       "                          Keyword           UPC    MSRP  Quantity  \\\n",
       "121350         ANTHEM 85 MV  25.5  196222133913  600.00         0   \n",
       "121351  2024 SP - 180 NITRO PANT   191972820519  129.95         0   \n",
       "121352  Celestia Jacket Carbon 16  888555766325  299.00         0   \n",
       "121353  2016 SP - DEMO LS COMMENC  884065409998   64.95         0   \n",
       "121354  2018 SP - FLEXAIR PREEST   884065926914  229.95         0   \n",
       "\n",
       "                 SKU   Color  Size StyleNumber        StyleName ParentCategory  \n",
       "121350  ANT139902685     NaN  25.5         NaN     ANTHEM 85 MV            nan  \n",
       "121351  20233843019Y     NaN    34         NaN             <NA>            nan  \n",
       "121352  CEL223639096  Carbon    16       11208  Celestia Jacket            nan  \n",
       "121353  20136236187R     NaN     M         NaN             <NA>            nan  \n",
       "121354  20131174105N     NaN    38         NaN             <NA>            nan  "
      ]
     },
     "execution_count": 7,
     "metadata": {},
     "output_type": "execute_result"
    }
   ],
   "source": [
    "clean_products.tail()"
   ]
  },
  {
   "cell_type": "markdown",
   "id": "03a95a9c",
   "metadata": {},
   "source": [
    "It appears that there are a roughly 121,355 entries of the vendor products. This does not show what we have in inventory. This is a complete list of all of the product that we stock. \n",
    "\n",
    "\n",
    "And it looks like there are no duplicated products: "
   ]
  },
  {
   "cell_type": "code",
   "execution_count": 8,
   "id": "2b99a136",
   "metadata": {},
   "outputs": [
    {
     "data": {
      "text/plain": [
       "0"
      ]
     },
     "execution_count": 8,
     "metadata": {},
     "output_type": "execute_result"
    }
   ],
   "source": [
    "clean_products.duplicated().sum()"
   ]
  },
  {
   "cell_type": "code",
   "execution_count": 9,
   "id": "09f1685c",
   "metadata": {},
   "outputs": [
    {
     "data": {
      "text/plain": [
       "Category              0\n",
       "Description           0\n",
       "Keyword             678\n",
       "UPC                2603\n",
       "MSRP                  0\n",
       "Quantity              0\n",
       "SKU                   0\n",
       "Color             42307\n",
       "Size              12889\n",
       "StyleNumber       64232\n",
       "StyleName         48583\n",
       "ParentCategory        0\n",
       "dtype: int64"
      ]
     },
     "execution_count": 9,
     "metadata": {},
     "output_type": "execute_result"
    }
   ],
   "source": [
    "clean_products.isnull().sum()"
   ]
  },
  {
   "cell_type": "markdown",
   "id": "dce69942",
   "metadata": {},
   "source": [
    "There are a significant amount of StyleNumbers, Size and Colors that are missing. That is okay because some of the products may not have an important color, size, or necessary styleNumber. "
   ]
  },
  {
   "cell_type": "code",
   "execution_count": 10,
   "id": "c76c950b",
   "metadata": {},
   "outputs": [
    {
     "data": {
      "text/plain": [
       "Category             270\n",
       "Description        95552\n",
       "Keyword            38614\n",
       "UPC               118736\n",
       "MSRP                1194\n",
       "Quantity              92\n",
       "SKU               121354\n",
       "Color               6586\n",
       "Size                1963\n",
       "StyleNumber         7915\n",
       "StyleName           8507\n",
       "ParentCategory        31\n",
       "dtype: int64"
      ]
     },
     "execution_count": 10,
     "metadata": {},
     "output_type": "execute_result"
    }
   ],
   "source": [
    "clean_products.nunique()"
   ]
  },
  {
   "cell_type": "code",
   "execution_count": 11,
   "id": "210a2bbe",
   "metadata": {},
   "outputs": [
    {
     "name": "stdout",
     "output_type": "stream",
     "text": [
      "<class 'pandas.core.frame.DataFrame'>\n",
      "RangeIndex: 121355 entries, 0 to 121354\n",
      "Data columns (total 12 columns):\n",
      " #   Column          Non-Null Count   Dtype   \n",
      "---  ------          --------------   -----   \n",
      " 0   Category        121355 non-null  category\n",
      " 1   Description     121355 non-null  string  \n",
      " 2   Keyword         120677 non-null  string  \n",
      " 3   UPC             118752 non-null  string  \n",
      " 4   MSRP            121355 non-null  float64 \n",
      " 5   Quantity        121355 non-null  int64   \n",
      " 6   SKU             121355 non-null  object  \n",
      " 7   Color           79048 non-null   category\n",
      " 8   Size            108466 non-null  category\n",
      " 9   StyleNumber     57123 non-null   object  \n",
      " 10  StyleName       72772 non-null   string  \n",
      " 11  ParentCategory  121355 non-null  category\n",
      "dtypes: category(4), float64(1), int64(1), object(2), string(4)\n",
      "memory usage: 8.6+ MB\n"
     ]
    }
   ],
   "source": [
    "clean_products.info()"
   ]
  },
  {
   "cell_type": "code",
   "execution_count": 12,
   "id": "2a7a1db2",
   "metadata": {},
   "outputs": [
    {
     "name": "stdout",
     "output_type": "stream",
     "text": [
      "['nan', 'Clothing - Socks', 'Ski Hardgoods - Skis', 'Accessories - Summer - Clothing - Gloves ', 'Clothing - Winter - Outerwear', ..., 'Bikes - Electric - Womens', 'Accessories - Summer - Storage', 'Bikes - Trailer Bike', 'Clothing', 'Rental']\n",
      "Length: 270\n",
      "Categories (270, object): ['Acccessories - Winter - Beanies', 'Accessories - Summer', 'Accessories - Summer - Bags', 'Accessories - Summer - Baskets', ..., 'X-Country Hardgoods - Boots', 'X-Country Hardgoods - Poles', 'X-Country Hardgoods - Skis', 'nan']\n",
      "95552\n"
     ]
    }
   ],
   "source": [
    "#lets look at the category column as a way to get insight on the products\n",
    "unique_counts = clean_products['Category'].unique()\n",
    "print(unique_counts)\n",
    "# clean_products['Category'].nunique()\n",
    "\n",
    "print(clean_products['Description'].nunique())"
   ]
  },
  {
   "cell_type": "code",
   "execution_count": 13,
   "id": "5f3a6b8a",
   "metadata": {},
   "outputs": [
    {
     "data": {
      "image/png": "[encoded data removed]",
      "text/plain": [
       "<Figure size 640x480 with 1 Axes>"
      ]
     },
     "metadata": {},
     "output_type": "display_data"
    }
   ],
   "source": [
    "# Create the countplot, sorting bars by count\n",
    "bar_plot = sns.countplot(\n",
    "    x='ParentCategory', data=clean_products, palette='tab10', order=clean_products['ParentCategory'].value_counts().index\n",
    ")\n",
    "\n",
    "# Rotate x-axis labels for readability\n",
    "plt.xticks(rotation=45, ha='right')  # Adjust rotation and alignment as needed\n",
    "\n",
    "# Reduce label font size\n",
    "plt.tick_params(axis='x', labelsize=8)  # Adjust font size as needed\n",
    "\n",
    "# Improve spacing and visual clarity\n",
    "plt.tight_layout()\n",
    "\n",
    "plt.show()"
   ]
  },
  {
   "cell_type": "markdown",
   "id": "2f90ac23",
   "metadata": {},
   "source": [
    "There are so many 'nan' categorized products that I am unable to understand the distribution of products. Because most of the \"nan\" categorized products are old or were not purchased (sometimes we put products in the system that we never buy), I have decided to remove them. "
   ]
  },
  {
   "cell_type": "code",
   "execution_count": 14,
   "id": "f6328c47",
   "metadata": {},
   "outputs": [
    {
     "name": "stdout",
     "output_type": "stream",
     "text": [
      "  Category                                        Description  \\\n",
      "0      nan               2024 SP - YTH V3 SOLID HELMET MT WHT   \n",
      "1      nan          MENS UNLEASHED 114 ICE RED BLACK BLUE 174   \n",
      "3      nan                  2024 SP - RANGER SS JERSEY SG BLK   \n",
      "5      nan  Boys Boys' Burton Barnone Jacket Mtn Camo / Re...   \n",
      "7      nan                                  Foxy Bib Quartz S   \n",
      "\n",
      "                     Keyword           UPC    MSRP  Quantity           SKU  \\\n",
      "0  2024 SP - YTH V3 SOLID HE  191972848216  349.95         0  20227727906T   \n",
      "1  MENS UNLEASHED 114 ICE RE  888341994123  899.99         0  MEN344653574   \n",
      "3  2024 SP - RANGER SS JERSE  191972877322   54.95         0  20225630587K   \n",
      "5  Boys Boys' Burton Barnone  190450277968  149.95         0  BOY40647972S   \n",
      "7          Foxy Bib Quartz S  605235862425  430.00         0   FOX1482959S   \n",
      "\n",
      "                Color Size  StyleNumber                    StyleName  \\\n",
      "0                 NaN   YL          NaN                         <NA>   \n",
      "1  RED - BLACK - BLUE  174  0A359500001          UNLEASHED 114 - ICE   \n",
      "3                 NaN   XL          NaN                         <NA>   \n",
      "5    Mtn Camo / Resin    S     18917101  Boys' Burton Barnone Jacket   \n",
      "7              Quartz    S         4410                     Foxy Bib   \n",
      "\n",
      "  ParentCategory  \n",
      "0           <NA>  \n",
      "1           <NA>  \n",
      "3           <NA>  \n",
      "5           <NA>  \n",
      "7           <NA>  \n"
     ]
    }
   ],
   "source": [
    "clean_products[\"ParentCategory\"] = clean_products[\"ParentCategory\"].astype(\"str\")\n",
    "clean_products[\"ParentCategory\"] = clean_products[\"ParentCategory\"].replace([\"nan\", \"\", \"N/A\", \"<NA>\"], pd.NA)\n",
    "\n",
    "dropped_products = clean_products.loc[~clean_products.index.isin(clean_products.dropna(subset=[\"ParentCategory\"]).index)]\n",
    "print(dropped_products.head())"
   ]
  },
  {
   "cell_type": "code",
   "execution_count": 16,
   "id": "afecbba7",
   "metadata": {},
   "outputs": [
    {
     "ename": "TypeError",
     "evalue": "tuple indices must be integers or slices, not str",
     "output_type": "error",
     "traceback": [
      "\u001b[0;31m---------------------------------------------------------------------------\u001b[0m",
      "\u001b[0;31mTypeError\u001b[0m                                 Traceback (most recent call last)",
      "Cell \u001b[0;32mIn[16], line 5\u001b[0m\n\u001b[1;32m      1\u001b[0m df_products \u001b[38;5;241m=\u001b[39m clean_products\u001b[38;5;241m.\u001b[39mdropna(subset\u001b[38;5;241m=\u001b[39m[\u001b[38;5;124m\"\u001b[39m\u001b[38;5;124mParentCategory\u001b[39m\u001b[38;5;124m\"\u001b[39m]),\n\u001b[1;32m      3\u001b[0m \u001b[38;5;66;03m# Create the countplot, sorting bars by count\u001b[39;00m\n\u001b[1;32m      4\u001b[0m bar_plot \u001b[38;5;241m=\u001b[39m sns\u001b[38;5;241m.\u001b[39mcountplot(\n\u001b[0;32m----> 5\u001b[0m     x\u001b[38;5;241m=\u001b[39m\u001b[38;5;124m'\u001b[39m\u001b[38;5;124mParentCategory\u001b[39m\u001b[38;5;124m'\u001b[39m, data\u001b[38;5;241m=\u001b[39mdf_products, palette\u001b[38;5;241m=\u001b[39m\u001b[38;5;124m'\u001b[39m\u001b[38;5;124mtab10\u001b[39m\u001b[38;5;124m'\u001b[39m, order\u001b[38;5;241m=\u001b[39mdf_products[\u001b[38;5;124m'\u001b[39m\u001b[38;5;124mParentCategory\u001b[39m\u001b[38;5;124m'\u001b[39m]\u001b[38;5;241m.\u001b[39mvalue_counts()\u001b[38;5;241m.\u001b[39mindex\n\u001b[1;32m      6\u001b[0m )\n\u001b[1;32m      8\u001b[0m \u001b[38;5;66;03m# Rotate x-axis labels for readability\u001b[39;00m\n\u001b[1;32m      9\u001b[0m plt\u001b[38;5;241m.\u001b[39mxticks(rotation\u001b[38;5;241m=\u001b[39m\u001b[38;5;241m45\u001b[39m, ha\u001b[38;5;241m=\u001b[39m\u001b[38;5;124m'\u001b[39m\u001b[38;5;124mright\u001b[39m\u001b[38;5;124m'\u001b[39m)  \u001b[38;5;66;03m# Adjust rotation and alignment as needed\u001b[39;00m\n",
      "\u001b[0;31mTypeError\u001b[0m: tuple indices must be integers or slices, not str"
     ]
    }
   ],
   "source": [
    "df_products = clean_products.dropna(subset=[\"ParentCategory\"]),\n",
    "\n",
    "# Create the countplot, sorting bars by count\n",
    "bar_plot = sns.countplot(\n",
    "    x='ParentCategory', data=df_products, palette='tab10', order=df_products['ParentCategory'].value_counts().index\n",
    ")\n",
    "\n",
    "# Rotate x-axis labels for readability\n",
    "plt.xticks(rotation=45, ha='right')  # Adjust rotation and alignment as needed\n",
    "\n",
    "# Reduce label font size\n",
    "plt.tick_params(axis='x', labelsize=8)  # Adjust font size as needed\n",
    "\n",
    "# Improve spacing and visual clarity\n",
    "plt.tight_layout()\n",
    "\n",
    "plt.show()"
   ]
  },
  {
   "cell_type": "code",
   "execution_count": null,
   "id": "7e921df9",
   "metadata": {},
   "outputs": [],
   "source": [
    "sns.pairplot(df_products, hue = 'ParentCategory')"
   ]
  },
  {
   "cell_type": "code",
   "execution_count": null,
   "id": "951eec0b",
   "metadata": {},
   "outputs": [],
   "source": [
    "df_products.to_csv('../data/processed/products.csv', index=False, encoding='utf-8')\n",
    "dropped_products.to_csv('../data/processed/no-categories-products.csv', index=False, encoding='utf-8')"
   ]
  },
  {
   "cell_type": "markdown",
   "id": "cbea0791",
   "metadata": {},
   "source": [
    "# 1.7 Summary<a id='1.7_Summary'></a>"
   ]
  },
  {
   "cell_type": "markdown",
   "id": "414494d8",
   "metadata": {},
   "source": [
    "In reviewing the data, there were 11 columns and 121,355 rows that I decided would be useful. For the time being, I dropped rows that had \"nan\" as a category as I believe that data is either old or messy. I will be focusing on the 121,355 product that have categories for this project and later I can look at the uncatetgorized products once I have a category classification scheme up and running. \n",
    "\n",
    "There are a number of missing category values for the products, which makes it hard to run reports and see which categories and types of products sell the best at the store. In order to update the categories to a new schema that will make reporting much more straightforward, it is necessary to view the pattern in the missing category data, as well as the accuracy in the category calssification. Are the products in the correct category? And can we fix it with automatic classification. Let's find out!"
   ]
  }
 ],
 "metadata": {
  "kernelspec": {
   "display_name": "Python 3 (ipykernel)",
   "language": "python",
   "name": "python3"
  },
  "language_info": {
   "codemirror_mode": {
    "name": "ipython",
    "version": 3
   },
   "file_extension": ".py",
   "mimetype": "text/x-python",
   "name": "python",
   "nbconvert_exporter": "python",
   "pygments_lexer": "ipython3",
   "version": "3.11.4"
  }
 },
 "nbformat": 4,
 "nbformat_minor": 5
}
