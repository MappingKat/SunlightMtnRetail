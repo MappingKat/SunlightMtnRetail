{
 "cells": [
  {
   "cell_type": "code",
   "execution_count": null,
   "id": "d055c094",
   "metadata": {},
   "outputs": [],
   "source": [
    "from sklearn.cluster import KMeans\n",
    "from sklearn.preprocessing import OneHotEncoder\n",
    "\n",
    "# Create a OneHotEncoder object with sparse_output argument\n",
    "encoder = OneHotEncoder(sparse_output=False)\n",
    "\n",
    "# Fit the encoder on the Brand feature\n",
    "encoded_brand = encoder.fit_transform(df[['Brand']])\n",
    "\n",
    "# Combine encoded Brand with numerical features (assuming you have some)\n",
    "combined_features = pd.concat([encoded_brand, df[['Category']]], axis=1)\n",
    "\n",
    "# Use combined_features for KMeans clustering\n",
    "kmeans = KMeans(n_clusters=num_clusters, random_state=42)\n",
    "kmeans.fit(combined_features)"
   ]
  },
  {
   "cell_type": "code",
   "execution_count": null,
   "id": "a356702a",
   "metadata": {},
   "outputs": [],
   "source": [
    "async def get_weather(city):\n",
    "    async with python_weather.Client(unit=python_weather.IMPERIAL) as client:\n",
    "        weather = await client.get(city)\n",
    "        return weather\n",
    "\n",
    "# Assuming you have a DataFrame 'historic_data' with a 'date' column\n",
    "sales['weather_type'] = None  # Initialize the new column\n",
    "sales['SaleDate'] = pd.to_datetime(sales['SaleDate'])\n",
    "# Loop through each row in the DataFrame\n",
    "for index, row in sales.iterrows():\n",
    "    date = row['SaleDate']\n",
    "    \n",
    "    # Convert the date to a string in the format used by the weather API\n",
    "    date_str = date.strftime('%Y-%m-%d')\n",
    "    \n",
    "    # Use the get_weather function to fetch weather data for the date\n",
    "    weather = asyncio.run(get_weather('Glenwood Springs'))  # Replace 'New York' with your city\n",
    "\n",
    "    # Extract the weather information you are interested in (e.g., description, main, etc.)\n",
    "    weather_type = weather.current.weather['description']\n",
    "    \n",
    "    # Assign the weather type to the corresponding row in the DataFrame\n",
    "    sales.at[index, 'weather_type'] = weather_type\n",
    "\n",
    "# Display the updated DataFrame\n",
    "sales.head()"
   ]
  },
  {
   "cell_type": "code",
   "execution_count": 2,
   "id": "2db08c48",
   "metadata": {},
   "outputs": [
    {
     "ename": "NameError",
     "evalue": "name 'sales' is not defined",
     "output_type": "error",
     "traceback": [
      "\u001b[0;31m---------------------------------------------------------------------------\u001b[0m",
      "\u001b[0;31mNameError\u001b[0m                                 Traceback (most recent call last)",
      "Cell \u001b[0;32mIn[2], line 8\u001b[0m\n\u001b[1;32m      5\u001b[0m     \u001b[38;5;28;01melse\u001b[39;00m:\n\u001b[1;32m      6\u001b[0m         \u001b[38;5;28;01mreturn\u001b[39;00m \u001b[38;5;241m0\u001b[39m\n\u001b[0;32m----> 8\u001b[0m sales[\u001b[38;5;124m'\u001b[39m\u001b[38;5;124mholidays\u001b[39m\u001b[38;5;124m'\u001b[39m] \u001b[38;5;241m=\u001b[39m sales[\u001b[38;5;124m'\u001b[39m\u001b[38;5;124mSaleDate\u001b[39m\u001b[38;5;124m'\u001b[39m]\u001b[38;5;241m.\u001b[39mapply(is_holiday)\n",
      "\u001b[0;31mNameError\u001b[0m: name 'sales' is not defined"
     ]
    }
   ],
   "source": [
    "def is_holiday(x): \n",
    "    usa_holidays = holidays.UnitedStates()  # Use 'UnitedStates' instead of 'country_holidays('USA')'\n",
    "    if x in usa_holidays:  # Check if the date is in the list of holidays\n",
    "        return 1\n",
    "    else:\n",
    "        return 0\n",
    "\n",
    "sales['holidays'] = sales['SaleDate'].apply(is_holiday) "
   ]
  },
  {
   "cell_type": "code",
   "execution_count": null,
   "id": "afcf1ea0",
   "metadata": {},
   "outputs": [],
   "source": []
  }
 ],
 "metadata": {
  "kernelspec": {
   "display_name": "Python 3 (ipykernel)",
   "language": "python",
   "name": "python3"
  },
  "language_info": {
   "codemirror_mode": {
    "name": "ipython",
    "version": 3
   },
   "file_extension": ".py",
   "mimetype": "text/x-python",
   "name": "python",
   "nbconvert_exporter": "python",
   "pygments_lexer": "ipython3",
   "version": "3.11.4"
  }
 },
 "nbformat": 4,
 "nbformat_minor": 5
}
