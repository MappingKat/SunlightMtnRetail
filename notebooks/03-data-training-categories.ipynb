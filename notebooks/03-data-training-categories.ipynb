{
 "cells": [
  {
   "cell_type": "markdown",
   "id": "36a62712",
   "metadata": {},
   "source": [
    "# 3. Pre-processing and Training Data Development\n",
    "\n",
    "* [3 Training Data](#2_Data_training_introduction)"
   ]
  },
  {
   "cell_type": "code",
   "execution_count": 25,
   "id": "5b231a6e",
   "metadata": {},
   "outputs": [
    {
     "name": "stdout",
     "output_type": "stream",
     "text": [
      "Loaded Libraries\n"
     ]
    }
   ],
   "source": [
    "import pandas as pd\n",
    "from sklearn.model_selection import train_test_split\n",
    "from sklearn.preprocessing import StandardScaler, OneHotEncoder\n",
    "from sklearn.compose import ColumnTransformer\n",
    "from sklearn.pipeline import Pipeline\n",
    "from sklearn.impute import SimpleImputer\n",
    "from sklearn.ensemble import RandomForestClassifier\n",
    "print(\"Loaded Libraries\")"
   ]
  },
  {
   "cell_type": "code",
   "execution_count": 27,
   "id": "7babacb9",
   "metadata": {},
   "outputs": [],
   "source": [
    "# Load the data\n",
    "products = pd.read_csv(\"../data/processed/products.csv\")\n",
    "\n",
    "# Convert non-categorical columns to categorical format\n",
    "products['Brand'] = products['Brand'].astype('category')\n",
    "products['Color'] = products['Color'].astype('string')\n",
    "products['Size'] = products['Size'].astype('string')\n",
    "products['Description'] = products['Description'].astype('string')  # Corrected column\n",
    "products['ParentCategory'] = products['ParentCategory'].astype('string')  # Added column\n",
    "products['Category'] = products['Category'].astype('category')  # Encoding target variable\n",
    "\n",
    "# Drop rows with missing values\n",
    "products.dropna(inplace=True)"
   ]
  },
  {
   "cell_type": "code",
   "execution_count": 28,
   "id": "7a634112",
   "metadata": {},
   "outputs": [],
   "source": [
    "# Define numerical and categorical features\n",
    "numerical_features = ['MSRP']\n",
    "categorical_features = ['Brand', 'Size', 'Color', 'Description', 'ParentCategory']"
   ]
  },
  {
   "cell_type": "code",
   "execution_count": 29,
   "id": "d5705d78",
   "metadata": {},
   "outputs": [],
   "source": [
    "# Define preprocessing steps\n",
    "numeric_transformer = Pipeline(steps=[\n",
    "    ('scaler', StandardScaler())])  # No need for imputation since we dropped missing values\n",
    "\n",
    "categorical_transformer = Pipeline(steps=[\n",
    "    ('imputer', SimpleImputer(strategy='constant', fill_value='missing')),\n",
    "    ('onehot', OneHotEncoder(handle_unknown='ignore'))])\n",
    "\n",
    "preprocessor = ColumnTransformer(\n",
    "    transformers=[\n",
    "        ('num', numeric_transformer, numerical_features),\n",
    "        ('cat', categorical_transformer, categorical_features)])"
   ]
  },
  {
   "cell_type": "code",
   "execution_count": 30,
   "id": "6b9c04d7",
   "metadata": {},
   "outputs": [
    {
     "data": {
      "text/plain": [
       "Category\n",
       "Accessories - Winter - Gloves & Mittens               551\n",
       "Accessories - Winter - Socks                          256\n",
       "Clothing - Winter - Outerwear - Mens                  244\n",
       "Accessories - Winter - Hats, Hoods, Collars           217\n",
       "Snowboard Hardgoods - Boots - Men                     162\n",
       "                                                     ... \n",
       "Lift Tickets                                            0\n",
       "Logo Merchandise - Clothing                             0\n",
       "Logo Merchandise - Clothing - Crewneck Sweatshirts      0\n",
       "Accessories - Summer - Waterbottles & Cages             0\n",
       "Acccessories - Winter - Beanies                         0\n",
       "Name: count, Length: 269, dtype: int64"
      ]
     },
     "execution_count": 30,
     "metadata": {},
     "output_type": "execute_result"
    }
   ],
   "source": [
    "# Define X and y\n",
    "X = products.drop(columns=['Category']) \n",
    "y = products['Category']"
   ]
  },
  {
   "cell_type": "code",
   "execution_count": 34,
   "id": "2264264f",
   "metadata": {},
   "outputs": [
    {
     "data": {
      "text/html": [
       "<div>\n",
       "<style scoped>\n",
       "    .dataframe tbody tr th:only-of-type {\n",
       "        vertical-align: middle;\n",
       "    }\n",
       "\n",
       "    .dataframe tbody tr th {\n",
       "        vertical-align: top;\n",
       "    }\n",
       "\n",
       "    .dataframe thead th {\n",
       "        text-align: right;\n",
       "    }\n",
       "</style>\n",
       "<table border=\"1\" class=\"dataframe\">\n",
       "  <thead>\n",
       "    <tr style=\"text-align: right;\">\n",
       "      <th></th>\n",
       "      <th>Brand</th>\n",
       "      <th>Description</th>\n",
       "      <th>Keyword</th>\n",
       "      <th>UPC</th>\n",
       "      <th>MSRP</th>\n",
       "      <th>Quantity</th>\n",
       "      <th>SKU</th>\n",
       "      <th>Color</th>\n",
       "      <th>Size</th>\n",
       "      <th>StyleNumber</th>\n",
       "      <th>StyleName</th>\n",
       "      <th>ParentCategory</th>\n",
       "    </tr>\n",
       "  </thead>\n",
       "  <tbody>\n",
       "    <tr>\n",
       "      <th>3</th>\n",
       "      <td>Obermeyer</td>\n",
       "      <td>Jette Jacket Glacier melt 12</td>\n",
       "      <td>Obermeyer</td>\n",
       "      <td>888555767674</td>\n",
       "      <td>299.0</td>\n",
       "      <td>1</td>\n",
       "      <td>JET243078952</td>\n",
       "      <td>Glacier melt</td>\n",
       "      <td>12</td>\n",
       "      <td>11210</td>\n",
       "      <td>Jette Jacket</td>\n",
       "      <td>Clothing</td>\n",
       "    </tr>\n",
       "    <tr>\n",
       "      <th>10</th>\n",
       "      <td>Obermeyer</td>\n",
       "      <td>Obermeyer - Keystone Pant - Black - LS</td>\n",
       "      <td>Obermeyer</td>\n",
       "      <td>888555573336</td>\n",
       "      <td>109.5</td>\n",
       "      <td>0</td>\n",
       "      <td>KEY19725340S</td>\n",
       "      <td>Black</td>\n",
       "      <td>LS</td>\n",
       "      <td>25102</td>\n",
       "      <td>Keystone Pant</td>\n",
       "      <td>Clothing</td>\n",
       "    </tr>\n",
       "    <tr>\n",
       "      <th>15</th>\n",
       "      <td>Nordica</td>\n",
       "      <td>Nordica - Speedmachine 75 W Ski Boots - Black/...</td>\n",
       "      <td>Nordica</td>\n",
       "      <td>888341789040</td>\n",
       "      <td>400.0</td>\n",
       "      <td>0</td>\n",
       "      <td>SPE39922955</td>\n",
       "      <td>Black - Anthracite - Purple</td>\n",
       "      <td>23.5</td>\n",
       "      <td>050H4803735</td>\n",
       "      <td>SPEEDMACHINE 75 W</td>\n",
       "      <td>Ski Hardgoods</td>\n",
       "    </tr>\n",
       "    <tr>\n",
       "      <th>18</th>\n",
       "      <td>Smith Optics</td>\n",
       "      <td>Smith - I/O MAG Goggles - Sunrise, ChromaPop S...</td>\n",
       "      <td>Smith Optics</td>\n",
       "      <td>716736827513</td>\n",
       "      <td>270.0</td>\n",
       "      <td>2</td>\n",
       "      <td>IOM31217987S</td>\n",
       "      <td>Sunrise | ChromaPop Sun Black</td>\n",
       "      <td>OS</td>\n",
       "      <td>M00427</td>\n",
       "      <td>I/O MAG</td>\n",
       "      <td>Accessories</td>\n",
       "    </tr>\n",
       "    <tr>\n",
       "      <th>21</th>\n",
       "      <td>Nordica</td>\n",
       "      <td>Santa Ana 93 Flat Blue - Rasperry 158</td>\n",
       "      <td>Nordica</td>\n",
       "      <td>888341757582</td>\n",
       "      <td>750.0</td>\n",
       "      <td>0</td>\n",
       "      <td>SAN291544758</td>\n",
       "      <td>Blue - Rasperry</td>\n",
       "      <td>158</td>\n",
       "      <td>0A031800001</td>\n",
       "      <td>SANTA ANA 93 (flat)</td>\n",
       "      <td>Ski Hardgoods</td>\n",
       "    </tr>\n",
       "  </tbody>\n",
       "</table>\n",
       "</div>"
      ],
      "text/plain": [
       "           Brand                                        Description  \\\n",
       "3      Obermeyer                       Jette Jacket Glacier melt 12   \n",
       "10     Obermeyer             Obermeyer - Keystone Pant - Black - LS   \n",
       "15       Nordica  Nordica - Speedmachine 75 W Ski Boots - Black/...   \n",
       "18  Smith Optics  Smith - I/O MAG Goggles - Sunrise, ChromaPop S...   \n",
       "21       Nordica              Santa Ana 93 Flat Blue - Rasperry 158   \n",
       "\n",
       "         Keyword           UPC   MSRP  Quantity           SKU  \\\n",
       "3      Obermeyer  888555767674  299.0         1  JET243078952   \n",
       "10     Obermeyer  888555573336  109.5         0  KEY19725340S   \n",
       "15       Nordica  888341789040  400.0         0   SPE39922955   \n",
       "18  Smith Optics  716736827513  270.0         2  IOM31217987S   \n",
       "21       Nordica  888341757582  750.0         0  SAN291544758   \n",
       "\n",
       "                            Color  Size  StyleNumber            StyleName  \\\n",
       "3                    Glacier melt    12        11210         Jette Jacket   \n",
       "10                          Black    LS        25102        Keystone Pant   \n",
       "15    Black - Anthracite - Purple  23.5  050H4803735    SPEEDMACHINE 75 W   \n",
       "18  Sunrise | ChromaPop Sun Black    OS       M00427              I/O MAG   \n",
       "21                Blue - Rasperry   158  0A031800001  SANTA ANA 93 (flat)   \n",
       "\n",
       "    ParentCategory  \n",
       "3        Clothing   \n",
       "10       Clothing   \n",
       "15  Ski Hardgoods   \n",
       "18    Accessories   \n",
       "21  Ski Hardgoods   "
      ]
     },
     "execution_count": 34,
     "metadata": {},
     "output_type": "execute_result"
    }
   ],
   "source": [
    "# Define X and y\n",
    "X = products.drop(columns=['Category']) \n",
    "X.head()"
   ]
  },
  {
   "cell_type": "code",
   "execution_count": 31,
   "id": "046ae000",
   "metadata": {},
   "outputs": [
    {
     "data": {
      "text/plain": [
       "Category\n",
       "Accessories - Winter - Gloves & Mittens               551\n",
       "Accessories - Winter - Socks                          256\n",
       "Clothing - Winter - Outerwear - Mens                  244\n",
       "Accessories - Winter - Hats, Hoods, Collars           217\n",
       "Snowboard Hardgoods - Boots - Men                     162\n",
       "                                                     ... \n",
       "Lift Tickets                                            0\n",
       "Logo Merchandise - Clothing                             0\n",
       "Logo Merchandise - Clothing - Crewneck Sweatshirts      0\n",
       "Accessories - Summer - Waterbottles & Cages             0\n",
       "Acccessories - Winter - Beanies                         0\n",
       "Name: count, Length: 269, dtype: int64"
      ]
     },
     "execution_count": 31,
     "metadata": {},
     "output_type": "execute_result"
    }
   ],
   "source": [
    "class_counts = products['Category'].value_counts()\n",
    "class_counts"
   ]
  },
  {
   "cell_type": "code",
   "execution_count": 36,
   "id": "5a102dcc",
   "metadata": {},
   "outputs": [
    {
     "name": "stdout",
     "output_type": "stream",
     "text": [
      "0      12.423901\n",
      "1       5.772266\n",
      "2       5.501691\n",
      "3       4.892897\n",
      "4       3.652762\n",
      "         ...    \n",
      "264     0.000000\n",
      "265     0.000000\n",
      "266     0.000000\n",
      "267     0.000000\n",
      "268     0.000000\n",
      "Length: 269, dtype: float64\n"
     ]
    }
   ],
   "source": [
    "class_percentages = pd.Series([(x / products.shape[0]) * 100.00 for x in class_counts])\n",
    "print(class_percentages)"
   ]
  },
  {
   "cell_type": "code",
   "execution_count": 39,
   "id": "f61e0284",
   "metadata": {},
   "outputs": [],
   "source": [
    "# Split data into training and testing sets (60% training, 40% testing)\n",
    "X_train, X_test, y_train, y_test = train_test_split(X, y, test_size=0.4, random_state=42)"
   ]
  },
  {
   "cell_type": "code",
   "execution_count": 40,
   "id": "e1f071be",
   "metadata": {},
   "outputs": [
    {
     "name": "stdout",
     "output_type": "stream",
     "text": [
      "Model Accuracy: 0.7925591882750845\n"
     ]
    }
   ],
   "source": [
    "# Train the model\n",
    "pipeline.fit(X_train, y_train)\n",
    "\n",
    "# Evaluate the model\n",
    "accuracy = pipeline.score(X_test, y_test)\n",
    "print(\"Model Accuracy:\", accuracy)"
   ]
  },
  {
   "cell_type": "markdown",
   "id": "f1523097",
   "metadata": {},
   "source": [
    "## Summary\n",
    "\n",
    "The provided code loads a dataset of products, ensuring appropriate data types for categorical and numerical features. It handles missing values by dropping rows with NaN entries. Preprocessing steps are defined for scaling numerical features and encoding categorical features using one-hot encoding after imputation. The dataset is then split into training and testing sets. A machine learning pipeline is constructed, incorporating preprocessing and a RandomForestClassifier model. The model is trained on the training data and evaluated for accuracy on the testing data, aiming to classify products into categories based on various features. Overall, the code orchestrates data preprocessing, model training, and evaluation to classify product categories effectively.\n",
    "\n",
    "It appears that the first model test has an accuracy of 79%. I think we can do much better. Stay tuned for the next section!"
   ]
  },
  {
   "cell_type": "code",
   "execution_count": 43,
   "id": "9be1242d",
   "metadata": {},
   "outputs": [
    {
     "name": "stdout",
     "output_type": "stream",
     "text": [
      "Stored 'products' (DataFrame)\n",
      "Stored 'X_train' (DataFrame)\n",
      "Stored 'X_test' (DataFrame)\n",
      "Stored 'y_train' (Series)\n",
      "Stored 'y_test' (Series)\n"
     ]
    }
   ],
   "source": [
    "%store products\n",
    "%store X_train\n",
    "%store X_test\n",
    "%store y_train\n",
    "%store y_test"
   ]
  }
 ],
 "metadata": {
  "kernelspec": {
   "display_name": "Python 3 (ipykernel)",
   "language": "python",
   "name": "python3"
  },
  "language_info": {
   "codemirror_mode": {
    "name": "ipython",
    "version": 3
   },
   "file_extension": ".py",
   "mimetype": "text/x-python",
   "name": "python",
   "nbconvert_exporter": "python",
   "pygments_lexer": "ipython3",
   "version": "3.11.4"
  }
 },
 "nbformat": 4,
 "nbformat_minor": 5
}
